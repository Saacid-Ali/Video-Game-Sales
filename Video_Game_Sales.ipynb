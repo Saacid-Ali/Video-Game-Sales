{
 "cells": [
  {
   "cell_type": "code",
   "execution_count": 1,
   "metadata": {},
   "outputs": [
    {
     "data": {
      "text/html": [
       "        <script type=\"text/javascript\">\n",
       "        window.PlotlyConfig = {MathJaxConfig: 'local'};\n",
       "        if (window.MathJax) {MathJax.Hub.Config({SVG: {font: \"STIX-Web\"}});}\n",
       "        if (typeof require !== 'undefined') {\n",
       "        require.undef(\"plotly\");\n",
       "        requirejs.config({\n",
       "            paths: {\n",
       "                'plotly': ['https://cdn.plot.ly/plotly-latest.min']\n",
       "            }\n",
       "        });\n",
       "        require(['plotly'], function(Plotly) {\n",
       "            window._Plotly = Plotly;\n",
       "        });\n",
       "        }\n",
       "        </script>\n",
       "        "
      ]
     },
     "metadata": {},
     "output_type": "display_data"
    }
   ],
   "source": [
    "#Importing Libraries Used\n",
    "import pandas as pd\n",
    "import numpy as np\n",
    "import matplotlib as mpl\n",
    "import matplotlib.pyplot as plt\n",
    "import plotly.express as px\n",
    "import plotly as py\n",
    "import plotly.graph_objects as go\n",
    "from plotly.offline import init_notebook_mode,iplot\n",
    "init_notebook_mode(connected=True)\n",
    "\n"
   ]
  },
  {
   "cell_type": "code",
   "execution_count": 2,
   "metadata": {},
   "outputs": [],
   "source": [
    "#Creating Dataframe\n",
    "data = pd.read_csv('VGSales.csv', encoding='latin1')\n",
    "VGS = pd.DataFrame(data)\n",
    "\n"
   ]
  },
  {
   "cell_type": "code",
   "execution_count": 3,
   "metadata": {},
   "outputs": [
    {
     "data": {
      "text/html": [
       "<div>\n",
       "<style scoped>\n",
       "    .dataframe tbody tr th:only-of-type {\n",
       "        vertical-align: middle;\n",
       "    }\n",
       "\n",
       "    .dataframe tbody tr th {\n",
       "        vertical-align: top;\n",
       "    }\n",
       "\n",
       "    .dataframe thead th {\n",
       "        text-align: right;\n",
       "    }\n",
       "</style>\n",
       "<table border=\"1\" class=\"dataframe\">\n",
       "  <thead>\n",
       "    <tr style=\"text-align: right;\">\n",
       "      <th></th>\n",
       "      <th>Name</th>\n",
       "      <th>Platform</th>\n",
       "      <th>Year_of_Release</th>\n",
       "      <th>Genre</th>\n",
       "      <th>Publisher</th>\n",
       "      <th>NA_Sales</th>\n",
       "      <th>EU_Sales</th>\n",
       "      <th>JP_Sales</th>\n",
       "      <th>Other_Sales</th>\n",
       "      <th>Global_Sales</th>\n",
       "    </tr>\n",
       "  </thead>\n",
       "  <tbody>\n",
       "    <tr>\n",
       "      <th>0</th>\n",
       "      <td>Grand Theft Auto V</td>\n",
       "      <td>PS4</td>\n",
       "      <td>2014</td>\n",
       "      <td>Action</td>\n",
       "      <td>Rockstar Games</td>\n",
       "      <td>6.06</td>\n",
       "      <td>9.71</td>\n",
       "      <td>0.60</td>\n",
       "      <td>3.02</td>\n",
       "      <td>19.39</td>\n",
       "    </tr>\n",
       "    <tr>\n",
       "      <th>1</th>\n",
       "      <td>Call of Duty: Black Ops 3</td>\n",
       "      <td>PS4</td>\n",
       "      <td>2015</td>\n",
       "      <td>Shooter</td>\n",
       "      <td>Activision</td>\n",
       "      <td>6.18</td>\n",
       "      <td>6.05</td>\n",
       "      <td>0.41</td>\n",
       "      <td>2.44</td>\n",
       "      <td>15.09</td>\n",
       "    </tr>\n",
       "    <tr>\n",
       "      <th>2</th>\n",
       "      <td>Call of Duty: WWII</td>\n",
       "      <td>PS4</td>\n",
       "      <td>2017</td>\n",
       "      <td>Shooter</td>\n",
       "      <td>Activision</td>\n",
       "      <td>4.67</td>\n",
       "      <td>6.21</td>\n",
       "      <td>0.40</td>\n",
       "      <td>2.12</td>\n",
       "      <td>13.40</td>\n",
       "    </tr>\n",
       "    <tr>\n",
       "      <th>3</th>\n",
       "      <td>FIFA 18</td>\n",
       "      <td>PS4</td>\n",
       "      <td>2017</td>\n",
       "      <td>Sports</td>\n",
       "      <td>EA Sports</td>\n",
       "      <td>1.27</td>\n",
       "      <td>8.64</td>\n",
       "      <td>0.15</td>\n",
       "      <td>1.73</td>\n",
       "      <td>11.80</td>\n",
       "    </tr>\n",
       "    <tr>\n",
       "      <th>4</th>\n",
       "      <td>FIFA 17</td>\n",
       "      <td>PS4</td>\n",
       "      <td>2016</td>\n",
       "      <td>Sports</td>\n",
       "      <td>Electronic Arts</td>\n",
       "      <td>1.26</td>\n",
       "      <td>7.95</td>\n",
       "      <td>0.12</td>\n",
       "      <td>1.61</td>\n",
       "      <td>10.94</td>\n",
       "    </tr>\n",
       "    <tr>\n",
       "      <th>5</th>\n",
       "      <td>Uncharted PS4</td>\n",
       "      <td>PS4</td>\n",
       "      <td>2016</td>\n",
       "      <td>Action</td>\n",
       "      <td>Sony Interactive Entertainment</td>\n",
       "      <td>4.49</td>\n",
       "      <td>3.93</td>\n",
       "      <td>0.21</td>\n",
       "      <td>1.70</td>\n",
       "      <td>10.33</td>\n",
       "    </tr>\n",
       "    <tr>\n",
       "      <th>6</th>\n",
       "      <td>Grand Theft Auto V</td>\n",
       "      <td>XOne</td>\n",
       "      <td>2014</td>\n",
       "      <td>Action</td>\n",
       "      <td>Rockstar Games</td>\n",
       "      <td>4.70</td>\n",
       "      <td>3.25</td>\n",
       "      <td>0.01</td>\n",
       "      <td>0.76</td>\n",
       "      <td>8.72</td>\n",
       "    </tr>\n",
       "    <tr>\n",
       "      <th>7</th>\n",
       "      <td>Call of Duty: Infinite Warfare</td>\n",
       "      <td>PS4</td>\n",
       "      <td>2016</td>\n",
       "      <td>Shooter</td>\n",
       "      <td>Activision</td>\n",
       "      <td>3.11</td>\n",
       "      <td>3.83</td>\n",
       "      <td>0.19</td>\n",
       "      <td>1.36</td>\n",
       "      <td>8.48</td>\n",
       "    </tr>\n",
       "    <tr>\n",
       "      <th>8</th>\n",
       "      <td>Fallout 4</td>\n",
       "      <td>PS4</td>\n",
       "      <td>2015</td>\n",
       "      <td>Role-Playing</td>\n",
       "      <td>Bethesda Softworks</td>\n",
       "      <td>2.91</td>\n",
       "      <td>3.97</td>\n",
       "      <td>0.27</td>\n",
       "      <td>1.34</td>\n",
       "      <td>8.48</td>\n",
       "    </tr>\n",
       "    <tr>\n",
       "      <th>9</th>\n",
       "      <td>FIFA 16</td>\n",
       "      <td>PS4</td>\n",
       "      <td>2015</td>\n",
       "      <td>Sports</td>\n",
       "      <td>EA Sports</td>\n",
       "      <td>1.15</td>\n",
       "      <td>5.77</td>\n",
       "      <td>0.07</td>\n",
       "      <td>1.23</td>\n",
       "      <td>8.22</td>\n",
       "    </tr>\n",
       "  </tbody>\n",
       "</table>\n",
       "</div>"
      ],
      "text/plain": [
       "                             Name Platform  Year_of_Release         Genre  \\\n",
       "0              Grand Theft Auto V      PS4             2014        Action   \n",
       "1       Call of Duty: Black Ops 3      PS4             2015       Shooter   \n",
       "2              Call of Duty: WWII      PS4             2017       Shooter   \n",
       "3                         FIFA 18      PS4             2017        Sports   \n",
       "4                         FIFA 17      PS4             2016        Sports   \n",
       "5                   Uncharted PS4      PS4             2016        Action   \n",
       "6              Grand Theft Auto V     XOne             2014        Action   \n",
       "7  Call of Duty: Infinite Warfare      PS4             2016       Shooter   \n",
       "8                       Fallout 4      PS4             2015  Role-Playing   \n",
       "9                         FIFA 16      PS4             2015        Sports   \n",
       "\n",
       "                        Publisher  NA_Sales  EU_Sales  JP_Sales  Other_Sales  \\\n",
       "0                  Rockstar Games      6.06      9.71      0.60         3.02   \n",
       "1                      Activision      6.18      6.05      0.41         2.44   \n",
       "2                      Activision      4.67      6.21      0.40         2.12   \n",
       "3                       EA Sports      1.27      8.64      0.15         1.73   \n",
       "4                 Electronic Arts      1.26      7.95      0.12         1.61   \n",
       "5  Sony Interactive Entertainment      4.49      3.93      0.21         1.70   \n",
       "6                  Rockstar Games      4.70      3.25      0.01         0.76   \n",
       "7                      Activision      3.11      3.83      0.19         1.36   \n",
       "8              Bethesda Softworks      2.91      3.97      0.27         1.34   \n",
       "9                       EA Sports      1.15      5.77      0.07         1.23   \n",
       "\n",
       "   Global_Sales  \n",
       "0         19.39  \n",
       "1         15.09  \n",
       "2         13.40  \n",
       "3         11.80  \n",
       "4         10.94  \n",
       "5         10.33  \n",
       "6          8.72  \n",
       "7          8.48  \n",
       "8          8.48  \n",
       "9          8.22  "
      ]
     },
     "execution_count": 3,
     "metadata": {},
     "output_type": "execute_result"
    }
   ],
   "source": [
    "VGS.head(10)"
   ]
  },
  {
   "cell_type": "code",
   "execution_count": 4,
   "metadata": {},
   "outputs": [],
   "source": [
    "VGS.drop_duplicates() #Removing Duplicates\n",
    "VGS_miss_values = VGS.isnull().sum() #Checking Attributes that have Null Values \n",
    "VGS.Publisher = VGS.Publisher.mask(VGS.Publisher == 'Sony Computer Entertainment','Sony Interactive Entertainment') #Replacing variations with consistent value\n",
    "VGS.Publisher = VGS.Publisher.mask(VGS.Publisher == 'Warner Bros. Interactive','Warner Bros. Interactive Entertainment')\n",
    "VGS.Publisher = VGS.Publisher.mask(VGS.Publisher == '2K Games','Take-Two Interactive')\n",
    "VGS.Publisher = VGS.Publisher.mask(VGS.Publisher == '2K Sports','Take-Two Interactive')\n",
    "VGS.Publisher = VGS.Publisher.mask(VGS.Publisher == 'Rockstar Games','Take-Two Interactive')\n",
    "VGS.Publisher = VGS.Publisher.mask(VGS.Publisher == 'EA Sports','Electronic Arts')\n"
   ]
  },
  {
   "cell_type": "code",
   "execution_count": 5,
   "metadata": {},
   "outputs": [
    {
     "data": {
      "text/plain": [
       "Publisher\n",
       "11 bit studios                             0.01\n",
       "505 Games                                  6.63\n",
       "5pb                                        0.14\n",
       "Accolade                                   0.05\n",
       "Acquire                                    0.14\n",
       "                                          ...  \n",
       "Warner Bros. Interactive Entertainment    50.62\n",
       "Wired Productions                          0.06\n",
       "Xseed Games                                0.08\n",
       "Yacht Club Games                           0.14\n",
       "Yeti                                       0.03\n",
       "Name: Global_Sales, Length: 114, dtype: float64"
      ]
     },
     "execution_count": 5,
     "metadata": {},
     "output_type": "execute_result"
    }
   ],
   "source": [
    "VGS.groupby('Publisher')['Global_Sales'].sum() #Finding Total Sales made by each publisher"
   ]
  },
  {
   "cell_type": "code",
   "execution_count": 6,
   "metadata": {},
   "outputs": [
    {
     "data": {
      "text/plain": [
       "array(['Action', 'Shooter', 'Sports', 'Role-Playing', 'Action-Adventure',\n",
       "       'Misc', 'Platform', 'Racing', 'Fighting', 'Adventure', 'MMO',\n",
       "       'Simulation', 'Music', 'Party', 'Strategy', 'Puzzle',\n",
       "       'Visual Novel'], dtype=object)"
      ]
     },
     "execution_count": 6,
     "metadata": {},
     "output_type": "execute_result"
    }
   ],
   "source": [
    "VGS.Genre.unique() #Displaying Each Unique Genre"
   ]
  },
  {
   "cell_type": "code",
   "execution_count": 7,
   "metadata": {},
   "outputs": [
    {
     "data": {
      "text/plain": [
       "Genre\n",
       "Action              167.02\n",
       "Action-Adventure     48.42\n",
       "Adventure            18.38\n",
       "Fighting             23.22\n",
       "MMO                   5.04\n",
       "Misc                 21.36\n",
       "Music                 9.44\n",
       "Party                 0.65\n",
       "Platform             20.38\n",
       "Puzzle                0.75\n",
       "Racing               41.92\n",
       "Role-Playing         75.92\n",
       "Shooter             226.93\n",
       "Simulation            6.95\n",
       "Sports              132.81\n",
       "Strategy              2.19\n",
       "Visual Novel          0.48\n",
       "Name: Global_Sales, dtype: float64"
      ]
     },
     "execution_count": 7,
     "metadata": {},
     "output_type": "execute_result"
    }
   ],
   "source": [
    "VGS.groupby('Genre')['Global_Sales'].sum() #Finding Total Sales made by Each Genre"
   ]
  },
  {
   "cell_type": "code",
   "execution_count": 8,
   "metadata": {},
   "outputs": [
    {
     "data": {
      "text/plain": [
       "<matplotlib.axes._subplots.AxesSubplot at 0x1d2544ef4c8>"
      ]
     },
     "execution_count": 8,
     "metadata": {},
     "output_type": "execute_result"
    },
    {
     "data": {
      "image/png": "[encoded data removed]",
      "text/plain": [
       "<Figure size 432x288 with 1 Axes>"
      ]
     },
     "metadata": {
      "needs_background": "light"
     },
     "output_type": "display_data"
    }
   ],
   "source": [
    "VGS.Global_Sales.hist()"
   ]
  },
  {
   "cell_type": "code",
   "execution_count": 9,
   "metadata": {},
   "outputs": [
    {
     "data": {
      "image/png": "[encoded data removed]",
      "text/plain": [
       "<Figure size 432x288 with 1 Axes>"
      ]
     },
     "metadata": {
      "needs_background": "light"
     },
     "output_type": "display_data"
    }
   ],
   "source": [
    "#Displaying Total Video Game Sales by Genre\n",
    "VGS.groupby('Genre')['Global_Sales'].sum().plot(kind = 'bar')\n",
    "plt.ylabel('Sales (Mill)')\n",
    "plt.xlabel('Genre')\n",
    "plt.legend()\n",
    "plt.title('Video Game Sales by Genre')\n",
    "plt.savefig('/Users/Saacid/Desktop/Genre_Sales.png', bbox_inches= 'tight')"
   ]
  },
  {
   "cell_type": "code",
   "execution_count": 10,
   "metadata": {},
   "outputs": [
    {
     "name": "stderr",
     "output_type": "stream",
     "text": [
      "C:\\Users\\Saacid\\anaconda3\\lib\\site-packages\\ipykernel_launcher.py:2: FutureWarning:\n",
      "\n",
      "Indexing with multiple keys (implicitly converted to a tuple of keys) will be deprecated, use a list instead.\n",
      "\n"
     ]
    },
    {
     "data": {
      "text/html": [
       "<div>\n",
       "<style scoped>\n",
       "    .dataframe tbody tr th:only-of-type {\n",
       "        vertical-align: middle;\n",
       "    }\n",
       "\n",
       "    .dataframe tbody tr th {\n",
       "        vertical-align: top;\n",
       "    }\n",
       "\n",
       "    .dataframe thead th {\n",
       "        text-align: right;\n",
       "    }\n",
       "</style>\n",
       "<table border=\"1\" class=\"dataframe\">\n",
       "  <thead>\n",
       "    <tr style=\"text-align: right;\">\n",
       "      <th></th>\n",
       "      <th>Global_Sales</th>\n",
       "      <th>NA_Sales</th>\n",
       "      <th>EU_Sales</th>\n",
       "      <th>JP_Sales</th>\n",
       "      <th>Other_Sales</th>\n",
       "    </tr>\n",
       "    <tr>\n",
       "      <th>Genre</th>\n",
       "      <th></th>\n",
       "      <th></th>\n",
       "      <th></th>\n",
       "      <th></th>\n",
       "      <th></th>\n",
       "    </tr>\n",
       "  </thead>\n",
       "  <tbody>\n",
       "    <tr>\n",
       "      <th>Action</th>\n",
       "      <td>167.02</td>\n",
       "      <td>70.02</td>\n",
       "      <td>66.62</td>\n",
       "      <td>7.59</td>\n",
       "      <td>22.65</td>\n",
       "    </tr>\n",
       "    <tr>\n",
       "      <th>Action-Adventure</th>\n",
       "      <td>48.42</td>\n",
       "      <td>18.85</td>\n",
       "      <td>21.36</td>\n",
       "      <td>1.39</td>\n",
       "      <td>6.88</td>\n",
       "    </tr>\n",
       "    <tr>\n",
       "      <th>Adventure</th>\n",
       "      <td>18.38</td>\n",
       "      <td>7.32</td>\n",
       "      <td>7.11</td>\n",
       "      <td>1.55</td>\n",
       "      <td>2.40</td>\n",
       "    </tr>\n",
       "    <tr>\n",
       "      <th>Fighting</th>\n",
       "      <td>23.22</td>\n",
       "      <td>11.80</td>\n",
       "      <td>6.75</td>\n",
       "      <td>1.40</td>\n",
       "      <td>3.23</td>\n",
       "    </tr>\n",
       "    <tr>\n",
       "      <th>MMO</th>\n",
       "      <td>5.04</td>\n",
       "      <td>2.27</td>\n",
       "      <td>1.87</td>\n",
       "      <td>0.20</td>\n",
       "      <td>0.69</td>\n",
       "    </tr>\n",
       "    <tr>\n",
       "      <th>Misc</th>\n",
       "      <td>21.36</td>\n",
       "      <td>8.88</td>\n",
       "      <td>8.88</td>\n",
       "      <td>0.97</td>\n",
       "      <td>2.65</td>\n",
       "    </tr>\n",
       "    <tr>\n",
       "      <th>Music</th>\n",
       "      <td>9.44</td>\n",
       "      <td>5.58</td>\n",
       "      <td>2.40</td>\n",
       "      <td>0.17</td>\n",
       "      <td>1.27</td>\n",
       "    </tr>\n",
       "    <tr>\n",
       "      <th>Party</th>\n",
       "      <td>0.65</td>\n",
       "      <td>0.09</td>\n",
       "      <td>0.47</td>\n",
       "      <td>0.00</td>\n",
       "      <td>0.10</td>\n",
       "    </tr>\n",
       "    <tr>\n",
       "      <th>Platform</th>\n",
       "      <td>20.38</td>\n",
       "      <td>6.98</td>\n",
       "      <td>9.72</td>\n",
       "      <td>0.67</td>\n",
       "      <td>3.01</td>\n",
       "    </tr>\n",
       "    <tr>\n",
       "      <th>Puzzle</th>\n",
       "      <td>0.75</td>\n",
       "      <td>0.44</td>\n",
       "      <td>0.20</td>\n",
       "      <td>0.00</td>\n",
       "      <td>0.13</td>\n",
       "    </tr>\n",
       "    <tr>\n",
       "      <th>Racing</th>\n",
       "      <td>41.92</td>\n",
       "      <td>13.78</td>\n",
       "      <td>22.15</td>\n",
       "      <td>0.80</td>\n",
       "      <td>5.15</td>\n",
       "    </tr>\n",
       "    <tr>\n",
       "      <th>Role-Playing</th>\n",
       "      <td>75.92</td>\n",
       "      <td>30.93</td>\n",
       "      <td>26.05</td>\n",
       "      <td>9.06</td>\n",
       "      <td>9.97</td>\n",
       "    </tr>\n",
       "    <tr>\n",
       "      <th>Shooter</th>\n",
       "      <td>226.93</td>\n",
       "      <td>107.72</td>\n",
       "      <td>84.73</td>\n",
       "      <td>4.60</td>\n",
       "      <td>29.96</td>\n",
       "    </tr>\n",
       "    <tr>\n",
       "      <th>Simulation</th>\n",
       "      <td>6.95</td>\n",
       "      <td>2.94</td>\n",
       "      <td>2.76</td>\n",
       "      <td>0.28</td>\n",
       "      <td>0.92</td>\n",
       "    </tr>\n",
       "    <tr>\n",
       "      <th>Sports</th>\n",
       "      <td>132.81</td>\n",
       "      <td>57.36</td>\n",
       "      <td>55.21</td>\n",
       "      <td>1.84</td>\n",
       "      <td>18.36</td>\n",
       "    </tr>\n",
       "    <tr>\n",
       "      <th>Strategy</th>\n",
       "      <td>2.19</td>\n",
       "      <td>1.23</td>\n",
       "      <td>0.39</td>\n",
       "      <td>0.34</td>\n",
       "      <td>0.26</td>\n",
       "    </tr>\n",
       "    <tr>\n",
       "      <th>Visual Novel</th>\n",
       "      <td>0.48</td>\n",
       "      <td>0.20</td>\n",
       "      <td>0.02</td>\n",
       "      <td>0.21</td>\n",
       "      <td>0.05</td>\n",
       "    </tr>\n",
       "  </tbody>\n",
       "</table>\n",
       "</div>"
      ],
      "text/plain": [
       "                  Global_Sales  NA_Sales  EU_Sales  JP_Sales  Other_Sales\n",
       "Genre                                                                    \n",
       "Action                  167.02     70.02     66.62      7.59        22.65\n",
       "Action-Adventure         48.42     18.85     21.36      1.39         6.88\n",
       "Adventure                18.38      7.32      7.11      1.55         2.40\n",
       "Fighting                 23.22     11.80      6.75      1.40         3.23\n",
       "MMO                       5.04      2.27      1.87      0.20         0.69\n",
       "Misc                     21.36      8.88      8.88      0.97         2.65\n",
       "Music                     9.44      5.58      2.40      0.17         1.27\n",
       "Party                     0.65      0.09      0.47      0.00         0.10\n",
       "Platform                 20.38      6.98      9.72      0.67         3.01\n",
       "Puzzle                    0.75      0.44      0.20      0.00         0.13\n",
       "Racing                   41.92     13.78     22.15      0.80         5.15\n",
       "Role-Playing             75.92     30.93     26.05      9.06         9.97\n",
       "Shooter                 226.93    107.72     84.73      4.60        29.96\n",
       "Simulation                6.95      2.94      2.76      0.28         0.92\n",
       "Sports                  132.81     57.36     55.21      1.84        18.36\n",
       "Strategy                  2.19      1.23      0.39      0.34         0.26\n",
       "Visual Novel              0.48      0.20      0.02      0.21         0.05"
      ]
     },
     "execution_count": 10,
     "metadata": {},
     "output_type": "execute_result"
    }
   ],
   "source": [
    "#Displaying Total Video Game Sales by Genre in different regions\n",
    "VGS.groupby('Genre')['Global_Sales', 'NA_Sales', 'EU_Sales', 'JP_Sales', 'Other_Sales'].sum()"
   ]
  },
  {
   "cell_type": "code",
   "execution_count": 11,
   "metadata": {},
   "outputs": [
    {
     "name": "stderr",
     "output_type": "stream",
     "text": [
      "C:\\Users\\Saacid\\anaconda3\\lib\\site-packages\\ipykernel_launcher.py:2: FutureWarning:\n",
      "\n",
      "Indexing with multiple keys (implicitly converted to a tuple of keys) will be deprecated, use a list instead.\n",
      "\n"
     ]
    },
    {
     "data": {
      "image/png": "[encoded data removed]",
      "text/plain": [
       "<Figure size 432x288 with 1 Axes>"
      ]
     },
     "metadata": {
      "needs_background": "light"
     },
     "output_type": "display_data"
    }
   ],
   "source": [
    "#Displaying Total Video Game Sales by Genre in different regions as a barchart\n",
    "VGS.groupby('Genre')['NA_Sales', 'EU_Sales', 'JP_Sales', 'Other_Sales'].sum().plot(kind = 'bar')\n",
    "plt.ylabel('Sales (Mill)')\n",
    "plt.xlabel('Genre')\n",
    "plt.legend()\n",
    "plt.title('Video Game Sales by Genre with Region Breakdown')\n",
    "plt.savefig('/Users/Saacid/Desktop/Genre_SalesRB.png', bbox_inches= 'tight', dpi =1366)"
   ]
  },
  {
   "cell_type": "code",
   "execution_count": 12,
   "metadata": {},
   "outputs": [
    {
     "data": {
      "application/vnd.plotly.v1+json": {
       "config": {
        "linkText": "Export to plot.ly",
        "plotlyServerURL": "https://plot.ly",
        "showLink": false
       },
       "data": [
        {
         "mode": "markers",
         "name": "Global_Sales",
         "text": [
          "Grand Theft Auto V",
          "Call of Duty: Black Ops 3",
          "Call of Duty: WWII",
          "FIFA 18",
          "FIFA 17",
          "Uncharted PS4",
          "Grand Theft Auto V",
          "Call of Duty: Infinite Warfare",
          "Fallout 4",
          "FIFA 16",
          "Star Wars Battlefront 2015",
          "Call of Duty: Advanced Warfare",
          "Call of Duty: Black Ops 3",
          "Battlefield 1",
          "The Last of Us"
         ],
         "type": "scatter",
         "x": [
          "Grand Theft Auto V",
          "Call of Duty: Black Ops 3",
          "Call of Duty: WWII",
          "FIFA 18",
          "FIFA 17",
          "Uncharted PS4",
          "Grand Theft Auto V",
          "Call of Duty: Infinite Warfare",
          "Fallout 4",
          "FIFA 16",
          "Star Wars Battlefront 2015",
          "Call of Duty: Advanced Warfare",
          "Call of Duty: Black Ops 3",
          "Battlefield 1",
          "The Last of Us"
         ],
         "y": [
          19.39,
          15.09,
          13.4,
          11.8,
          10.94,
          10.33,
          8.72,
          8.48,
          8.48,
          8.22,
          8.03,
          7.53,
          7.37,
          7.26,
          6.77
         ]
        }
       ],
       "layout": {
        "template": {
         "data": {
          "bar": [
           {
            "error_x": {
             "color": "#2a3f5f"
            },
            "error_y": {
             "color": "#2a3f5f"
            },
            "marker": {
             "line": {
              "color": "#E5ECF6",
              "width": 0.5
             }
            },
            "type": "bar"
           }
          ],
          "barpolar": [
           {
            "marker": {
             "line": {
              "color": "#E5ECF6",
              "width": 0.5
             }
            },
            "type": "barpolar"
           }
          ],
          "carpet": [
           {
            "aaxis": {
             "endlinecolor": "#2a3f5f",
             "gridcolor": "white",
             "linecolor": "white",
             "minorgridcolor": "white",
             "startlinecolor": "#2a3f5f"
            },
            "baxis": {
             "endlinecolor": "#2a3f5f",
             "gridcolor": "white",
             "linecolor": "white",
             "minorgridcolor": "white",
             "startlinecolor": "#2a3f5f"
            },
            "type": "carpet"
           }
          ],
          "choropleth": [
           {
            "colorbar": {
             "outlinewidth": 0,
             "ticks": ""
            },
            "type": "choropleth"
           }
          ],
          "contour": [
           {
            "colorbar": {
             "outlinewidth": 0,
             "ticks": ""
            },
            "colorscale": [
             [
              0,
              "#0d0887"
             ],
             [
              0.1111111111111111,
              "#46039f"
             ],
             [
              0.2222222222222222,
              "#7201a8"
             ],
             [
              0.3333333333333333,
              "#9c179e"
             ],
             [
              0.4444444444444444,
              "#bd3786"
             ],
             [
              0.5555555555555556,
              "#d8576b"
             ],
             [
              0.6666666666666666,
              "#ed7953"
             ],
             [
              0.7777777777777778,
              "#fb9f3a"
             ],
             [
              0.8888888888888888,
              "#fdca26"
             ],
             [
              1,
              "#f0f921"
             ]
            ],
            "type": "contour"
           }
          ],
          "contourcarpet": [
           {
            "colorbar": {
             "outlinewidth": 0,
             "ticks": ""
            },
            "type": "contourcarpet"
           }
          ],
          "heatmap": [
           {
            "colorbar": {
             "outlinewidth": 0,
             "ticks": ""
            },
            "colorscale": [
             [
              0,
              "#0d0887"
             ],
             [
              0.1111111111111111,
              "#46039f"
             ],
             [
              0.2222222222222222,
              "#7201a8"
             ],
             [
              0.3333333333333333,
              "#9c179e"
             ],
             [
              0.4444444444444444,
              "#bd3786"
             ],
             [
              0.5555555555555556,
              "#d8576b"
             ],
             [
              0.6666666666666666,
              "#ed7953"
             ],
             [
              0.7777777777777778,
              "#fb9f3a"
             ],
             [
              0.8888888888888888,
              "#fdca26"
             ],
             [
              1,
              "#f0f921"
             ]
            ],
            "type": "heatmap"
           }
          ],
          "heatmapgl": [
           {
            "colorbar": {
             "outlinewidth": 0,
             "ticks": ""
            },
            "colorscale": [
             [
              0,
              "#0d0887"
             ],
             [
              0.1111111111111111,
              "#46039f"
             ],
             [
              0.2222222222222222,
              "#7201a8"
             ],
             [
              0.3333333333333333,
              "#9c179e"
             ],
             [
              0.4444444444444444,
              "#bd3786"
             ],
             [
              0.5555555555555556,
              "#d8576b"
             ],
             [
              0.6666666666666666,
              "#ed7953"
             ],
             [
              0.7777777777777778,
              "#fb9f3a"
             ],
             [
              0.8888888888888888,
              "#fdca26"
             ],
             [
              1,
              "#f0f921"
             ]
            ],
            "type": "heatmapgl"
           }
          ],
          "histogram": [
           {
            "marker": {
             "colorbar": {
              "outlinewidth": 0,
              "ticks": ""
             }
            },
            "type": "histogram"
           }
          ],
          "histogram2d": [
           {
            "colorbar": {
             "outlinewidth": 0,
             "ticks": ""
            },
            "colorscale": [
             [
              0,
              "#0d0887"
             ],
             [
              0.1111111111111111,
              "#46039f"
             ],
             [
              0.2222222222222222,
              "#7201a8"
             ],
             [
              0.3333333333333333,
              "#9c179e"
             ],
             [
              0.4444444444444444,
              "#bd3786"
             ],
             [
              0.5555555555555556,
              "#d8576b"
             ],
             [
              0.6666666666666666,
              "#ed7953"
             ],
             [
              0.7777777777777778,
              "#fb9f3a"
             ],
             [
              0.8888888888888888,
              "#fdca26"
             ],
             [
              1,
              "#f0f921"
             ]
            ],
            "type": "histogram2d"
           }
          ],
          "histogram2dcontour": [
           {
            "colorbar": {
             "outlinewidth": 0,
             "ticks": ""
            },
            "colorscale": [
             [
              0,
              "#0d0887"
             ],
             [
              0.1111111111111111,
              "#46039f"
             ],
             [
              0.2222222222222222,
              "#7201a8"
             ],
             [
              0.3333333333333333,
              "#9c179e"
             ],
             [
              0.4444444444444444,
              "#bd3786"
             ],
             [
              0.5555555555555556,
              "#d8576b"
             ],
             [
              0.6666666666666666,
              "#ed7953"
             ],
             [
              0.7777777777777778,
              "#fb9f3a"
             ],
             [
              0.8888888888888888,
              "#fdca26"
             ],
             [
              1,
              "#f0f921"
             ]
            ],
            "type": "histogram2dcontour"
           }
          ],
          "mesh3d": [
           {
            "colorbar": {
             "outlinewidth": 0,
             "ticks": ""
            },
            "type": "mesh3d"
           }
          ],
          "parcoords": [
           {
            "line": {
             "colorbar": {
              "outlinewidth": 0,
              "ticks": ""
             }
            },
            "type": "parcoords"
           }
          ],
          "pie": [
           {
            "automargin": true,
            "type": "pie"
           }
          ],
          "scatter": [
           {
            "marker": {
             "colorbar": {
              "outlinewidth": 0,
              "ticks": ""
             }
            },
            "type": "scatter"
           }
          ],
          "scatter3d": [
           {
            "line": {
             "colorbar": {
              "outlinewidth": 0,
              "ticks": ""
             }
            },
            "marker": {
             "colorbar": {
              "outlinewidth": 0,
              "ticks": ""
             }
            },
            "type": "scatter3d"
           }
          ],
          "scattercarpet": [
           {
            "marker": {
             "colorbar": {
              "outlinewidth": 0,
              "ticks": ""
             }
            },
            "type": "scattercarpet"
           }
          ],
          "scattergeo": [
           {
            "marker": {
             "colorbar": {
              "outlinewidth": 0,
              "ticks": ""
             }
            },
            "type": "scattergeo"
           }
          ],
          "scattergl": [
           {
            "marker": {
             "colorbar": {
              "outlinewidth": 0,
              "ticks": ""
             }
            },
            "type": "scattergl"
           }
          ],
          "scattermapbox": [
           {
            "marker": {
             "colorbar": {
              "outlinewidth": 0,
              "ticks": ""
             }
            },
            "type": "scattermapbox"
           }
          ],
          "scatterpolar": [
           {
            "marker": {
             "colorbar": {
              "outlinewidth": 0,
              "ticks": ""
             }
            },
            "type": "scatterpolar"
           }
          ],
          "scatterpolargl": [
           {
            "marker": {
             "colorbar": {
              "outlinewidth": 0,
              "ticks": ""
             }
            },
            "type": "scatterpolargl"
           }
          ],
          "scatterternary": [
           {
            "marker": {
             "colorbar": {
              "outlinewidth": 0,
              "ticks": ""
             }
            },
            "type": "scatterternary"
           }
          ],
          "surface": [
           {
            "colorbar": {
             "outlinewidth": 0,
             "ticks": ""
            },
            "colorscale": [
             [
              0,
              "#0d0887"
             ],
             [
              0.1111111111111111,
              "#46039f"
             ],
             [
              0.2222222222222222,
              "#7201a8"
             ],
             [
              0.3333333333333333,
              "#9c179e"
             ],
             [
              0.4444444444444444,
              "#bd3786"
             ],
             [
              0.5555555555555556,
              "#d8576b"
             ],
             [
              0.6666666666666666,
              "#ed7953"
             ],
             [
              0.7777777777777778,
              "#fb9f3a"
             ],
             [
              0.8888888888888888,
              "#fdca26"
             ],
             [
              1,
              "#f0f921"
             ]
            ],
            "type": "surface"
           }
          ],
          "table": [
           {
            "cells": {
             "fill": {
              "color": "#EBF0F8"
             },
             "line": {
              "color": "white"
             }
            },
            "header": {
             "fill": {
              "color": "#C8D4E3"
             },
             "line": {
              "color": "white"
             }
            },
            "type": "table"
           }
          ]
         },
         "layout": {
          "annotationdefaults": {
           "arrowcolor": "#2a3f5f",
           "arrowhead": 0,
           "arrowwidth": 1
          },
          "coloraxis": {
           "colorbar": {
            "outlinewidth": 0,
            "ticks": ""
           }
          },
          "colorscale": {
           "diverging": [
            [
             0,
             "#8e0152"
            ],
            [
             0.1,
             "#c51b7d"
            ],
            [
             0.2,
             "#de77ae"
            ],
            [
             0.3,
             "#f1b6da"
            ],
            [
             0.4,
             "#fde0ef"
            ],
            [
             0.5,
             "#f7f7f7"
            ],
            [
             0.6,
             "#e6f5d0"
            ],
            [
             0.7,
             "#b8e186"
            ],
            [
             0.8,
             "#7fbc41"
            ],
            [
             0.9,
             "#4d9221"
            ],
            [
             1,
             "#276419"
            ]
           ],
           "sequential": [
            [
             0,
             "#0d0887"
            ],
            [
             0.1111111111111111,
             "#46039f"
            ],
            [
             0.2222222222222222,
             "#7201a8"
            ],
            [
             0.3333333333333333,
             "#9c179e"
            ],
            [
             0.4444444444444444,
             "#bd3786"
            ],
            [
             0.5555555555555556,
             "#d8576b"
            ],
            [
             0.6666666666666666,
             "#ed7953"
            ],
            [
             0.7777777777777778,
             "#fb9f3a"
            ],
            [
             0.8888888888888888,
             "#fdca26"
            ],
            [
             1,
             "#f0f921"
            ]
           ],
           "sequentialminus": [
            [
             0,
             "#0d0887"
            ],
            [
             0.1111111111111111,
             "#46039f"
            ],
            [
             0.2222222222222222,
             "#7201a8"
            ],
            [
             0.3333333333333333,
             "#9c179e"
            ],
            [
             0.4444444444444444,
             "#bd3786"
            ],
            [
             0.5555555555555556,
             "#d8576b"
            ],
            [
             0.6666666666666666,
             "#ed7953"
            ],
            [
             0.7777777777777778,
             "#fb9f3a"
            ],
            [
             0.8888888888888888,
             "#fdca26"
            ],
            [
             1,
             "#f0f921"
            ]
           ]
          },
          "colorway": [
           "#636efa",
           "#EF553B",
           "#00cc96",
           "#ab63fa",
           "#FFA15A",
           "#19d3f3",
           "#FF6692",
           "#B6E880",
           "#FF97FF",
           "#FECB52"
          ],
          "font": {
           "color": "#2a3f5f"
          },
          "geo": {
           "bgcolor": "white",
           "lakecolor": "white",
           "landcolor": "#E5ECF6",
           "showlakes": true,
           "showland": true,
           "subunitcolor": "white"
          },
          "hoverlabel": {
           "align": "left"
          },
          "hovermode": "closest",
          "mapbox": {
           "style": "light"
          },
          "paper_bgcolor": "white",
          "plot_bgcolor": "#E5ECF6",
          "polar": {
           "angularaxis": {
            "gridcolor": "white",
            "linecolor": "white",
            "ticks": ""
           },
           "bgcolor": "#E5ECF6",
           "radialaxis": {
            "gridcolor": "white",
            "linecolor": "white",
            "ticks": ""
           }
          },
          "scene": {
           "xaxis": {
            "backgroundcolor": "#E5ECF6",
            "gridcolor": "white",
            "gridwidth": 2,
            "linecolor": "white",
            "showbackground": true,
            "ticks": "",
            "zerolinecolor": "white"
           },
           "yaxis": {
            "backgroundcolor": "#E5ECF6",
            "gridcolor": "white",
            "gridwidth": 2,
            "linecolor": "white",
            "showbackground": true,
            "ticks": "",
            "zerolinecolor": "white"
           },
           "zaxis": {
            "backgroundcolor": "#E5ECF6",
            "gridcolor": "white",
            "gridwidth": 2,
            "linecolor": "white",
            "showbackground": true,
            "ticks": "",
            "zerolinecolor": "white"
           }
          },
          "shapedefaults": {
           "line": {
            "color": "#2a3f5f"
           }
          },
          "ternary": {
           "aaxis": {
            "gridcolor": "white",
            "linecolor": "white",
            "ticks": ""
           },
           "baxis": {
            "gridcolor": "white",
            "linecolor": "white",
            "ticks": ""
           },
           "bgcolor": "#E5ECF6",
           "caxis": {
            "gridcolor": "white",
            "linecolor": "white",
            "ticks": ""
           }
          },
          "title": {
           "x": 0.05
          },
          "xaxis": {
           "automargin": true,
           "gridcolor": "white",
           "linecolor": "white",
           "ticks": "",
           "title": {
            "standoff": 15
           },
           "zerolinecolor": "white",
           "zerolinewidth": 2
          },
          "yaxis": {
           "automargin": true,
           "gridcolor": "white",
           "linecolor": "white",
           "ticks": "",
           "title": {
            "standoff": 15
           },
           "zerolinecolor": "white",
           "zerolinewidth": 2
          }
         }
        },
        "title": {
         "text": "Top 15 Video Games"
        },
        "xaxis": {
         "gridcolor": "white",
         "ticklen": 5,
         "title": {
          "text": "Title"
         },
         "zeroline": false,
         "zerolinewidth": 1
        },
        "yaxis": {
         "gridcolor": "white",
         "ticklen": 5,
         "title": {
          "text": "Global_Sales(In Millions)"
         },
         "zeroline": false,
         "zerolinewidth": 1
        }
       }
      },
      "text/html": [
       "<div>                            <div id=\"45cf55ae-d958-4b0c-8898-d0b5935d8ff3\" class=\"plotly-graph-div\" style=\"height:525px; width:100%;\"></div>            <script type=\"text/javascript\">                require([\"plotly\"], function(Plotly) {                    window.PLOTLYENV=window.PLOTLYENV || {};                                    if (document.getElementById(\"45cf55ae-d958-4b0c-8898-d0b5935d8ff3\")) {                    Plotly.newPlot(                        \"45cf55ae-d958-4b0c-8898-d0b5935d8ff3\",                        [{\"mode\": \"markers\", \"name\": \"Global_Sales\", \"text\": [\"Grand Theft Auto V\", \"Call of Duty: Black Ops 3\", \"Call of Duty: WWII\", \"FIFA 18\", \"FIFA 17\", \"Uncharted PS4\", \"Grand Theft Auto V\", \"Call of Duty: Infinite Warfare\", \"Fallout 4\", \"FIFA 16\", \"Star Wars Battlefront 2015\", \"Call of Duty: Advanced Warfare\", \"Call of Duty: Black Ops 3\", \"Battlefield 1\", \"The Last of Us\"], \"type\": \"scatter\", \"x\": [\"Grand Theft Auto V\", \"Call of Duty: Black Ops 3\", \"Call of Duty: WWII\", \"FIFA 18\", \"FIFA 17\", \"Uncharted PS4\", \"Grand Theft Auto V\", \"Call of Duty: Infinite Warfare\", \"Fallout 4\", \"FIFA 16\", \"Star Wars Battlefront 2015\", \"Call of Duty: Advanced Warfare\", \"Call of Duty: Black Ops 3\", \"Battlefield 1\", \"The Last of Us\"], \"y\": [19.39, 15.09, 13.4, 11.8, 10.94, 10.33, 8.72, 8.48, 8.48, 8.22, 8.03, 7.53, 7.37, 7.26, 6.77]}],                        {\"template\": {\"data\": {\"bar\": [{\"error_x\": {\"color\": \"#2a3f5f\"}, \"error_y\": {\"color\": \"#2a3f5f\"}, \"marker\": {\"line\": {\"color\": \"#E5ECF6\", \"width\": 0.5}}, \"type\": \"bar\"}], \"barpolar\": [{\"marker\": {\"line\": {\"color\": \"#E5ECF6\", \"width\": 0.5}}, \"type\": \"barpolar\"}], \"carpet\": [{\"aaxis\": {\"endlinecolor\": \"#2a3f5f\", \"gridcolor\": \"white\", \"linecolor\": \"white\", \"minorgridcolor\": \"white\", \"startlinecolor\": \"#2a3f5f\"}, \"baxis\": {\"endlinecolor\": \"#2a3f5f\", \"gridcolor\": \"white\", \"linecolor\": \"white\", \"minorgridcolor\": \"white\", \"startlinecolor\": \"#2a3f5f\"}, \"type\": \"carpet\"}], \"choropleth\": [{\"colorbar\": {\"outlinewidth\": 0, \"ticks\": \"\"}, \"type\": \"choropleth\"}], \"contour\": [{\"colorbar\": {\"outlinewidth\": 0, \"ticks\": \"\"}, \"colorscale\": [[0.0, \"#0d0887\"], [0.1111111111111111, \"#46039f\"], [0.2222222222222222, \"#7201a8\"], [0.3333333333333333, \"#9c179e\"], [0.4444444444444444, \"#bd3786\"], [0.5555555555555556, \"#d8576b\"], [0.6666666666666666, \"#ed7953\"], [0.7777777777777778, \"#fb9f3a\"], [0.8888888888888888, \"#fdca26\"], [1.0, \"#f0f921\"]], \"type\": \"contour\"}], \"contourcarpet\": [{\"colorbar\": {\"outlinewidth\": 0, \"ticks\": \"\"}, \"type\": \"contourcarpet\"}], \"heatmap\": [{\"colorbar\": {\"outlinewidth\": 0, \"ticks\": \"\"}, \"colorscale\": [[0.0, \"#0d0887\"], [0.1111111111111111, \"#46039f\"], [0.2222222222222222, \"#7201a8\"], [0.3333333333333333, \"#9c179e\"], [0.4444444444444444, \"#bd3786\"], [0.5555555555555556, \"#d8576b\"], [0.6666666666666666, \"#ed7953\"], [0.7777777777777778, \"#fb9f3a\"], [0.8888888888888888, \"#fdca26\"], [1.0, \"#f0f921\"]], \"type\": \"heatmap\"}], \"heatmapgl\": [{\"colorbar\": {\"outlinewidth\": 0, \"ticks\": \"\"}, \"colorscale\": [[0.0, \"#0d0887\"], [0.1111111111111111, \"#46039f\"], [0.2222222222222222, \"#7201a8\"], [0.3333333333333333, \"#9c179e\"], [0.4444444444444444, \"#bd3786\"], [0.5555555555555556, \"#d8576b\"], [0.6666666666666666, \"#ed7953\"], [0.7777777777777778, \"#fb9f3a\"], [0.8888888888888888, \"#fdca26\"], [1.0, \"#f0f921\"]], \"type\": \"heatmapgl\"}], \"histogram\": [{\"marker\": {\"colorbar\": {\"outlinewidth\": 0, \"ticks\": \"\"}}, \"type\": \"histogram\"}], \"histogram2d\": [{\"colorbar\": {\"outlinewidth\": 0, \"ticks\": \"\"}, \"colorscale\": [[0.0, \"#0d0887\"], [0.1111111111111111, \"#46039f\"], [0.2222222222222222, \"#7201a8\"], [0.3333333333333333, \"#9c179e\"], [0.4444444444444444, \"#bd3786\"], [0.5555555555555556, \"#d8576b\"], [0.6666666666666666, \"#ed7953\"], [0.7777777777777778, \"#fb9f3a\"], [0.8888888888888888, \"#fdca26\"], [1.0, \"#f0f921\"]], \"type\": \"histogram2d\"}], \"histogram2dcontour\": [{\"colorbar\": {\"outlinewidth\": 0, \"ticks\": \"\"}, \"colorscale\": [[0.0, \"#0d0887\"], [0.1111111111111111, \"#46039f\"], [0.2222222222222222, \"#7201a8\"], [0.3333333333333333, \"#9c179e\"], [0.4444444444444444, \"#bd3786\"], [0.5555555555555556, \"#d8576b\"], [0.6666666666666666, \"#ed7953\"], [0.7777777777777778, \"#fb9f3a\"], [0.8888888888888888, \"#fdca26\"], [1.0, \"#f0f921\"]], \"type\": \"histogram2dcontour\"}], \"mesh3d\": [{\"colorbar\": {\"outlinewidth\": 0, \"ticks\": \"\"}, \"type\": \"mesh3d\"}], \"parcoords\": [{\"line\": {\"colorbar\": {\"outlinewidth\": 0, \"ticks\": \"\"}}, \"type\": \"parcoords\"}], \"pie\": [{\"automargin\": true, \"type\": \"pie\"}], \"scatter\": [{\"marker\": {\"colorbar\": {\"outlinewidth\": 0, \"ticks\": \"\"}}, \"type\": \"scatter\"}], \"scatter3d\": [{\"line\": {\"colorbar\": {\"outlinewidth\": 0, \"ticks\": \"\"}}, \"marker\": {\"colorbar\": {\"outlinewidth\": 0, \"ticks\": \"\"}}, \"type\": \"scatter3d\"}], \"scattercarpet\": [{\"marker\": {\"colorbar\": {\"outlinewidth\": 0, \"ticks\": \"\"}}, \"type\": \"scattercarpet\"}], \"scattergeo\": [{\"marker\": {\"colorbar\": {\"outlinewidth\": 0, \"ticks\": \"\"}}, \"type\": \"scattergeo\"}], \"scattergl\": [{\"marker\": {\"colorbar\": {\"outlinewidth\": 0, \"ticks\": \"\"}}, \"type\": \"scattergl\"}], \"scattermapbox\": [{\"marker\": {\"colorbar\": {\"outlinewidth\": 0, \"ticks\": \"\"}}, \"type\": \"scattermapbox\"}], \"scatterpolar\": [{\"marker\": {\"colorbar\": {\"outlinewidth\": 0, \"ticks\": \"\"}}, \"type\": \"scatterpolar\"}], \"scatterpolargl\": [{\"marker\": {\"colorbar\": {\"outlinewidth\": 0, \"ticks\": \"\"}}, \"type\": \"scatterpolargl\"}], \"scatterternary\": [{\"marker\": {\"colorbar\": {\"outlinewidth\": 0, \"ticks\": \"\"}}, \"type\": \"scatterternary\"}], \"surface\": [{\"colorbar\": {\"outlinewidth\": 0, \"ticks\": \"\"}, \"colorscale\": [[0.0, \"#0d0887\"], [0.1111111111111111, \"#46039f\"], [0.2222222222222222, \"#7201a8\"], [0.3333333333333333, \"#9c179e\"], [0.4444444444444444, \"#bd3786\"], [0.5555555555555556, \"#d8576b\"], [0.6666666666666666, \"#ed7953\"], [0.7777777777777778, \"#fb9f3a\"], [0.8888888888888888, \"#fdca26\"], [1.0, \"#f0f921\"]], \"type\": \"surface\"}], \"table\": [{\"cells\": {\"fill\": {\"color\": \"#EBF0F8\"}, \"line\": {\"color\": \"white\"}}, \"header\": {\"fill\": {\"color\": \"#C8D4E3\"}, \"line\": {\"color\": \"white\"}}, \"type\": \"table\"}]}, \"layout\": {\"annotationdefaults\": {\"arrowcolor\": \"#2a3f5f\", \"arrowhead\": 0, \"arrowwidth\": 1}, \"coloraxis\": {\"colorbar\": {\"outlinewidth\": 0, \"ticks\": \"\"}}, \"colorscale\": {\"diverging\": [[0, \"#8e0152\"], [0.1, \"#c51b7d\"], [0.2, \"#de77ae\"], [0.3, \"#f1b6da\"], [0.4, \"#fde0ef\"], [0.5, \"#f7f7f7\"], [0.6, \"#e6f5d0\"], [0.7, \"#b8e186\"], [0.8, \"#7fbc41\"], [0.9, \"#4d9221\"], [1, \"#276419\"]], \"sequential\": [[0.0, \"#0d0887\"], [0.1111111111111111, \"#46039f\"], [0.2222222222222222, \"#7201a8\"], [0.3333333333333333, \"#9c179e\"], [0.4444444444444444, \"#bd3786\"], [0.5555555555555556, \"#d8576b\"], [0.6666666666666666, \"#ed7953\"], [0.7777777777777778, \"#fb9f3a\"], [0.8888888888888888, \"#fdca26\"], [1.0, \"#f0f921\"]], \"sequentialminus\": [[0.0, \"#0d0887\"], [0.1111111111111111, \"#46039f\"], [0.2222222222222222, \"#7201a8\"], [0.3333333333333333, \"#9c179e\"], [0.4444444444444444, \"#bd3786\"], [0.5555555555555556, \"#d8576b\"], [0.6666666666666666, \"#ed7953\"], [0.7777777777777778, \"#fb9f3a\"], [0.8888888888888888, \"#fdca26\"], [1.0, \"#f0f921\"]]}, \"colorway\": [\"#636efa\", \"#EF553B\", \"#00cc96\", \"#ab63fa\", \"#FFA15A\", \"#19d3f3\", \"#FF6692\", \"#B6E880\", \"#FF97FF\", \"#FECB52\"], \"font\": {\"color\": \"#2a3f5f\"}, \"geo\": {\"bgcolor\": \"white\", \"lakecolor\": \"white\", \"landcolor\": \"#E5ECF6\", \"showlakes\": true, \"showland\": true, \"subunitcolor\": \"white\"}, \"hoverlabel\": {\"align\": \"left\"}, \"hovermode\": \"closest\", \"mapbox\": {\"style\": \"light\"}, \"paper_bgcolor\": \"white\", \"plot_bgcolor\": \"#E5ECF6\", \"polar\": {\"angularaxis\": {\"gridcolor\": \"white\", \"linecolor\": \"white\", \"ticks\": \"\"}, \"bgcolor\": \"#E5ECF6\", \"radialaxis\": {\"gridcolor\": \"white\", \"linecolor\": \"white\", \"ticks\": \"\"}}, \"scene\": {\"xaxis\": {\"backgroundcolor\": \"#E5ECF6\", \"gridcolor\": \"white\", \"gridwidth\": 2, \"linecolor\": \"white\", \"showbackground\": true, \"ticks\": \"\", \"zerolinecolor\": \"white\"}, \"yaxis\": {\"backgroundcolor\": \"#E5ECF6\", \"gridcolor\": \"white\", \"gridwidth\": 2, \"linecolor\": \"white\", \"showbackground\": true, \"ticks\": \"\", \"zerolinecolor\": \"white\"}, \"zaxis\": {\"backgroundcolor\": \"#E5ECF6\", \"gridcolor\": \"white\", \"gridwidth\": 2, \"linecolor\": \"white\", \"showbackground\": true, \"ticks\": \"\", \"zerolinecolor\": \"white\"}}, \"shapedefaults\": {\"line\": {\"color\": \"#2a3f5f\"}}, \"ternary\": {\"aaxis\": {\"gridcolor\": \"white\", \"linecolor\": \"white\", \"ticks\": \"\"}, \"baxis\": {\"gridcolor\": \"white\", \"linecolor\": \"white\", \"ticks\": \"\"}, \"bgcolor\": \"#E5ECF6\", \"caxis\": {\"gridcolor\": \"white\", \"linecolor\": \"white\", \"ticks\": \"\"}}, \"title\": {\"x\": 0.05}, \"xaxis\": {\"automargin\": true, \"gridcolor\": \"white\", \"linecolor\": \"white\", \"ticks\": \"\", \"title\": {\"standoff\": 15}, \"zerolinecolor\": \"white\", \"zerolinewidth\": 2}, \"yaxis\": {\"automargin\": true, \"gridcolor\": \"white\", \"linecolor\": \"white\", \"ticks\": \"\", \"title\": {\"standoff\": 15}, \"zerolinecolor\": \"white\", \"zerolinewidth\": 2}}}, \"title\": {\"text\": \"Top 15 Video Games\"}, \"xaxis\": {\"gridcolor\": \"white\", \"ticklen\": 5, \"title\": {\"text\": \"Title\"}, \"zeroline\": false, \"zerolinewidth\": 1}, \"yaxis\": {\"gridcolor\": \"white\", \"ticklen\": 5, \"title\": {\"text\": \"Global_Sales(In Millions)\"}, \"zeroline\": false, \"zerolinewidth\": 1}},                        {\"responsive\": true}                    ).then(function(){\n",
       "                            \n",
       "var gd = document.getElementById('45cf55ae-d958-4b0c-8898-d0b5935d8ff3');\n",
       "var x = new MutationObserver(function (mutations, observer) {{\n",
       "        var display = window.getComputedStyle(gd).display;\n",
       "        if (!display || display === 'none') {{\n",
       "            console.log([gd, 'removed!']);\n",
       "            Plotly.purge(gd);\n",
       "            observer.disconnect();\n",
       "        }}\n",
       "}});\n",
       "\n",
       "// Listen for the removal of the full notebook cells\n",
       "var notebookContainer = gd.closest('#notebook-container');\n",
       "if (notebookContainer) {{\n",
       "    x.observe(notebookContainer, {childList: true});\n",
       "}}\n",
       "\n",
       "// Listen for the clearing of the current output cell\n",
       "var outputEl = gd.closest('.output');\n",
       "if (outputEl) {{\n",
       "    x.observe(outputEl, {childList: true});\n",
       "}}\n",
       "\n",
       "                        })                };                });            </script>        </div>"
      ]
     },
     "metadata": {},
     "output_type": "display_data"
    }
   ],
   "source": [
    "#Showing Top 15 Selling Video Games\n",
    "tp=VGS.head(15)\n",
    "TP1=go.Scatter(\n",
    "                    x = tp.Name,\n",
    "                    y = tp.Global_Sales,\n",
    "                    mode = \"markers\",\n",
    "                    name = \"Global_Sales\",\n",
    "                    text= tp.Name)\n",
    "\n",
    "datas = [TP1]\n",
    "\n",
    "layout = dict(title = 'Top 15 Video Games',\n",
    "              xaxis= dict(title= 'Title',ticklen= 5,zeroline= False,zerolinewidth=1,gridcolor=\"white\"),\n",
    "              yaxis= dict(title= 'Global_Sales(In Millions)',ticklen= 5,zeroline= False,zerolinewidth=1,gridcolor=\"white\",),\n",
    "               )\n",
    "fig = dict(data = datas, layout = layout)\n",
    "iplot(fig)"
   ]
  },
  {
   "cell_type": "code",
   "execution_count": 13,
   "metadata": {},
   "outputs": [
    {
     "data": {
      "application/vnd.plotly.v1+json": {
       "config": {
        "plotlyServerURL": "https://plot.ly"
       },
       "data": [
        {
         "insidetextorientation": "radial",
         "labels": [
          "PS4",
          "PS4",
          "PS4",
          "PS4",
          "PS4",
          "PS4",
          "XOne",
          "PS4",
          "PS4",
          "PS4",
          "PS4",
          "PS4",
          "XOne",
          "PS4",
          "PS4",
          "PS4",
          "PS4",
          "XOne",
          "PS4",
          "PS4",
          "PS4",
          "XOne",
          "PS4",
          "XOne",
          "XOne",
          "PS4",
          "XOne",
          "XOne",
          "PS4",
          "XOne",
          "PS4",
          "PS4",
          "PS4",
          "PS4",
          "PS4",
          "PS4",
          "XOne",
          "PS4",
          "PS4",
          "PS4",
          "PS4",
          "PS4",
          "PS4",
          "PS4",
          "XOne",
          "PS4",
          "XOne",
          "XOne",
          "PS4",
          "XOne",
          "PS4",
          "PS4",
          "XOne",
          "PS4",
          "XOne",
          "XOne",
          "PS4",
          "PS4",
          "PS4",
          "PS4",
          "PS4",
          "PS4",
          "XOne",
          "PS4",
          "PS4",
          "XOne",
          "PS4",
          "PS4",
          "XOne",
          "XOne",
          "PS4",
          "PS4",
          "PS4",
          "PS4",
          "PS4",
          "PS4",
          "PS4",
          "XOne",
          "PS4",
          "XOne",
          "PS4",
          "XOne",
          "PS4",
          "XOne",
          "XOne",
          "PS4",
          "XOne",
          "PS4",
          "XOne",
          "XOne",
          "PS4",
          "PS4",
          "PS4",
          "XOne",
          "PS4",
          "XOne",
          "PS4",
          "PS4",
          "XOne",
          "PS4",
          "PS4",
          "XOne",
          "PS4",
          "PS4",
          "PS4",
          "XOne",
          "PS4",
          "PS4",
          "PS4",
          "PS4",
          "PS4",
          "XOne",
          "XOne",
          "PS4",
          "XOne",
          "PS4",
          "PS4",
          "XOne",
          "XOne",
          "PS4",
          "PS4",
          "PS4",
          "PS4",
          "XOne",
          "PS4",
          "PS4",
          "PS4",
          "XOne",
          "XOne",
          "XOne",
          "PS4",
          "PS4",
          "PS4",
          "PS4",
          "XOne",
          "PS4",
          "XOne",
          "XOne",
          "PS4",
          "XOne",
          "PS4",
          "XOne",
          "XOne",
          "XOne",
          "PS4",
          "PS4",
          "XOne",
          "PS4",
          "PS4",
          "PS4",
          "PS4",
          "XOne",
          "XOne",
          "XOne",
          "XOne",
          "XOne",
          "PS4",
          "XOne",
          "PS4",
          "PS4",
          "XOne",
          "XOne",
          "XOne",
          "PS4",
          "XOne",
          "PS4",
          "PS4",
          "PS4",
          "XOne",
          "PS4",
          "PS4",
          "PS4",
          "PS4",
          "XOne",
          "XOne",
          "PS4",
          "PS4",
          "PS4",
          "PS4",
          "PS4",
          "PS4",
          "PS4",
          "PS4",
          "PS4",
          "PS4",
          "XOne",
          "XOne",
          "XOne",
          "PS4",
          "XOne",
          "PS4",
          "PS4",
          "XOne",
          "PS4",
          "PS4",
          "PS4",
          "PS4",
          "PS4",
          "PS4",
          "XOne",
          "PS4",
          "PS4",
          "PS4",
          "PS4",
          "PS4",
          "XOne",
          "XOne",
          "XOne",
          "PS4",
          "PS4",
          "PS4",
          "PS4",
          "XOne",
          "PS4",
          "XOne",
          "PS4",
          "XOne",
          "PS4",
          "PS4",
          "XOne",
          "PS4",
          "PS4",
          "XOne",
          "XOne",
          "PS4",
          "PS4",
          "PS4",
          "PS4",
          "XOne",
          "XOne",
          "XOne",
          "PS4",
          "PS4",
          "PS4",
          "XOne",
          "PS4",
          "PS4",
          "XOne",
          "PS4",
          "PS4",
          "PS4",
          "XOne",
          "XOne",
          "XOne",
          "XOne",
          "XOne",
          "PS4",
          "PS4",
          "PS4",
          "PS4",
          "XOne",
          "XOne",
          "PS4",
          "XOne",
          "PS4",
          "XOne",
          "XOne",
          "XOne",
          "PS4",
          "PS4",
          "PS4",
          "XOne",
          "XOne",
          "XOne",
          "PS4",
          "XOne",
          "PS4",
          "XOne",
          "XOne",
          "PS4",
          "PS4",
          "XOne",
          "XOne",
          "PS4",
          "PS4",
          "XOne",
          "PS4",
          "XOne",
          "PS4",
          "PS4",
          "XOne",
          "PS4",
          "PS4",
          "PS4",
          "XOne",
          "PS4",
          "PS4",
          "XOne",
          "PS4",
          "XOne",
          "PS4",
          "PS4",
          "XOne",
          "PS4",
          "PS4",
          "XOne",
          "XOne",
          "PS4",
          "XOne",
          "PS4",
          "PS4",
          "XOne",
          "PS4",
          "PS4",
          "PS4",
          "XOne",
          "XOne",
          "PS4",
          "PS4",
          "PS4",
          "PS4",
          "PS4",
          "PS4",
          "PS4",
          "PS4",
          "PS4",
          "XOne",
          "PS4",
          "XOne",
          "PS4",
          "PS4",
          "PS4",
          "XOne",
          "XOne",
          "PS4",
          "XOne",
          "PS4",
          "PS4",
          "XOne",
          "XOne",
          "PS4",
          "PS4",
          "PS4",
          "PS4",
          "XOne",
          "XOne",
          "XOne",
          "PS4",
          "XOne",
          "XOne",
          "PS4",
          "XOne",
          "XOne",
          "PS4",
          "XOne",
          "PS4",
          "PS4",
          "PS4",
          "PS4",
          "XOne",
          "XOne",
          "XOne",
          "PS4",
          "PS4",
          "PS4",
          "PS4",
          "XOne",
          "PS4",
          "XOne",
          "PS4",
          "PS4",
          "XOne",
          "PS4",
          "XOne",
          "XOne",
          "PS4",
          "PS4",
          "PS4",
          "XOne",
          "XOne",
          "PS4",
          "XOne",
          "PS4",
          "PS4",
          "XOne",
          "XOne",
          "XOne",
          "PS4",
          "XOne",
          "PS4",
          "PS4",
          "PS4",
          "XOne",
          "XOne",
          "PS4",
          "PS4",
          "PS4",
          "PS4",
          "PS4",
          "PS4",
          "PS4",
          "XOne",
          "XOne",
          "PS4",
          "PS4",
          "XOne",
          "XOne",
          "PS4",
          "PS4",
          "XOne",
          "PS4",
          "PS4",
          "XOne",
          "XOne",
          "PS4",
          "PS4",
          "PS4",
          "PS4",
          "XOne",
          "PS4",
          "PS4",
          "PS4",
          "PS4",
          "XOne",
          "PS4",
          "PS4",
          "XOne",
          "PS4",
          "XOne",
          "PS4",
          "XOne",
          "PS4",
          "XOne",
          "PS4",
          "PS4",
          "PS4",
          "PS4",
          "PS4",
          "PS4",
          "PS4",
          "XOne",
          "PS4",
          "XOne",
          "XOne",
          "PS4",
          "XOne",
          "XOne",
          "XOne",
          "PS4",
          "PS4",
          "PS4",
          "PS4",
          "XOne",
          "XOne",
          "XOne",
          "PS4",
          "PS4",
          "XOne",
          "PS4",
          "XOne",
          "XOne",
          "PS4",
          "PS4",
          "XOne",
          "XOne",
          "PS4",
          "PS4",
          "PS4",
          "PS4",
          "PS4",
          "PS4",
          "PS4",
          "PS4",
          "PS4",
          "XOne",
          "XOne",
          "PS4",
          "PS4",
          "PS4",
          "XOne",
          "XOne",
          "XOne",
          "PS4",
          "PS4",
          "PS4",
          "PS4",
          "XOne",
          "PS4",
          "PS4",
          "PS4",
          "PS4",
          "PS4",
          "XOne",
          "PS4",
          "XOne",
          "XOne",
          "PS4",
          "PS4",
          "XOne",
          "XOne",
          "XOne",
          "PS4",
          "XOne",
          "PS4",
          "XOne",
          "PS4",
          "PS4",
          "XOne",
          "XOne",
          "XOne",
          "PS4",
          "PS4",
          "PS4",
          "XOne",
          "PS4",
          "PS4",
          "PS4",
          "XOne",
          "PS4",
          "XOne",
          "PS4",
          "PS4",
          "XOne",
          "PS4",
          "PS4",
          "XOne",
          "XOne",
          "XOne",
          "XOne",
          "PS4",
          "XOne",
          "PS4",
          "XOne",
          "PS4",
          "PS4",
          "XOne",
          "XOne",
          "PS4",
          "PS4",
          "PS4",
          "XOne",
          "XOne",
          "PS4",
          "PS4",
          "PS4",
          "PS4",
          "PS4",
          "PS4",
          "PS4",
          "PS4",
          "XOne",
          "XOne",
          "XOne",
          "PS4",
          "PS4",
          "PS4",
          "PS4",
          "XOne",
          "PS4",
          "PS4",
          "XOne",
          "PS4",
          "PS4",
          "PS4",
          "PS4",
          "XOne",
          "XOne",
          "PS4",
          "XOne",
          "PS4",
          "XOne",
          "PS4",
          "PS4",
          "PS4",
          "PS4",
          "XOne",
          "PS4",
          "XOne",
          "XOne",
          "XOne",
          "PS4",
          "PS4",
          "XOne",
          "XOne",
          "PS4",
          "PS4",
          "XOne",
          "XOne",
          "XOne",
          "PS4",
          "PS4",
          "XOne",
          "PS4",
          "PS4",
          "PS4",
          "PS4",
          "PS4",
          "PS4",
          "XOne",
          "XOne",
          "PS4",
          "PS4",
          "PS4",
          "PS4",
          "PS4",
          "XOne",
          "PS4",
          "PS4",
          "PS4",
          "PS4",
          "XOne",
          "XOne",
          "PS4",
          "XOne",
          "PS4",
          "PS4",
          "XOne",
          "PS4",
          "PS4",
          "XOne",
          "PS4",
          "PS4",
          "XOne",
          "PS4",
          "PS4",
          "PS4",
          "XOne",
          "XOne",
          "XOne",
          "XOne",
          "XOne",
          "XOne",
          "PS4",
          "PS4",
          "PS4",
          "PS4",
          "XOne",
          "PS4",
          "XOne",
          "XOne",
          "XOne",
          "PS4",
          "PS4",
          "XOne",
          "PS4",
          "XOne",
          "PS4",
          "PS4",
          "PS4",
          "PS4",
          "XOne",
          "PS4",
          "PS4",
          "XOne",
          "PS4",
          "PS4",
          "PS4",
          "PS4",
          "PS4",
          "PS4",
          "PS4",
          "PS4",
          "XOne",
          "PS4",
          "PS4",
          "XOne",
          "PS4",
          "PS4",
          "PS4",
          "PS4",
          "PS4",
          "PS4",
          "PS4",
          "XOne",
          "XOne",
          "PS4",
          "PS4",
          "PS4",
          "XOne",
          "XOne",
          "XOne",
          "XOne",
          "PS4",
          "XOne",
          "PS4",
          "XOne",
          "PS4",
          "PS4",
          "XOne",
          "PS4",
          "PS4",
          "PS4",
          "XOne",
          "PS4",
          "PS4",
          "PS4",
          "PS4",
          "PS4",
          "PS4",
          "XOne",
          "PS4",
          "PS4",
          "PS4",
          "XOne",
          "PS4",
          "PS4",
          "PS4",
          "PS4",
          "PS4",
          "PS4",
          "XOne",
          "PS4",
          "XOne",
          "XOne",
          "PS4",
          "XOne",
          "XOne",
          "PS4",
          "PS4",
          "PS4",
          "XOne",
          "PS4",
          "PS4",
          "XOne",
          "PS4",
          "PS4",
          "PS4",
          "PS4",
          "PS4",
          "PS4",
          "XOne",
          "PS4",
          "XOne",
          "XOne",
          "XOne",
          "XOne",
          "XOne",
          "PS4",
          "PS4",
          "PS4",
          "PS4",
          "PS4",
          "PS4",
          "XOne",
          "XOne",
          "PS4",
          "PS4",
          "PS4",
          "PS4",
          "PS4",
          "XOne",
          "PS4",
          "PS4",
          "XOne",
          "XOne",
          "PS4",
          "PS4",
          "PS4",
          "XOne",
          "PS4",
          "PS4",
          "XOne",
          "PS4",
          "PS4",
          "PS4",
          "XOne",
          "PS4",
          "PS4",
          "PS4",
          "PS4",
          "PS4",
          "XOne",
          "PS4",
          "PS4",
          "XOne",
          "XOne",
          "XOne",
          "XOne",
          "XOne",
          "PS4",
          "XOne",
          "PS4",
          "XOne",
          "PS4",
          "PS4",
          "PS4",
          "PS4",
          "PS4",
          "XOne",
          "PS4",
          "PS4",
          "PS4",
          "PS4",
          "PS4",
          "XOne",
          "XOne",
          "PS4",
          "PS4",
          "XOne",
          "XOne",
          "PS4",
          "XOne",
          "PS4",
          "PS4",
          "XOne",
          "XOne",
          "XOne",
          "PS4",
          "XOne",
          "XOne",
          "PS4",
          "PS4",
          "PS4",
          "PS4",
          "XOne",
          "XOne",
          "PS4",
          "PS4",
          "XOne",
          "PS4",
          "PS4",
          "PS4",
          "XOne",
          "XOne",
          "XOne",
          "PS4",
          "PS4",
          "PS4",
          "PS4",
          "XOne",
          "XOne",
          "PS4",
          "PS4",
          "PS4",
          "XOne",
          "PS4",
          "XOne",
          "XOne",
          "XOne",
          "XOne",
          "XOne",
          "PS4",
          "XOne",
          "XOne",
          "XOne",
          "PS4",
          "PS4",
          "XOne",
          "PS4",
          "XOne",
          "PS4",
          "PS4",
          "PS4",
          "PS4",
          "PS4",
          "XOne",
          "XOne",
          "PS4",
          "PS4",
          "PS4",
          "PS4",
          "PS4",
          "PS4",
          "PS4",
          "PS4",
          "PS4",
          "PS4",
          "PS4",
          "PS4",
          "XOne",
          "PS4",
          "PS4",
          "XOne",
          "XOne",
          "PS4",
          "PS4",
          "PS4",
          "PS4",
          "PS4",
          "XOne",
          "XOne",
          "PS4",
          "PS4",
          "PS4",
          "PS4",
          "PS4",
          "XOne",
          "XOne",
          "XOne",
          "PS4",
          "PS4",
          "PS4",
          "XOne",
          "XOne",
          "XOne",
          "XOne",
          "PS4",
          "PS4",
          "PS4",
          "PS4",
          "PS4",
          "PS4",
          "XOne",
          "PS4",
          "XOne",
          "PS4",
          "PS4",
          "PS4",
          "PS4",
          "PS4",
          "PS4",
          "XOne",
          "XOne",
          "PS4",
          "XOne",
          "XOne",
          "PS4",
          "XOne",
          "XOne",
          "XOne",
          "XOne",
          "PS4",
          "XOne",
          "PS4",
          "PS4",
          "PS4",
          "XOne",
          "PS4",
          "PS4",
          "PS4",
          "PS4",
          "PS4",
          "PS4",
          "XOne",
          "PS4",
          "PS4",
          "PS4",
          "PS4",
          "PS4",
          "PS4",
          "XOne",
          "PS4",
          "PS4",
          "PS4",
          "PS4",
          "PS4",
          "PS4",
          "XOne",
          "PS4",
          "PS4",
          "PS4",
          "PS4",
          "PS4",
          "XOne",
          "XOne",
          "PS4",
          "PS4",
          "PS4",
          "PS4",
          "PS4",
          "PS4",
          "PS4",
          "XOne",
          "PS4",
          "PS4",
          "PS4",
          "PS4",
          "XOne",
          "XOne",
          "XOne",
          "PS4",
          "PS4",
          "XOne",
          "XOne",
          "PS4",
          "PS4",
          "XOne",
          "XOne",
          "PS4",
          "XOne",
          "XOne",
          "XOne",
          "XOne",
          "PS4",
          "XOne",
          "XOne",
          "PS4",
          "PS4",
          "PS4",
          "XOne",
          "PS4",
          "PS4",
          "XOne",
          "PS4",
          "PS4",
          "PS4",
          "PS4",
          "PS4",
          "XOne",
          "XOne",
          "XOne",
          "XOne",
          "PS4",
          "PS4",
          "PS4",
          "PS4",
          "PS4",
          "XOne",
          "PS4",
          "XOne",
          "PS4",
          "PS4",
          "PS4",
          "PS4",
          "XOne",
          "PS4",
          "PS4",
          "PS4",
          "PS4",
          "XOne",
          "XOne",
          "XOne",
          "XOne",
          "PS4",
          "XOne",
          "PS4",
          "PS4",
          "PS4",
          "XOne",
          "XOne",
          "PS4",
          "XOne",
          "XOne",
          "PS4",
          "PS4",
          "PS4",
          "PS4",
          "PS4",
          "PS4",
          "PS4",
          "PS4",
          "PS4",
          "PS4",
          "XOne",
          "PS4",
          "PS4",
          "PS4",
          "PS4",
          "PS4",
          "XOne",
          "PS4",
          "PS4",
          "PS4",
          "XOne",
          "PS4",
          "PS4",
          "PS4",
          "XOne",
          "PS4",
          "XOne",
          "XOne",
          "XOne",
          "XOne",
          "XOne",
          "PS4",
          "XOne",
          "PS4",
          "XOne",
          "PS4",
          "PS4",
          "PS4",
          "XOne",
          "PS4",
          "PS4",
          "XOne",
          "XOne",
          "PS4",
          "XOne",
          "PS4",
          "PS4",
          "PS4",
          "PS4",
          "XOne",
          "PS4",
          "XOne"
         ],
         "textinfo": "label+percent",
         "type": "pie",
         "values": [
          19.39,
          15.09,
          13.4,
          11.8,
          10.94,
          10.33,
          8.72,
          8.48,
          8.48,
          8.22,
          8.03,
          7.53,
          7.37,
          7.26,
          6.77,
          6.33,
          6.32,
          6.23,
          5.82,
          5.76,
          5.7,
          5.43,
          5.39,
          5.22,
          5.13,
          5.07,
          5.03,
          4.92,
          4.83,
          4.79,
          4.54,
          4.53,
          4.37,
          4.36,
          4.32,
          4.17,
          4.15,
          4.14,
          4.14,
          4.11,
          4.06,
          4.06,
          3.98,
          3.94,
          3.93,
          3.77,
          3.71,
          3.62,
          3.6,
          3.58,
          3.52,
          3.49,
          3.44,
          3.43,
          3.41,
          3.38,
          3.36,
          3.36,
          3.34,
          3.31,
          3.3,
          3.28,
          3.25,
          3.19,
          3.19,
          3.14,
          3.12,
          3.11,
          3.11,
          3.07,
          3.04,
          3.02,
          3.01,
          2.92,
          2.87,
          2.82,
          2.73,
          2.72,
          2.72,
          2.71,
          2.62,
          2.59,
          2.49,
          2.47,
          2.47,
          2.45,
          2.44,
          2.42,
          2.41,
          2.4,
          2.38,
          2.37,
          2.37,
          2.35,
          2.34,
          2.32,
          2.26,
          2.25,
          2.19,
          2.18,
          2.18,
          2.17,
          2.17,
          2.16,
          2.15,
          2.09,
          2.07,
          2.06,
          2.05,
          2.04,
          2.04,
          2.04,
          2.02,
          2.02,
          2.02,
          1.98,
          1.97,
          1.92,
          1.91,
          1.91,
          1.9,
          1.88,
          1.86,
          1.83,
          1.79,
          1.75,
          1.75,
          1.74,
          1.74,
          1.74,
          1.72,
          1.72,
          1.71,
          1.7,
          1.68,
          1.64,
          1.64,
          1.63,
          1.62,
          1.61,
          1.61,
          1.6,
          1.58,
          1.58,
          1.54,
          1.54,
          1.52,
          1.51,
          1.5,
          1.5,
          1.49,
          1.47,
          1.47,
          1.46,
          1.45,
          1.44,
          1.43,
          1.42,
          1.39,
          1.39,
          1.38,
          1.38,
          1.37,
          1.36,
          1.35,
          1.33,
          1.31,
          1.31,
          1.31,
          1.29,
          1.29,
          1.28,
          1.28,
          1.27,
          1.24,
          1.22,
          1.21,
          1.2,
          1.2,
          1.2,
          1.19,
          1.18,
          1.18,
          1.16,
          1.16,
          1.16,
          1.15,
          1.15,
          1.14,
          1.14,
          1.13,
          1.11,
          1.11,
          1.11,
          1.1,
          1.09,
          1.05,
          1.04,
          1.04,
          1.04,
          1.03,
          1.01,
          1.01,
          1.01,
          1.01,
          1.01,
          1,
          0.99,
          0.98,
          0.96,
          0.96,
          0.94,
          0.94,
          0.9,
          0.89,
          0.89,
          0.89,
          0.89,
          0.88,
          0.87,
          0.87,
          0.86,
          0.86,
          0.86,
          0.85,
          0.85,
          0.85,
          0.85,
          0.83,
          0.83,
          0.83,
          0.82,
          0.81,
          0.81,
          0.79,
          0.79,
          0.79,
          0.78,
          0.78,
          0.78,
          0.78,
          0.78,
          0.78,
          0.77,
          0.77,
          0.76,
          0.76,
          0.75,
          0.75,
          0.75,
          0.75,
          0.75,
          0.75,
          0.74,
          0.74,
          0.73,
          0.73,
          0.73,
          0.73,
          0.72,
          0.72,
          0.72,
          0.71,
          0.71,
          0.71,
          0.7,
          0.7,
          0.7,
          0.69,
          0.69,
          0.69,
          0.69,
          0.68,
          0.68,
          0.68,
          0.67,
          0.67,
          0.66,
          0.66,
          0.66,
          0.66,
          0.65,
          0.65,
          0.65,
          0.65,
          0.64,
          0.63,
          0.63,
          0.62,
          0.62,
          0.62,
          0.62,
          0.62,
          0.62,
          0.61,
          0.61,
          0.61,
          0.6,
          0.6,
          0.59,
          0.58,
          0.58,
          0.58,
          0.57,
          0.57,
          0.57,
          0.57,
          0.57,
          0.57,
          0.56,
          0.56,
          0.56,
          0.56,
          0.55,
          0.55,
          0.55,
          0.55,
          0.55,
          0.54,
          0.52,
          0.52,
          0.52,
          0.52,
          0.51,
          0.51,
          0.51,
          0.5,
          0.5,
          0.5,
          0.5,
          0.49,
          0.48,
          0.48,
          0.48,
          0.48,
          0.48,
          0.48,
          0.48,
          0.48,
          0.48,
          0.48,
          0.48,
          0.48,
          0.47,
          0.47,
          0.47,
          0.47,
          0.47,
          0.47,
          0.46,
          0.46,
          0.45,
          0.45,
          0.45,
          0.45,
          0.45,
          0.45,
          0.44,
          0.44,
          0.44,
          0.43,
          0.43,
          0.43,
          0.43,
          0.42,
          0.42,
          0.42,
          0.42,
          0.42,
          0.41,
          0.41,
          0.41,
          0.41,
          0.41,
          0.4,
          0.39,
          0.39,
          0.39,
          0.39,
          0.39,
          0.39,
          0.38,
          0.38,
          0.38,
          0.37,
          0.37,
          0.37,
          0.36,
          0.36,
          0.36,
          0.35,
          0.35,
          0.35,
          0.35,
          0.35,
          0.35,
          0.34,
          0.34,
          0.34,
          0.34,
          0.34,
          0.33,
          0.33,
          0.33,
          0.33,
          0.33,
          0.32,
          0.31,
          0.31,
          0.31,
          0.31,
          0.31,
          0.31,
          0.31,
          0.31,
          0.3,
          0.3,
          0.3,
          0.3,
          0.3,
          0.3,
          0.3,
          0.29,
          0.29,
          0.29,
          0.29,
          0.29,
          0.28,
          0.28,
          0.28,
          0.28,
          0.28,
          0.28,
          0.28,
          0.28,
          0.27,
          0.27,
          0.27,
          0.27,
          0.27,
          0.27,
          0.27,
          0.27,
          0.27,
          0.27,
          0.27,
          0.26,
          0.26,
          0.25,
          0.25,
          0.25,
          0.25,
          0.25,
          0.25,
          0.24,
          0.24,
          0.24,
          0.24,
          0.24,
          0.24,
          0.24,
          0.24,
          0.24,
          0.24,
          0.24,
          0.24,
          0.24,
          0.24,
          0.24,
          0.24,
          0.24,
          0.23,
          0.23,
          0.23,
          0.23,
          0.23,
          0.23,
          0.23,
          0.23,
          0.23,
          0.22,
          0.22,
          0.22,
          0.22,
          0.22,
          0.22,
          0.22,
          0.22,
          0.22,
          0.22,
          0.22,
          0.22,
          0.21,
          0.21,
          0.21,
          0.21,
          0.21,
          0.21,
          0.21,
          0.21,
          0.21,
          0.21,
          0.21,
          0.21,
          0.21,
          0.21,
          0.2,
          0.2,
          0.2,
          0.2,
          0.2,
          0.2,
          0.2,
          0.19,
          0.19,
          0.19,
          0.19,
          0.19,
          0.19,
          0.19,
          0.19,
          0.19,
          0.19,
          0.19,
          0.18,
          0.18,
          0.18,
          0.18,
          0.18,
          0.18,
          0.18,
          0.17,
          0.17,
          0.17,
          0.17,
          0.17,
          0.17,
          0.17,
          0.17,
          0.17,
          0.17,
          0.17,
          0.17,
          0.16,
          0.16,
          0.16,
          0.16,
          0.16,
          0.16,
          0.16,
          0.16,
          0.16,
          0.16,
          0.16,
          0.16,
          0.16,
          0.16,
          0.16,
          0.15,
          0.15,
          0.15,
          0.15,
          0.15,
          0.15,
          0.15,
          0.15,
          0.15,
          0.15,
          0.15,
          0.15,
          0.15,
          0.15,
          0.15,
          0.15,
          0.15,
          0.15,
          0.14,
          0.14,
          0.14,
          0.14,
          0.14,
          0.14,
          0.14,
          0.14,
          0.14,
          0.14,
          0.14,
          0.14,
          0.14,
          0.14,
          0.14,
          0.14,
          0.14,
          0.14,
          0.14,
          0.14,
          0.13,
          0.13,
          0.13,
          0.13,
          0.13,
          0.13,
          0.13,
          0.13,
          0.13,
          0.13,
          0.13,
          0.13,
          0.13,
          0.13,
          0.13,
          0.13,
          0.13,
          0.13,
          0.13,
          0.12,
          0.12,
          0.12,
          0.12,
          0.12,
          0.12,
          0.12,
          0.12,
          0.12,
          0.12,
          0.12,
          0.12,
          0.12,
          0.12,
          0.12,
          0.12,
          0.12,
          0.12,
          0.12,
          0.12,
          0.11,
          0.11,
          0.11,
          0.11,
          0.11,
          0.11,
          0.11,
          0.11,
          0.11,
          0.11,
          0.11,
          0.11,
          0.11,
          0.11,
          0.11,
          0.11,
          0.11,
          0.11,
          0.11,
          0.11,
          0.11,
          0.1,
          0.1,
          0.1,
          0.1,
          0.1,
          0.1,
          0.1,
          0.1,
          0.1,
          0.1,
          0.1,
          0.1,
          0.1,
          0.1,
          0.1,
          0.1,
          0.1,
          0.1,
          0.1,
          0.1,
          0.1,
          0.1,
          0.1,
          0.1,
          0.1,
          0.09,
          0.09,
          0.09,
          0.09,
          0.09,
          0.09,
          0.09,
          0.09,
          0.09,
          0.09,
          0.09,
          0.09,
          0.09,
          0.09,
          0.09,
          0.09,
          0.09,
          0.09,
          0.09,
          0.09,
          0.08,
          0.08,
          0.08,
          0.08,
          0.08,
          0.08,
          0.08,
          0.08,
          0.08,
          0.08,
          0.08,
          0.08,
          0.08,
          0.08,
          0.08,
          0.08,
          0.08,
          0.08,
          0.08,
          0.08,
          0.08,
          0.08,
          0.08,
          0.08,
          0.08,
          0.08,
          0.07,
          0.07,
          0.07,
          0.07,
          0.07,
          0.07,
          0.07,
          0.07,
          0.07,
          0.07,
          0.07,
          0.07,
          0.07,
          0.07,
          0.07,
          0.07,
          0.07,
          0.07,
          0.07,
          0.07,
          0.07,
          0.07,
          0.07,
          0.07,
          0.07,
          0.07,
          0.07,
          0.07,
          0.07,
          0.07,
          0.07,
          0.07,
          0.07,
          0.07,
          0.07,
          0.07,
          0.07,
          0.07,
          0.06,
          0.06,
          0.06,
          0.06,
          0.06,
          0.06,
          0.06,
          0.06,
          0.06,
          0.06,
          0.06,
          0.06,
          0.06,
          0.06,
          0.06,
          0.06,
          0.06,
          0.06,
          0.06,
          0.06,
          0.06,
          0.06,
          0.06,
          0.06,
          0.06,
          0.06,
          0.06,
          0.06,
          0.06,
          0.06,
          0.06,
          0.06,
          0.06,
          0.06,
          0.06,
          0.06,
          0.06,
          0.06,
          0.06,
          0.06,
          0.06,
          0.06,
          0.06,
          0.06,
          0.06,
          0.06,
          0.05,
          0.05,
          0.05,
          0.05,
          0.05,
          0.05,
          0.05,
          0.05,
          0.05,
          0.05,
          0.05,
          0.05,
          0.05,
          0.05,
          0.05,
          0.05,
          0.05,
          0.05,
          0.05,
          0.05,
          0.05,
          0.05,
          0.05,
          0.05,
          0.05,
          0.05,
          0.05,
          0.05,
          0.05,
          0.05,
          0.05,
          0.05,
          0.05,
          0.05,
          0.05,
          0.05,
          0.05,
          0.05,
          0.05,
          0.05,
          0.05,
          0.05,
          0.04,
          0.04,
          0.04,
          0.04,
          0.04,
          0.04,
          0.04,
          0.04,
          0.04,
          0.04,
          0.04,
          0.04,
          0.04,
          0.04,
          0.04,
          0.04,
          0.04,
          0.04,
          0.04,
          0.04,
          0.04,
          0.04,
          0.04,
          0.04,
          0.04,
          0.04,
          0.04,
          0.04,
          0.04,
          0.04,
          0.04,
          0.04,
          0.04,
          0.04,
          0.04,
          0.04,
          0.04,
          0.04,
          0.04,
          0.04,
          0.04,
          0.04,
          0.04,
          0.04,
          0.04,
          0.04,
          0.04,
          0.04,
          0.04,
          0.04,
          0.04,
          0.04,
          0.04,
          0.04,
          0.04,
          0.03,
          0.03,
          0.03,
          0.03,
          0.03,
          0.03,
          0.03,
          0.03,
          0.03,
          0.03,
          0.03,
          0.03,
          0.03,
          0.03,
          0.03,
          0.03,
          0.03,
          0.03,
          0.03,
          0.03,
          0.03,
          0.03,
          0.03,
          0.03,
          0.03,
          0.03,
          0.03,
          0.03,
          0.03,
          0.03,
          0.03,
          0.03,
          0.03,
          0.03,
          0.03,
          0.03,
          0.03,
          0.03,
          0.03,
          0.03,
          0.03,
          0.03,
          0.03,
          0.03,
          0.03,
          0.03,
          0.03,
          0.03,
          0.02,
          0.02,
          0.02,
          0.02,
          0.02,
          0.02,
          0.02,
          0.02,
          0.02,
          0.02,
          0.02,
          0.02,
          0.02,
          0.02,
          0.02,
          0.02,
          0.02,
          0.02,
          0.02,
          0.02,
          0.02,
          0.02,
          0.02,
          0.02,
          0.02,
          0.02,
          0.02,
          0.02,
          0.02,
          0.02,
          0.02,
          0.02,
          0.02,
          0.02,
          0.02,
          0.02,
          0.02,
          0.02,
          0.02,
          0.02,
          0.02,
          0.02,
          0.02,
          0.02,
          0.02,
          0.02,
          0.02,
          0.02,
          0.02,
          0.02,
          0.02,
          0.02,
          0.02,
          0.02,
          0.02,
          0.02,
          0.02,
          0.02,
          0.02,
          0.02,
          0.02,
          0.02,
          0.02,
          0.02,
          0.02,
          0.02,
          0.02,
          0.02,
          0.01,
          0.01,
          0.01,
          0.01,
          0.01,
          0.01,
          0.01,
          0.01,
          0.01,
          0.01,
          0.01,
          0.01,
          0.01,
          0.01,
          0.01,
          0.01,
          0.01,
          0.01,
          0.01,
          0.01,
          0.01,
          0.01,
          0.01,
          0.01,
          0.01,
          0.01,
          0.01,
          0.01,
          0.01,
          0.01,
          0.01,
          0.01,
          0.01,
          0.01,
          0.01,
          0.01,
          0.01,
          0.01,
          0.01,
          0.01,
          0.01,
          0.01,
          0.01,
          0.01,
          0.01,
          0.01,
          0.01,
          0.01,
          0.01,
          0.01,
          0.01
         ]
        }
       ],
       "layout": {
        "template": {
         "data": {
          "bar": [
           {
            "error_x": {
             "color": "#2a3f5f"
            },
            "error_y": {
             "color": "#2a3f5f"
            },
            "marker": {
             "line": {
              "color": "#E5ECF6",
              "width": 0.5
             }
            },
            "type": "bar"
           }
          ],
          "barpolar": [
           {
            "marker": {
             "line": {
              "color": "#E5ECF6",
              "width": 0.5
             }
            },
            "type": "barpolar"
           }
          ],
          "carpet": [
           {
            "aaxis": {
             "endlinecolor": "#2a3f5f",
             "gridcolor": "white",
             "linecolor": "white",
             "minorgridcolor": "white",
             "startlinecolor": "#2a3f5f"
            },
            "baxis": {
             "endlinecolor": "#2a3f5f",
             "gridcolor": "white",
             "linecolor": "white",
             "minorgridcolor": "white",
             "startlinecolor": "#2a3f5f"
            },
            "type": "carpet"
           }
          ],
          "choropleth": [
           {
            "colorbar": {
             "outlinewidth": 0,
             "ticks": ""
            },
            "type": "choropleth"
           }
          ],
          "contour": [
           {
            "colorbar": {
             "outlinewidth": 0,
             "ticks": ""
            },
            "colorscale": [
             [
              0,
              "#0d0887"
             ],
             [
              0.1111111111111111,
              "#46039f"
             ],
             [
              0.2222222222222222,
              "#7201a8"
             ],
             [
              0.3333333333333333,
              "#9c179e"
             ],
             [
              0.4444444444444444,
              "#bd3786"
             ],
             [
              0.5555555555555556,
              "#d8576b"
             ],
             [
              0.6666666666666666,
              "#ed7953"
             ],
             [
              0.7777777777777778,
              "#fb9f3a"
             ],
             [
              0.8888888888888888,
              "#fdca26"
             ],
             [
              1,
              "#f0f921"
             ]
            ],
            "type": "contour"
           }
          ],
          "contourcarpet": [
           {
            "colorbar": {
             "outlinewidth": 0,
             "ticks": ""
            },
            "type": "contourcarpet"
           }
          ],
          "heatmap": [
           {
            "colorbar": {
             "outlinewidth": 0,
             "ticks": ""
            },
            "colorscale": [
             [
              0,
              "#0d0887"
             ],
             [
              0.1111111111111111,
              "#46039f"
             ],
             [
              0.2222222222222222,
              "#7201a8"
             ],
             [
              0.3333333333333333,
              "#9c179e"
             ],
             [
              0.4444444444444444,
              "#bd3786"
             ],
             [
              0.5555555555555556,
              "#d8576b"
             ],
             [
              0.6666666666666666,
              "#ed7953"
             ],
             [
              0.7777777777777778,
              "#fb9f3a"
             ],
             [
              0.8888888888888888,
              "#fdca26"
             ],
             [
              1,
              "#f0f921"
             ]
            ],
            "type": "heatmap"
           }
          ],
          "heatmapgl": [
           {
            "colorbar": {
             "outlinewidth": 0,
             "ticks": ""
            },
            "colorscale": [
             [
              0,
              "#0d0887"
             ],
             [
              0.1111111111111111,
              "#46039f"
             ],
             [
              0.2222222222222222,
              "#7201a8"
             ],
             [
              0.3333333333333333,
              "#9c179e"
             ],
             [
              0.4444444444444444,
              "#bd3786"
             ],
             [
              0.5555555555555556,
              "#d8576b"
             ],
             [
              0.6666666666666666,
              "#ed7953"
             ],
             [
              0.7777777777777778,
              "#fb9f3a"
             ],
             [
              0.8888888888888888,
              "#fdca26"
             ],
             [
              1,
              "#f0f921"
             ]
            ],
            "type": "heatmapgl"
           }
          ],
          "histogram": [
           {
            "marker": {
             "colorbar": {
              "outlinewidth": 0,
              "ticks": ""
             }
            },
            "type": "histogram"
           }
          ],
          "histogram2d": [
           {
            "colorbar": {
             "outlinewidth": 0,
             "ticks": ""
            },
            "colorscale": [
             [
              0,
              "#0d0887"
             ],
             [
              0.1111111111111111,
              "#46039f"
             ],
             [
              0.2222222222222222,
              "#7201a8"
             ],
             [
              0.3333333333333333,
              "#9c179e"
             ],
             [
              0.4444444444444444,
              "#bd3786"
             ],
             [
              0.5555555555555556,
              "#d8576b"
             ],
             [
              0.6666666666666666,
              "#ed7953"
             ],
             [
              0.7777777777777778,
              "#fb9f3a"
             ],
             [
              0.8888888888888888,
              "#fdca26"
             ],
             [
              1,
              "#f0f921"
             ]
            ],
            "type": "histogram2d"
           }
          ],
          "histogram2dcontour": [
           {
            "colorbar": {
             "outlinewidth": 0,
             "ticks": ""
            },
            "colorscale": [
             [
              0,
              "#0d0887"
             ],
             [
              0.1111111111111111,
              "#46039f"
             ],
             [
              0.2222222222222222,
              "#7201a8"
             ],
             [
              0.3333333333333333,
              "#9c179e"
             ],
             [
              0.4444444444444444,
              "#bd3786"
             ],
             [
              0.5555555555555556,
              "#d8576b"
             ],
             [
              0.6666666666666666,
              "#ed7953"
             ],
             [
              0.7777777777777778,
              "#fb9f3a"
             ],
             [
              0.8888888888888888,
              "#fdca26"
             ],
             [
              1,
              "#f0f921"
             ]
            ],
            "type": "histogram2dcontour"
           }
          ],
          "mesh3d": [
           {
            "colorbar": {
             "outlinewidth": 0,
             "ticks": ""
            },
            "type": "mesh3d"
           }
          ],
          "parcoords": [
           {
            "line": {
             "colorbar": {
              "outlinewidth": 0,
              "ticks": ""
             }
            },
            "type": "parcoords"
           }
          ],
          "pie": [
           {
            "automargin": true,
            "type": "pie"
           }
          ],
          "scatter": [
           {
            "marker": {
             "colorbar": {
              "outlinewidth": 0,
              "ticks": ""
             }
            },
            "type": "scatter"
           }
          ],
          "scatter3d": [
           {
            "line": {
             "colorbar": {
              "outlinewidth": 0,
              "ticks": ""
             }
            },
            "marker": {
             "colorbar": {
              "outlinewidth": 0,
              "ticks": ""
             }
            },
            "type": "scatter3d"
           }
          ],
          "scattercarpet": [
           {
            "marker": {
             "colorbar": {
              "outlinewidth": 0,
              "ticks": ""
             }
            },
            "type": "scattercarpet"
           }
          ],
          "scattergeo": [
           {
            "marker": {
             "colorbar": {
              "outlinewidth": 0,
              "ticks": ""
             }
            },
            "type": "scattergeo"
           }
          ],
          "scattergl": [
           {
            "marker": {
             "colorbar": {
              "outlinewidth": 0,
              "ticks": ""
             }
            },
            "type": "scattergl"
           }
          ],
          "scattermapbox": [
           {
            "marker": {
             "colorbar": {
              "outlinewidth": 0,
              "ticks": ""
             }
            },
            "type": "scattermapbox"
           }
          ],
          "scatterpolar": [
           {
            "marker": {
             "colorbar": {
              "outlinewidth": 0,
              "ticks": ""
             }
            },
            "type": "scatterpolar"
           }
          ],
          "scatterpolargl": [
           {
            "marker": {
             "colorbar": {
              "outlinewidth": 0,
              "ticks": ""
             }
            },
            "type": "scatterpolargl"
           }
          ],
          "scatterternary": [
           {
            "marker": {
             "colorbar": {
              "outlinewidth": 0,
              "ticks": ""
             }
            },
            "type": "scatterternary"
           }
          ],
          "surface": [
           {
            "colorbar": {
             "outlinewidth": 0,
             "ticks": ""
            },
            "colorscale": [
             [
              0,
              "#0d0887"
             ],
             [
              0.1111111111111111,
              "#46039f"
             ],
             [
              0.2222222222222222,
              "#7201a8"
             ],
             [
              0.3333333333333333,
              "#9c179e"
             ],
             [
              0.4444444444444444,
              "#bd3786"
             ],
             [
              0.5555555555555556,
              "#d8576b"
             ],
             [
              0.6666666666666666,
              "#ed7953"
             ],
             [
              0.7777777777777778,
              "#fb9f3a"
             ],
             [
              0.8888888888888888,
              "#fdca26"
             ],
             [
              1,
              "#f0f921"
             ]
            ],
            "type": "surface"
           }
          ],
          "table": [
           {
            "cells": {
             "fill": {
              "color": "#EBF0F8"
             },
             "line": {
              "color": "white"
             }
            },
            "header": {
             "fill": {
              "color": "#C8D4E3"
             },
             "line": {
              "color": "white"
             }
            },
            "type": "table"
           }
          ]
         },
         "layout": {
          "annotationdefaults": {
           "arrowcolor": "#2a3f5f",
           "arrowhead": 0,
           "arrowwidth": 1
          },
          "coloraxis": {
           "colorbar": {
            "outlinewidth": 0,
            "ticks": ""
           }
          },
          "colorscale": {
           "diverging": [
            [
             0,
             "#8e0152"
            ],
            [
             0.1,
             "#c51b7d"
            ],
            [
             0.2,
             "#de77ae"
            ],
            [
             0.3,
             "#f1b6da"
            ],
            [
             0.4,
             "#fde0ef"
            ],
            [
             0.5,
             "#f7f7f7"
            ],
            [
             0.6,
             "#e6f5d0"
            ],
            [
             0.7,
             "#b8e186"
            ],
            [
             0.8,
             "#7fbc41"
            ],
            [
             0.9,
             "#4d9221"
            ],
            [
             1,
             "#276419"
            ]
           ],
           "sequential": [
            [
             0,
             "#0d0887"
            ],
            [
             0.1111111111111111,
             "#46039f"
            ],
            [
             0.2222222222222222,
             "#7201a8"
            ],
            [
             0.3333333333333333,
             "#9c179e"
            ],
            [
             0.4444444444444444,
             "#bd3786"
            ],
            [
             0.5555555555555556,
             "#d8576b"
            ],
            [
             0.6666666666666666,
             "#ed7953"
            ],
            [
             0.7777777777777778,
             "#fb9f3a"
            ],
            [
             0.8888888888888888,
             "#fdca26"
            ],
            [
             1,
             "#f0f921"
            ]
           ],
           "sequentialminus": [
            [
             0,
             "#0d0887"
            ],
            [
             0.1111111111111111,
             "#46039f"
            ],
            [
             0.2222222222222222,
             "#7201a8"
            ],
            [
             0.3333333333333333,
             "#9c179e"
            ],
            [
             0.4444444444444444,
             "#bd3786"
            ],
            [
             0.5555555555555556,
             "#d8576b"
            ],
            [
             0.6666666666666666,
             "#ed7953"
            ],
            [
             0.7777777777777778,
             "#fb9f3a"
            ],
            [
             0.8888888888888888,
             "#fdca26"
            ],
            [
             1,
             "#f0f921"
            ]
           ]
          },
          "colorway": [
           "#636efa",
           "#EF553B",
           "#00cc96",
           "#ab63fa",
           "#FFA15A",
           "#19d3f3",
           "#FF6692",
           "#B6E880",
           "#FF97FF",
           "#FECB52"
          ],
          "font": {
           "color": "#2a3f5f"
          },
          "geo": {
           "bgcolor": "white",
           "lakecolor": "white",
           "landcolor": "#E5ECF6",
           "showlakes": true,
           "showland": true,
           "subunitcolor": "white"
          },
          "hoverlabel": {
           "align": "left"
          },
          "hovermode": "closest",
          "mapbox": {
           "style": "light"
          },
          "paper_bgcolor": "white",
          "plot_bgcolor": "#E5ECF6",
          "polar": {
           "angularaxis": {
            "gridcolor": "white",
            "linecolor": "white",
            "ticks": ""
           },
           "bgcolor": "#E5ECF6",
           "radialaxis": {
            "gridcolor": "white",
            "linecolor": "white",
            "ticks": ""
           }
          },
          "scene": {
           "xaxis": {
            "backgroundcolor": "#E5ECF6",
            "gridcolor": "white",
            "gridwidth": 2,
            "linecolor": "white",
            "showbackground": true,
            "ticks": "",
            "zerolinecolor": "white"
           },
           "yaxis": {
            "backgroundcolor": "#E5ECF6",
            "gridcolor": "white",
            "gridwidth": 2,
            "linecolor": "white",
            "showbackground": true,
            "ticks": "",
            "zerolinecolor": "white"
           },
           "zaxis": {
            "backgroundcolor": "#E5ECF6",
            "gridcolor": "white",
            "gridwidth": 2,
            "linecolor": "white",
            "showbackground": true,
            "ticks": "",
            "zerolinecolor": "white"
           }
          },
          "shapedefaults": {
           "line": {
            "color": "#2a3f5f"
           }
          },
          "ternary": {
           "aaxis": {
            "gridcolor": "white",
            "linecolor": "white",
            "ticks": ""
           },
           "baxis": {
            "gridcolor": "white",
            "linecolor": "white",
            "ticks": ""
           },
           "bgcolor": "#E5ECF6",
           "caxis": {
            "gridcolor": "white",
            "linecolor": "white",
            "ticks": ""
           }
          },
          "title": {
           "x": 0.05
          },
          "xaxis": {
           "automargin": true,
           "gridcolor": "white",
           "linecolor": "white",
           "ticks": "",
           "title": {
            "standoff": 15
           },
           "zerolinecolor": "white",
           "zerolinewidth": 2
          },
          "yaxis": {
           "automargin": true,
           "gridcolor": "white",
           "linecolor": "white",
           "ticks": "",
           "title": {
            "standoff": 15
           },
           "zerolinecolor": "white",
           "zerolinewidth": 2
          }
         }
        }
       }
      },
      "text/html": [
       "<div>                            <div id=\"0df0daa2-f9be-442d-a6bd-1cecff1db09f\" class=\"plotly-graph-div\" style=\"height:525px; width:100%;\"></div>            <script type=\"text/javascript\">                require([\"plotly\"], function(Plotly) {                    window.PLOTLYENV=window.PLOTLYENV || {};                                    if (document.getElementById(\"0df0daa2-f9be-442d-a6bd-1cecff1db09f\")) {                    Plotly.newPlot(                        \"0df0daa2-f9be-442d-a6bd-1cecff1db09f\",                        [{\"insidetextorientation\": \"radial\", \"labels\": [\"PS4\", \"PS4\", \"PS4\", \"PS4\", \"PS4\", \"PS4\", \"XOne\", \"PS4\", \"PS4\", \"PS4\", \"PS4\", \"PS4\", \"XOne\", \"PS4\", \"PS4\", \"PS4\", \"PS4\", \"XOne\", \"PS4\", \"PS4\", \"PS4\", \"XOne\", \"PS4\", \"XOne\", \"XOne\", \"PS4\", \"XOne\", \"XOne\", \"PS4\", \"XOne\", \"PS4\", \"PS4\", \"PS4\", \"PS4\", \"PS4\", \"PS4\", \"XOne\", \"PS4\", \"PS4\", \"PS4\", \"PS4\", \"PS4\", \"PS4\", \"PS4\", \"XOne\", \"PS4\", \"XOne\", \"XOne\", \"PS4\", \"XOne\", \"PS4\", \"PS4\", \"XOne\", \"PS4\", \"XOne\", \"XOne\", \"PS4\", \"PS4\", \"PS4\", \"PS4\", \"PS4\", \"PS4\", \"XOne\", \"PS4\", \"PS4\", \"XOne\", \"PS4\", \"PS4\", \"XOne\", \"XOne\", \"PS4\", \"PS4\", \"PS4\", \"PS4\", \"PS4\", \"PS4\", \"PS4\", \"XOne\", \"PS4\", \"XOne\", \"PS4\", \"XOne\", \"PS4\", \"XOne\", \"XOne\", \"PS4\", \"XOne\", \"PS4\", \"XOne\", \"XOne\", \"PS4\", \"PS4\", \"PS4\", \"XOne\", \"PS4\", \"XOne\", \"PS4\", \"PS4\", \"XOne\", \"PS4\", \"PS4\", \"XOne\", \"PS4\", \"PS4\", \"PS4\", \"XOne\", \"PS4\", \"PS4\", \"PS4\", \"PS4\", \"PS4\", \"XOne\", \"XOne\", \"PS4\", \"XOne\", \"PS4\", \"PS4\", \"XOne\", \"XOne\", \"PS4\", \"PS4\", \"PS4\", \"PS4\", \"XOne\", \"PS4\", \"PS4\", \"PS4\", \"XOne\", \"XOne\", \"XOne\", \"PS4\", \"PS4\", \"PS4\", \"PS4\", \"XOne\", \"PS4\", \"XOne\", \"XOne\", \"PS4\", \"XOne\", \"PS4\", \"XOne\", \"XOne\", \"XOne\", \"PS4\", \"PS4\", \"XOne\", \"PS4\", \"PS4\", \"PS4\", \"PS4\", \"XOne\", \"XOne\", \"XOne\", \"XOne\", \"XOne\", \"PS4\", \"XOne\", \"PS4\", \"PS4\", \"XOne\", \"XOne\", \"XOne\", \"PS4\", \"XOne\", \"PS4\", \"PS4\", \"PS4\", \"XOne\", \"PS4\", \"PS4\", \"PS4\", \"PS4\", \"XOne\", \"XOne\", \"PS4\", \"PS4\", \"PS4\", \"PS4\", \"PS4\", \"PS4\", \"PS4\", \"PS4\", \"PS4\", \"PS4\", \"XOne\", \"XOne\", \"XOne\", \"PS4\", \"XOne\", \"PS4\", \"PS4\", \"XOne\", \"PS4\", \"PS4\", \"PS4\", \"PS4\", \"PS4\", \"PS4\", \"XOne\", \"PS4\", \"PS4\", \"PS4\", \"PS4\", \"PS4\", \"XOne\", \"XOne\", \"XOne\", \"PS4\", \"PS4\", \"PS4\", \"PS4\", \"XOne\", \"PS4\", \"XOne\", \"PS4\", \"XOne\", \"PS4\", \"PS4\", \"XOne\", \"PS4\", \"PS4\", \"XOne\", \"XOne\", \"PS4\", \"PS4\", \"PS4\", \"PS4\", \"XOne\", \"XOne\", \"XOne\", \"PS4\", \"PS4\", \"PS4\", \"XOne\", \"PS4\", \"PS4\", \"XOne\", \"PS4\", \"PS4\", \"PS4\", \"XOne\", \"XOne\", \"XOne\", \"XOne\", \"XOne\", \"PS4\", \"PS4\", \"PS4\", \"PS4\", \"XOne\", \"XOne\", \"PS4\", \"XOne\", \"PS4\", \"XOne\", \"XOne\", \"XOne\", \"PS4\", \"PS4\", \"PS4\", \"XOne\", \"XOne\", \"XOne\", \"PS4\", \"XOne\", \"PS4\", \"XOne\", \"XOne\", \"PS4\", \"PS4\", \"XOne\", \"XOne\", \"PS4\", \"PS4\", \"XOne\", \"PS4\", \"XOne\", \"PS4\", \"PS4\", \"XOne\", \"PS4\", \"PS4\", \"PS4\", \"XOne\", \"PS4\", \"PS4\", \"XOne\", \"PS4\", \"XOne\", \"PS4\", \"PS4\", \"XOne\", \"PS4\", \"PS4\", \"XOne\", \"XOne\", \"PS4\", \"XOne\", \"PS4\", \"PS4\", \"XOne\", \"PS4\", \"PS4\", \"PS4\", \"XOne\", \"XOne\", \"PS4\", \"PS4\", \"PS4\", \"PS4\", \"PS4\", \"PS4\", \"PS4\", \"PS4\", \"PS4\", \"XOne\", \"PS4\", \"XOne\", \"PS4\", \"PS4\", \"PS4\", \"XOne\", \"XOne\", \"PS4\", \"XOne\", \"PS4\", \"PS4\", \"XOne\", \"XOne\", \"PS4\", \"PS4\", \"PS4\", \"PS4\", \"XOne\", \"XOne\", \"XOne\", \"PS4\", \"XOne\", \"XOne\", \"PS4\", \"XOne\", \"XOne\", \"PS4\", \"XOne\", \"PS4\", \"PS4\", \"PS4\", \"PS4\", \"XOne\", \"XOne\", \"XOne\", \"PS4\", \"PS4\", \"PS4\", \"PS4\", \"XOne\", \"PS4\", \"XOne\", \"PS4\", \"PS4\", \"XOne\", \"PS4\", \"XOne\", \"XOne\", \"PS4\", \"PS4\", \"PS4\", \"XOne\", \"XOne\", \"PS4\", \"XOne\", \"PS4\", \"PS4\", \"XOne\", \"XOne\", \"XOne\", \"PS4\", \"XOne\", \"PS4\", \"PS4\", \"PS4\", \"XOne\", \"XOne\", \"PS4\", \"PS4\", \"PS4\", \"PS4\", \"PS4\", \"PS4\", \"PS4\", \"XOne\", \"XOne\", \"PS4\", \"PS4\", \"XOne\", \"XOne\", \"PS4\", \"PS4\", \"XOne\", \"PS4\", \"PS4\", \"XOne\", \"XOne\", \"PS4\", \"PS4\", \"PS4\", \"PS4\", \"XOne\", \"PS4\", \"PS4\", \"PS4\", \"PS4\", \"XOne\", \"PS4\", \"PS4\", \"XOne\", \"PS4\", \"XOne\", \"PS4\", \"XOne\", \"PS4\", \"XOne\", \"PS4\", \"PS4\", \"PS4\", \"PS4\", \"PS4\", \"PS4\", \"PS4\", \"XOne\", \"PS4\", \"XOne\", \"XOne\", \"PS4\", \"XOne\", \"XOne\", \"XOne\", \"PS4\", \"PS4\", \"PS4\", \"PS4\", \"XOne\", \"XOne\", \"XOne\", \"PS4\", \"PS4\", \"XOne\", \"PS4\", \"XOne\", \"XOne\", \"PS4\", \"PS4\", \"XOne\", \"XOne\", \"PS4\", \"PS4\", \"PS4\", \"PS4\", \"PS4\", \"PS4\", \"PS4\", \"PS4\", \"PS4\", \"XOne\", \"XOne\", \"PS4\", \"PS4\", \"PS4\", \"XOne\", \"XOne\", \"XOne\", \"PS4\", \"PS4\", \"PS4\", \"PS4\", \"XOne\", \"PS4\", \"PS4\", \"PS4\", \"PS4\", \"PS4\", \"XOne\", \"PS4\", \"XOne\", \"XOne\", \"PS4\", \"PS4\", \"XOne\", \"XOne\", \"XOne\", \"PS4\", \"XOne\", \"PS4\", \"XOne\", \"PS4\", \"PS4\", \"XOne\", \"XOne\", \"XOne\", \"PS4\", \"PS4\", \"PS4\", \"XOne\", \"PS4\", \"PS4\", \"PS4\", \"XOne\", \"PS4\", \"XOne\", \"PS4\", \"PS4\", \"XOne\", \"PS4\", \"PS4\", \"XOne\", \"XOne\", \"XOne\", \"XOne\", \"PS4\", \"XOne\", \"PS4\", \"XOne\", \"PS4\", \"PS4\", \"XOne\", \"XOne\", \"PS4\", \"PS4\", \"PS4\", \"XOne\", \"XOne\", \"PS4\", \"PS4\", \"PS4\", \"PS4\", \"PS4\", \"PS4\", \"PS4\", \"PS4\", \"XOne\", \"XOne\", \"XOne\", \"PS4\", \"PS4\", \"PS4\", \"PS4\", \"XOne\", \"PS4\", \"PS4\", \"XOne\", \"PS4\", \"PS4\", \"PS4\", \"PS4\", \"XOne\", \"XOne\", \"PS4\", \"XOne\", \"PS4\", \"XOne\", \"PS4\", \"PS4\", \"PS4\", \"PS4\", \"XOne\", \"PS4\", \"XOne\", \"XOne\", \"XOne\", \"PS4\", \"PS4\", \"XOne\", \"XOne\", \"PS4\", \"PS4\", \"XOne\", \"XOne\", \"XOne\", \"PS4\", \"PS4\", \"XOne\", \"PS4\", \"PS4\", \"PS4\", \"PS4\", \"PS4\", \"PS4\", \"XOne\", \"XOne\", \"PS4\", \"PS4\", \"PS4\", \"PS4\", \"PS4\", \"XOne\", \"PS4\", \"PS4\", \"PS4\", \"PS4\", \"XOne\", \"XOne\", \"PS4\", \"XOne\", \"PS4\", \"PS4\", \"XOne\", \"PS4\", \"PS4\", \"XOne\", \"PS4\", \"PS4\", \"XOne\", \"PS4\", \"PS4\", \"PS4\", \"XOne\", \"XOne\", \"XOne\", \"XOne\", \"XOne\", \"XOne\", \"PS4\", \"PS4\", \"PS4\", \"PS4\", \"XOne\", \"PS4\", \"XOne\", \"XOne\", \"XOne\", \"PS4\", \"PS4\", \"XOne\", \"PS4\", \"XOne\", \"PS4\", \"PS4\", \"PS4\", \"PS4\", \"XOne\", \"PS4\", \"PS4\", \"XOne\", \"PS4\", \"PS4\", \"PS4\", \"PS4\", \"PS4\", \"PS4\", \"PS4\", \"PS4\", \"XOne\", \"PS4\", \"PS4\", \"XOne\", \"PS4\", \"PS4\", \"PS4\", \"PS4\", \"PS4\", \"PS4\", \"PS4\", \"XOne\", \"XOne\", \"PS4\", \"PS4\", \"PS4\", \"XOne\", \"XOne\", \"XOne\", \"XOne\", \"PS4\", \"XOne\", \"PS4\", \"XOne\", \"PS4\", \"PS4\", \"XOne\", \"PS4\", \"PS4\", \"PS4\", \"XOne\", \"PS4\", \"PS4\", \"PS4\", \"PS4\", \"PS4\", \"PS4\", \"XOne\", \"PS4\", \"PS4\", \"PS4\", \"XOne\", \"PS4\", \"PS4\", \"PS4\", \"PS4\", \"PS4\", \"PS4\", \"XOne\", \"PS4\", \"XOne\", \"XOne\", \"PS4\", \"XOne\", \"XOne\", \"PS4\", \"PS4\", \"PS4\", \"XOne\", \"PS4\", \"PS4\", \"XOne\", \"PS4\", \"PS4\", \"PS4\", \"PS4\", \"PS4\", \"PS4\", \"XOne\", \"PS4\", \"XOne\", \"XOne\", \"XOne\", \"XOne\", \"XOne\", \"PS4\", \"PS4\", \"PS4\", \"PS4\", \"PS4\", \"PS4\", \"XOne\", \"XOne\", \"PS4\", \"PS4\", \"PS4\", \"PS4\", \"PS4\", \"XOne\", \"PS4\", \"PS4\", \"XOne\", \"XOne\", \"PS4\", \"PS4\", \"PS4\", \"XOne\", \"PS4\", \"PS4\", \"XOne\", \"PS4\", \"PS4\", \"PS4\", \"XOne\", \"PS4\", \"PS4\", \"PS4\", \"PS4\", \"PS4\", \"XOne\", \"PS4\", \"PS4\", \"XOne\", \"XOne\", \"XOne\", \"XOne\", \"XOne\", \"PS4\", \"XOne\", \"PS4\", \"XOne\", \"PS4\", \"PS4\", \"PS4\", \"PS4\", \"PS4\", \"XOne\", \"PS4\", \"PS4\", \"PS4\", \"PS4\", \"PS4\", \"XOne\", \"XOne\", \"PS4\", \"PS4\", \"XOne\", \"XOne\", \"PS4\", \"XOne\", \"PS4\", \"PS4\", \"XOne\", \"XOne\", \"XOne\", \"PS4\", \"XOne\", \"XOne\", \"PS4\", \"PS4\", \"PS4\", \"PS4\", \"XOne\", \"XOne\", \"PS4\", \"PS4\", \"XOne\", \"PS4\", \"PS4\", \"PS4\", \"XOne\", \"XOne\", \"XOne\", \"PS4\", \"PS4\", \"PS4\", \"PS4\", \"XOne\", \"XOne\", \"PS4\", \"PS4\", \"PS4\", \"XOne\", \"PS4\", \"XOne\", \"XOne\", \"XOne\", \"XOne\", \"XOne\", \"PS4\", \"XOne\", \"XOne\", \"XOne\", \"PS4\", \"PS4\", \"XOne\", \"PS4\", \"XOne\", \"PS4\", \"PS4\", \"PS4\", \"PS4\", \"PS4\", \"XOne\", \"XOne\", \"PS4\", \"PS4\", \"PS4\", \"PS4\", \"PS4\", \"PS4\", \"PS4\", \"PS4\", \"PS4\", \"PS4\", \"PS4\", \"PS4\", \"XOne\", \"PS4\", \"PS4\", \"XOne\", \"XOne\", \"PS4\", \"PS4\", \"PS4\", \"PS4\", \"PS4\", \"XOne\", \"XOne\", \"PS4\", \"PS4\", \"PS4\", \"PS4\", \"PS4\", \"XOne\", \"XOne\", \"XOne\", \"PS4\", \"PS4\", \"PS4\", \"XOne\", \"XOne\", \"XOne\", \"XOne\", \"PS4\", \"PS4\", \"PS4\", \"PS4\", \"PS4\", \"PS4\", \"XOne\", \"PS4\", \"XOne\", \"PS4\", \"PS4\", \"PS4\", \"PS4\", \"PS4\", \"PS4\", \"XOne\", \"XOne\", \"PS4\", \"XOne\", \"XOne\", \"PS4\", \"XOne\", \"XOne\", \"XOne\", \"XOne\", \"PS4\", \"XOne\", \"PS4\", \"PS4\", \"PS4\", \"XOne\", \"PS4\", \"PS4\", \"PS4\", \"PS4\", \"PS4\", \"PS4\", \"XOne\", \"PS4\", \"PS4\", \"PS4\", \"PS4\", \"PS4\", \"PS4\", \"XOne\", \"PS4\", \"PS4\", \"PS4\", \"PS4\", \"PS4\", \"PS4\", \"XOne\", \"PS4\", \"PS4\", \"PS4\", \"PS4\", \"PS4\", \"XOne\", \"XOne\", \"PS4\", \"PS4\", \"PS4\", \"PS4\", \"PS4\", \"PS4\", \"PS4\", \"XOne\", \"PS4\", \"PS4\", \"PS4\", \"PS4\", \"XOne\", \"XOne\", \"XOne\", \"PS4\", \"PS4\", \"XOne\", \"XOne\", \"PS4\", \"PS4\", \"XOne\", \"XOne\", \"PS4\", \"XOne\", \"XOne\", \"XOne\", \"XOne\", \"PS4\", \"XOne\", \"XOne\", \"PS4\", \"PS4\", \"PS4\", \"XOne\", \"PS4\", \"PS4\", \"XOne\", \"PS4\", \"PS4\", \"PS4\", \"PS4\", \"PS4\", \"XOne\", \"XOne\", \"XOne\", \"XOne\", \"PS4\", \"PS4\", \"PS4\", \"PS4\", \"PS4\", \"XOne\", \"PS4\", \"XOne\", \"PS4\", \"PS4\", \"PS4\", \"PS4\", \"XOne\", \"PS4\", \"PS4\", \"PS4\", \"PS4\", \"XOne\", \"XOne\", \"XOne\", \"XOne\", \"PS4\", \"XOne\", \"PS4\", \"PS4\", \"PS4\", \"XOne\", \"XOne\", \"PS4\", \"XOne\", \"XOne\", \"PS4\", \"PS4\", \"PS4\", \"PS4\", \"PS4\", \"PS4\", \"PS4\", \"PS4\", \"PS4\", \"PS4\", \"XOne\", \"PS4\", \"PS4\", \"PS4\", \"PS4\", \"PS4\", \"XOne\", \"PS4\", \"PS4\", \"PS4\", \"XOne\", \"PS4\", \"PS4\", \"PS4\", \"XOne\", \"PS4\", \"XOne\", \"XOne\", \"XOne\", \"XOne\", \"XOne\", \"PS4\", \"XOne\", \"PS4\", \"XOne\", \"PS4\", \"PS4\", \"PS4\", \"XOne\", \"PS4\", \"PS4\", \"XOne\", \"XOne\", \"PS4\", \"XOne\", \"PS4\", \"PS4\", \"PS4\", \"PS4\", \"XOne\", \"PS4\", \"XOne\"], \"textinfo\": \"label+percent\", \"type\": \"pie\", \"values\": [19.39, 15.09, 13.4, 11.8, 10.94, 10.33, 8.72, 8.48, 8.48, 8.22, 8.03, 7.53, 7.37, 7.26, 6.77, 6.33, 6.32, 6.23, 5.82, 5.76, 5.7, 5.43, 5.39, 5.22, 5.13, 5.07, 5.03, 4.92, 4.83, 4.79, 4.54, 4.53, 4.37, 4.36, 4.32, 4.17, 4.15, 4.14, 4.14, 4.11, 4.06, 4.06, 3.98, 3.94, 3.93, 3.77, 3.71, 3.62, 3.6, 3.58, 3.52, 3.49, 3.44, 3.43, 3.41, 3.38, 3.36, 3.36, 3.34, 3.31, 3.3, 3.28, 3.25, 3.19, 3.19, 3.14, 3.12, 3.11, 3.11, 3.07, 3.04, 3.02, 3.01, 2.92, 2.87, 2.82, 2.73, 2.72, 2.72, 2.71, 2.62, 2.59, 2.49, 2.47, 2.47, 2.45, 2.44, 2.42, 2.41, 2.4, 2.38, 2.37, 2.37, 2.35, 2.34, 2.32, 2.26, 2.25, 2.19, 2.18, 2.18, 2.17, 2.17, 2.16, 2.15, 2.09, 2.07, 2.06, 2.05, 2.04, 2.04, 2.04, 2.02, 2.02, 2.02, 1.98, 1.97, 1.92, 1.91, 1.91, 1.9, 1.88, 1.86, 1.83, 1.79, 1.75, 1.75, 1.74, 1.74, 1.74, 1.72, 1.72, 1.71, 1.7, 1.68, 1.64, 1.64, 1.63, 1.62, 1.61, 1.61, 1.6, 1.58, 1.58, 1.54, 1.54, 1.52, 1.51, 1.5, 1.5, 1.49, 1.47, 1.47, 1.46, 1.45, 1.44, 1.43, 1.42, 1.39, 1.39, 1.38, 1.38, 1.37, 1.36, 1.35, 1.33, 1.31, 1.31, 1.31, 1.29, 1.29, 1.28, 1.28, 1.27, 1.24, 1.22, 1.21, 1.2, 1.2, 1.2, 1.19, 1.18, 1.18, 1.16, 1.16, 1.16, 1.15, 1.15, 1.14, 1.14, 1.13, 1.11, 1.11, 1.11, 1.1, 1.09, 1.05, 1.04, 1.04, 1.04, 1.03, 1.01, 1.01, 1.01, 1.01, 1.01, 1.0, 0.99, 0.98, 0.96, 0.96, 0.94, 0.94, 0.9, 0.89, 0.89, 0.89, 0.89, 0.88, 0.87, 0.87, 0.86, 0.86, 0.86, 0.85, 0.85, 0.85, 0.85, 0.83, 0.83, 0.83, 0.82, 0.81, 0.81, 0.79, 0.79, 0.79, 0.78, 0.78, 0.78, 0.78, 0.78, 0.78, 0.77, 0.77, 0.76, 0.76, 0.75, 0.75, 0.75, 0.75, 0.75, 0.75, 0.74, 0.74, 0.73, 0.73, 0.73, 0.73, 0.72, 0.72, 0.72, 0.71, 0.71, 0.71, 0.7, 0.7, 0.7, 0.69, 0.69, 0.69, 0.69, 0.68, 0.68, 0.68, 0.67, 0.67, 0.66, 0.66, 0.66, 0.66, 0.65, 0.65, 0.65, 0.65, 0.64, 0.63, 0.63, 0.62, 0.62, 0.62, 0.62, 0.62, 0.62, 0.61, 0.61, 0.61, 0.6, 0.6, 0.59, 0.58, 0.58, 0.58, 0.57, 0.57, 0.57, 0.57, 0.57, 0.57, 0.56, 0.56, 0.56, 0.56, 0.55, 0.55, 0.55, 0.55, 0.55, 0.54, 0.52, 0.52, 0.52, 0.52, 0.51, 0.51, 0.51, 0.5, 0.5, 0.5, 0.5, 0.49, 0.48, 0.48, 0.48, 0.48, 0.48, 0.48, 0.48, 0.48, 0.48, 0.48, 0.48, 0.48, 0.47, 0.47, 0.47, 0.47, 0.47, 0.47, 0.46, 0.46, 0.45, 0.45, 0.45, 0.45, 0.45, 0.45, 0.44, 0.44, 0.44, 0.43, 0.43, 0.43, 0.43, 0.42, 0.42, 0.42, 0.42, 0.42, 0.41, 0.41, 0.41, 0.41, 0.41, 0.4, 0.39, 0.39, 0.39, 0.39, 0.39, 0.39, 0.38, 0.38, 0.38, 0.37, 0.37, 0.37, 0.36, 0.36, 0.36, 0.35, 0.35, 0.35, 0.35, 0.35, 0.35, 0.34, 0.34, 0.34, 0.34, 0.34, 0.33, 0.33, 0.33, 0.33, 0.33, 0.32, 0.31, 0.31, 0.31, 0.31, 0.31, 0.31, 0.31, 0.31, 0.3, 0.3, 0.3, 0.3, 0.3, 0.3, 0.3, 0.29, 0.29, 0.29, 0.29, 0.29, 0.28, 0.28, 0.28, 0.28, 0.28, 0.28, 0.28, 0.28, 0.27, 0.27, 0.27, 0.27, 0.27, 0.27, 0.27, 0.27, 0.27, 0.27, 0.27, 0.26, 0.26, 0.25, 0.25, 0.25, 0.25, 0.25, 0.25, 0.24, 0.24, 0.24, 0.24, 0.24, 0.24, 0.24, 0.24, 0.24, 0.24, 0.24, 0.24, 0.24, 0.24, 0.24, 0.24, 0.24, 0.23, 0.23, 0.23, 0.23, 0.23, 0.23, 0.23, 0.23, 0.23, 0.22, 0.22, 0.22, 0.22, 0.22, 0.22, 0.22, 0.22, 0.22, 0.22, 0.22, 0.22, 0.21, 0.21, 0.21, 0.21, 0.21, 0.21, 0.21, 0.21, 0.21, 0.21, 0.21, 0.21, 0.21, 0.21, 0.2, 0.2, 0.2, 0.2, 0.2, 0.2, 0.2, 0.19, 0.19, 0.19, 0.19, 0.19, 0.19, 0.19, 0.19, 0.19, 0.19, 0.19, 0.18, 0.18, 0.18, 0.18, 0.18, 0.18, 0.18, 0.17, 0.17, 0.17, 0.17, 0.17, 0.17, 0.17, 0.17, 0.17, 0.17, 0.17, 0.17, 0.16, 0.16, 0.16, 0.16, 0.16, 0.16, 0.16, 0.16, 0.16, 0.16, 0.16, 0.16, 0.16, 0.16, 0.16, 0.15, 0.15, 0.15, 0.15, 0.15, 0.15, 0.15, 0.15, 0.15, 0.15, 0.15, 0.15, 0.15, 0.15, 0.15, 0.15, 0.15, 0.15, 0.14, 0.14, 0.14, 0.14, 0.14, 0.14, 0.14, 0.14, 0.14, 0.14, 0.14, 0.14, 0.14, 0.14, 0.14, 0.14, 0.14, 0.14, 0.14, 0.14, 0.13, 0.13, 0.13, 0.13, 0.13, 0.13, 0.13, 0.13, 0.13, 0.13, 0.13, 0.13, 0.13, 0.13, 0.13, 0.13, 0.13, 0.13, 0.13, 0.12, 0.12, 0.12, 0.12, 0.12, 0.12, 0.12, 0.12, 0.12, 0.12, 0.12, 0.12, 0.12, 0.12, 0.12, 0.12, 0.12, 0.12, 0.12, 0.12, 0.11, 0.11, 0.11, 0.11, 0.11, 0.11, 0.11, 0.11, 0.11, 0.11, 0.11, 0.11, 0.11, 0.11, 0.11, 0.11, 0.11, 0.11, 0.11, 0.11, 0.11, 0.1, 0.1, 0.1, 0.1, 0.1, 0.1, 0.1, 0.1, 0.1, 0.1, 0.1, 0.1, 0.1, 0.1, 0.1, 0.1, 0.1, 0.1, 0.1, 0.1, 0.1, 0.1, 0.1, 0.1, 0.1, 0.09, 0.09, 0.09, 0.09, 0.09, 0.09, 0.09, 0.09, 0.09, 0.09, 0.09, 0.09, 0.09, 0.09, 0.09, 0.09, 0.09, 0.09, 0.09, 0.09, 0.08, 0.08, 0.08, 0.08, 0.08, 0.08, 0.08, 0.08, 0.08, 0.08, 0.08, 0.08, 0.08, 0.08, 0.08, 0.08, 0.08, 0.08, 0.08, 0.08, 0.08, 0.08, 0.08, 0.08, 0.08, 0.08, 0.07, 0.07, 0.07, 0.07, 0.07, 0.07, 0.07, 0.07, 0.07, 0.07, 0.07, 0.07, 0.07, 0.07, 0.07, 0.07, 0.07, 0.07, 0.07, 0.07, 0.07, 0.07, 0.07, 0.07, 0.07, 0.07, 0.07, 0.07, 0.07, 0.07, 0.07, 0.07, 0.07, 0.07, 0.07, 0.07, 0.07, 0.07, 0.06, 0.06, 0.06, 0.06, 0.06, 0.06, 0.06, 0.06, 0.06, 0.06, 0.06, 0.06, 0.06, 0.06, 0.06, 0.06, 0.06, 0.06, 0.06, 0.06, 0.06, 0.06, 0.06, 0.06, 0.06, 0.06, 0.06, 0.06, 0.06, 0.06, 0.06, 0.06, 0.06, 0.06, 0.06, 0.06, 0.06, 0.06, 0.06, 0.06, 0.06, 0.06, 0.06, 0.06, 0.06, 0.06, 0.05, 0.05, 0.05, 0.05, 0.05, 0.05, 0.05, 0.05, 0.05, 0.05, 0.05, 0.05, 0.05, 0.05, 0.05, 0.05, 0.05, 0.05, 0.05, 0.05, 0.05, 0.05, 0.05, 0.05, 0.05, 0.05, 0.05, 0.05, 0.05, 0.05, 0.05, 0.05, 0.05, 0.05, 0.05, 0.05, 0.05, 0.05, 0.05, 0.05, 0.05, 0.05, 0.04, 0.04, 0.04, 0.04, 0.04, 0.04, 0.04, 0.04, 0.04, 0.04, 0.04, 0.04, 0.04, 0.04, 0.04, 0.04, 0.04, 0.04, 0.04, 0.04, 0.04, 0.04, 0.04, 0.04, 0.04, 0.04, 0.04, 0.04, 0.04, 0.04, 0.04, 0.04, 0.04, 0.04, 0.04, 0.04, 0.04, 0.04, 0.04, 0.04, 0.04, 0.04, 0.04, 0.04, 0.04, 0.04, 0.04, 0.04, 0.04, 0.04, 0.04, 0.04, 0.04, 0.04, 0.04, 0.03, 0.03, 0.03, 0.03, 0.03, 0.03, 0.03, 0.03, 0.03, 0.03, 0.03, 0.03, 0.03, 0.03, 0.03, 0.03, 0.03, 0.03, 0.03, 0.03, 0.03, 0.03, 0.03, 0.03, 0.03, 0.03, 0.03, 0.03, 0.03, 0.03, 0.03, 0.03, 0.03, 0.03, 0.03, 0.03, 0.03, 0.03, 0.03, 0.03, 0.03, 0.03, 0.03, 0.03, 0.03, 0.03, 0.03, 0.03, 0.02, 0.02, 0.02, 0.02, 0.02, 0.02, 0.02, 0.02, 0.02, 0.02, 0.02, 0.02, 0.02, 0.02, 0.02, 0.02, 0.02, 0.02, 0.02, 0.02, 0.02, 0.02, 0.02, 0.02, 0.02, 0.02, 0.02, 0.02, 0.02, 0.02, 0.02, 0.02, 0.02, 0.02, 0.02, 0.02, 0.02, 0.02, 0.02, 0.02, 0.02, 0.02, 0.02, 0.02, 0.02, 0.02, 0.02, 0.02, 0.02, 0.02, 0.02, 0.02, 0.02, 0.02, 0.02, 0.02, 0.02, 0.02, 0.02, 0.02, 0.02, 0.02, 0.02, 0.02, 0.02, 0.02, 0.02, 0.02, 0.01, 0.01, 0.01, 0.01, 0.01, 0.01, 0.01, 0.01, 0.01, 0.01, 0.01, 0.01, 0.01, 0.01, 0.01, 0.01, 0.01, 0.01, 0.01, 0.01, 0.01, 0.01, 0.01, 0.01, 0.01, 0.01, 0.01, 0.01, 0.01, 0.01, 0.01, 0.01, 0.01, 0.01, 0.01, 0.01, 0.01, 0.01, 0.01, 0.01, 0.01, 0.01, 0.01, 0.01, 0.01, 0.01, 0.01, 0.01, 0.01, 0.01, 0.01]}],                        {\"template\": {\"data\": {\"bar\": [{\"error_x\": {\"color\": \"#2a3f5f\"}, \"error_y\": {\"color\": \"#2a3f5f\"}, \"marker\": {\"line\": {\"color\": \"#E5ECF6\", \"width\": 0.5}}, \"type\": \"bar\"}], \"barpolar\": [{\"marker\": {\"line\": {\"color\": \"#E5ECF6\", \"width\": 0.5}}, \"type\": \"barpolar\"}], \"carpet\": [{\"aaxis\": {\"endlinecolor\": \"#2a3f5f\", \"gridcolor\": \"white\", \"linecolor\": \"white\", \"minorgridcolor\": \"white\", \"startlinecolor\": \"#2a3f5f\"}, \"baxis\": {\"endlinecolor\": \"#2a3f5f\", \"gridcolor\": \"white\", \"linecolor\": \"white\", \"minorgridcolor\": \"white\", \"startlinecolor\": \"#2a3f5f\"}, \"type\": \"carpet\"}], \"choropleth\": [{\"colorbar\": {\"outlinewidth\": 0, \"ticks\": \"\"}, \"type\": \"choropleth\"}], \"contour\": [{\"colorbar\": {\"outlinewidth\": 0, \"ticks\": \"\"}, \"colorscale\": [[0.0, \"#0d0887\"], [0.1111111111111111, \"#46039f\"], [0.2222222222222222, \"#7201a8\"], [0.3333333333333333, \"#9c179e\"], [0.4444444444444444, \"#bd3786\"], [0.5555555555555556, \"#d8576b\"], [0.6666666666666666, \"#ed7953\"], [0.7777777777777778, \"#fb9f3a\"], [0.8888888888888888, \"#fdca26\"], [1.0, \"#f0f921\"]], \"type\": \"contour\"}], \"contourcarpet\": [{\"colorbar\": {\"outlinewidth\": 0, \"ticks\": \"\"}, \"type\": \"contourcarpet\"}], \"heatmap\": [{\"colorbar\": {\"outlinewidth\": 0, \"ticks\": \"\"}, \"colorscale\": [[0.0, \"#0d0887\"], [0.1111111111111111, \"#46039f\"], [0.2222222222222222, \"#7201a8\"], [0.3333333333333333, \"#9c179e\"], [0.4444444444444444, \"#bd3786\"], [0.5555555555555556, \"#d8576b\"], [0.6666666666666666, \"#ed7953\"], [0.7777777777777778, \"#fb9f3a\"], [0.8888888888888888, \"#fdca26\"], [1.0, \"#f0f921\"]], \"type\": \"heatmap\"}], \"heatmapgl\": [{\"colorbar\": {\"outlinewidth\": 0, \"ticks\": \"\"}, \"colorscale\": [[0.0, \"#0d0887\"], [0.1111111111111111, \"#46039f\"], [0.2222222222222222, \"#7201a8\"], [0.3333333333333333, \"#9c179e\"], [0.4444444444444444, \"#bd3786\"], [0.5555555555555556, \"#d8576b\"], [0.6666666666666666, \"#ed7953\"], [0.7777777777777778, \"#fb9f3a\"], [0.8888888888888888, \"#fdca26\"], [1.0, \"#f0f921\"]], \"type\": \"heatmapgl\"}], \"histogram\": [{\"marker\": {\"colorbar\": {\"outlinewidth\": 0, \"ticks\": \"\"}}, \"type\": \"histogram\"}], \"histogram2d\": [{\"colorbar\": {\"outlinewidth\": 0, \"ticks\": \"\"}, \"colorscale\": [[0.0, \"#0d0887\"], [0.1111111111111111, \"#46039f\"], [0.2222222222222222, \"#7201a8\"], [0.3333333333333333, \"#9c179e\"], [0.4444444444444444, \"#bd3786\"], [0.5555555555555556, \"#d8576b\"], [0.6666666666666666, \"#ed7953\"], [0.7777777777777778, \"#fb9f3a\"], [0.8888888888888888, \"#fdca26\"], [1.0, \"#f0f921\"]], \"type\": \"histogram2d\"}], \"histogram2dcontour\": [{\"colorbar\": {\"outlinewidth\": 0, \"ticks\": \"\"}, \"colorscale\": [[0.0, \"#0d0887\"], [0.1111111111111111, \"#46039f\"], [0.2222222222222222, \"#7201a8\"], [0.3333333333333333, \"#9c179e\"], [0.4444444444444444, \"#bd3786\"], [0.5555555555555556, \"#d8576b\"], [0.6666666666666666, \"#ed7953\"], [0.7777777777777778, \"#fb9f3a\"], [0.8888888888888888, \"#fdca26\"], [1.0, \"#f0f921\"]], \"type\": \"histogram2dcontour\"}], \"mesh3d\": [{\"colorbar\": {\"outlinewidth\": 0, \"ticks\": \"\"}, \"type\": \"mesh3d\"}], \"parcoords\": [{\"line\": {\"colorbar\": {\"outlinewidth\": 0, \"ticks\": \"\"}}, \"type\": \"parcoords\"}], \"pie\": [{\"automargin\": true, \"type\": \"pie\"}], \"scatter\": [{\"marker\": {\"colorbar\": {\"outlinewidth\": 0, \"ticks\": \"\"}}, \"type\": \"scatter\"}], \"scatter3d\": [{\"line\": {\"colorbar\": {\"outlinewidth\": 0, \"ticks\": \"\"}}, \"marker\": {\"colorbar\": {\"outlinewidth\": 0, \"ticks\": \"\"}}, \"type\": \"scatter3d\"}], \"scattercarpet\": [{\"marker\": {\"colorbar\": {\"outlinewidth\": 0, \"ticks\": \"\"}}, \"type\": \"scattercarpet\"}], \"scattergeo\": [{\"marker\": {\"colorbar\": {\"outlinewidth\": 0, \"ticks\": \"\"}}, \"type\": \"scattergeo\"}], \"scattergl\": [{\"marker\": {\"colorbar\": {\"outlinewidth\": 0, \"ticks\": \"\"}}, \"type\": \"scattergl\"}], \"scattermapbox\": [{\"marker\": {\"colorbar\": {\"outlinewidth\": 0, \"ticks\": \"\"}}, \"type\": \"scattermapbox\"}], \"scatterpolar\": [{\"marker\": {\"colorbar\": {\"outlinewidth\": 0, \"ticks\": \"\"}}, \"type\": \"scatterpolar\"}], \"scatterpolargl\": [{\"marker\": {\"colorbar\": {\"outlinewidth\": 0, \"ticks\": \"\"}}, \"type\": \"scatterpolargl\"}], \"scatterternary\": [{\"marker\": {\"colorbar\": {\"outlinewidth\": 0, \"ticks\": \"\"}}, \"type\": \"scatterternary\"}], \"surface\": [{\"colorbar\": {\"outlinewidth\": 0, \"ticks\": \"\"}, \"colorscale\": [[0.0, \"#0d0887\"], [0.1111111111111111, \"#46039f\"], [0.2222222222222222, \"#7201a8\"], [0.3333333333333333, \"#9c179e\"], [0.4444444444444444, \"#bd3786\"], [0.5555555555555556, \"#d8576b\"], [0.6666666666666666, \"#ed7953\"], [0.7777777777777778, \"#fb9f3a\"], [0.8888888888888888, \"#fdca26\"], [1.0, \"#f0f921\"]], \"type\": \"surface\"}], \"table\": [{\"cells\": {\"fill\": {\"color\": \"#EBF0F8\"}, \"line\": {\"color\": \"white\"}}, \"header\": {\"fill\": {\"color\": \"#C8D4E3\"}, \"line\": {\"color\": \"white\"}}, \"type\": \"table\"}]}, \"layout\": {\"annotationdefaults\": {\"arrowcolor\": \"#2a3f5f\", \"arrowhead\": 0, \"arrowwidth\": 1}, \"coloraxis\": {\"colorbar\": {\"outlinewidth\": 0, \"ticks\": \"\"}}, \"colorscale\": {\"diverging\": [[0, \"#8e0152\"], [0.1, \"#c51b7d\"], [0.2, \"#de77ae\"], [0.3, \"#f1b6da\"], [0.4, \"#fde0ef\"], [0.5, \"#f7f7f7\"], [0.6, \"#e6f5d0\"], [0.7, \"#b8e186\"], [0.8, \"#7fbc41\"], [0.9, \"#4d9221\"], [1, \"#276419\"]], \"sequential\": [[0.0, \"#0d0887\"], [0.1111111111111111, \"#46039f\"], [0.2222222222222222, \"#7201a8\"], [0.3333333333333333, \"#9c179e\"], [0.4444444444444444, \"#bd3786\"], [0.5555555555555556, \"#d8576b\"], [0.6666666666666666, \"#ed7953\"], [0.7777777777777778, \"#fb9f3a\"], [0.8888888888888888, \"#fdca26\"], [1.0, \"#f0f921\"]], \"sequentialminus\": [[0.0, \"#0d0887\"], [0.1111111111111111, \"#46039f\"], [0.2222222222222222, \"#7201a8\"], [0.3333333333333333, \"#9c179e\"], [0.4444444444444444, \"#bd3786\"], [0.5555555555555556, \"#d8576b\"], [0.6666666666666666, \"#ed7953\"], [0.7777777777777778, \"#fb9f3a\"], [0.8888888888888888, \"#fdca26\"], [1.0, \"#f0f921\"]]}, \"colorway\": [\"#636efa\", \"#EF553B\", \"#00cc96\", \"#ab63fa\", \"#FFA15A\", \"#19d3f3\", \"#FF6692\", \"#B6E880\", \"#FF97FF\", \"#FECB52\"], \"font\": {\"color\": \"#2a3f5f\"}, \"geo\": {\"bgcolor\": \"white\", \"lakecolor\": \"white\", \"landcolor\": \"#E5ECF6\", \"showlakes\": true, \"showland\": true, \"subunitcolor\": \"white\"}, \"hoverlabel\": {\"align\": \"left\"}, \"hovermode\": \"closest\", \"mapbox\": {\"style\": \"light\"}, \"paper_bgcolor\": \"white\", \"plot_bgcolor\": \"#E5ECF6\", \"polar\": {\"angularaxis\": {\"gridcolor\": \"white\", \"linecolor\": \"white\", \"ticks\": \"\"}, \"bgcolor\": \"#E5ECF6\", \"radialaxis\": {\"gridcolor\": \"white\", \"linecolor\": \"white\", \"ticks\": \"\"}}, \"scene\": {\"xaxis\": {\"backgroundcolor\": \"#E5ECF6\", \"gridcolor\": \"white\", \"gridwidth\": 2, \"linecolor\": \"white\", \"showbackground\": true, \"ticks\": \"\", \"zerolinecolor\": \"white\"}, \"yaxis\": {\"backgroundcolor\": \"#E5ECF6\", \"gridcolor\": \"white\", \"gridwidth\": 2, \"linecolor\": \"white\", \"showbackground\": true, \"ticks\": \"\", \"zerolinecolor\": \"white\"}, \"zaxis\": {\"backgroundcolor\": \"#E5ECF6\", \"gridcolor\": \"white\", \"gridwidth\": 2, \"linecolor\": \"white\", \"showbackground\": true, \"ticks\": \"\", \"zerolinecolor\": \"white\"}}, \"shapedefaults\": {\"line\": {\"color\": \"#2a3f5f\"}}, \"ternary\": {\"aaxis\": {\"gridcolor\": \"white\", \"linecolor\": \"white\", \"ticks\": \"\"}, \"baxis\": {\"gridcolor\": \"white\", \"linecolor\": \"white\", \"ticks\": \"\"}, \"bgcolor\": \"#E5ECF6\", \"caxis\": {\"gridcolor\": \"white\", \"linecolor\": \"white\", \"ticks\": \"\"}}, \"title\": {\"x\": 0.05}, \"xaxis\": {\"automargin\": true, \"gridcolor\": \"white\", \"linecolor\": \"white\", \"ticks\": \"\", \"title\": {\"standoff\": 15}, \"zerolinecolor\": \"white\", \"zerolinewidth\": 2}, \"yaxis\": {\"automargin\": true, \"gridcolor\": \"white\", \"linecolor\": \"white\", \"ticks\": \"\", \"title\": {\"standoff\": 15}, \"zerolinecolor\": \"white\", \"zerolinewidth\": 2}}}},                        {\"responsive\": true}                    ).then(function(){\n",
       "                            \n",
       "var gd = document.getElementById('0df0daa2-f9be-442d-a6bd-1cecff1db09f');\n",
       "var x = new MutationObserver(function (mutations, observer) {{\n",
       "        var display = window.getComputedStyle(gd).display;\n",
       "        if (!display || display === 'none') {{\n",
       "            console.log([gd, 'removed!']);\n",
       "            Plotly.purge(gd);\n",
       "            observer.disconnect();\n",
       "        }}\n",
       "}});\n",
       "\n",
       "// Listen for the removal of the full notebook cells\n",
       "var notebookContainer = gd.closest('#notebook-container');\n",
       "if (notebookContainer) {{\n",
       "    x.observe(notebookContainer, {childList: true});\n",
       "}}\n",
       "\n",
       "// Listen for the clearing of the current output cell\n",
       "var outputEl = gd.closest('.output');\n",
       "if (outputEl) {{\n",
       "    x.observe(outputEl, {childList: true});\n",
       "}}\n",
       "\n",
       "                        })                };                });            </script>        </div>"
      ]
     },
     "metadata": {},
     "output_type": "display_data"
    }
   ],
   "source": [
    "#Video Game Sales Breakdown by Platform\n",
    "labels = VGS.Platform\n",
    "values = VGS.Global_Sales\n",
    "\n",
    "fig = go.Figure(data=[go.Pie(labels=labels, values=values, textinfo='label+percent',\n",
    "                             insidetextorientation='radial'\n",
    "                            )])\n",
    "fig.show()"
   ]
  },
  {
   "cell_type": "code",
   "execution_count": 14,
   "metadata": {
    "scrolled": true
   },
   "outputs": [
    {
     "data": {
      "image/png": "[encoded data removed]",
      "text/plain": [
       "<Figure size 432x288 with 1 Axes>"
      ]
     },
     "metadata": {
      "needs_background": "light"
     },
     "output_type": "display_data"
    }
   ],
   "source": [
    "#Video Game Sales by Top 20 Publishers\n",
    "Pub = VGS.groupby('Publisher')['Global_Sales'].sum()\n",
    "Pubs = Pub.sort_values(ascending = False)\n",
    "Pubss= Pubs[0:20]\n",
    "Pubss.plot(kind = 'barh')\n",
    "plt.ylabel('Publisher')\n",
    "plt.xlabel('Sales (Mill)')\n",
    "plt.title('Video Game Sales by Top 20 Publishers')\n",
    "plt.savefig('/Users/Saacid/Desktop/Pub_Sales1RB.png', bbox_inches= 'tight', dpi =1366)\n"
   ]
  },
  {
   "cell_type": "code",
   "execution_count": 15,
   "metadata": {},
   "outputs": [
    {
     "data": {
      "text/plain": [
       "Publisher\n",
       "Electronic Arts                   153.44\n",
       "Activision                        110.46\n",
       "Ubisoft                            83.85\n",
       "Sony Interactive Entertainment     77.97\n",
       "Take-Two Interactive               70.67\n",
       "Name: Global_Sales, dtype: float64"
      ]
     },
     "execution_count": 15,
     "metadata": {},
     "output_type": "execute_result"
    }
   ],
   "source": [
    "#Video Game Sales by Top 5 Publishers\n",
    "Pubsss= Pubs[0:5]\n",
    "Pubsss"
   ]
  },
  {
   "cell_type": "code",
   "execution_count": 16,
   "metadata": {
    "scrolled": true
   },
   "outputs": [
    {
     "data": {
      "text/plain": [
       "Genre\n",
       "Fighting         1.59\n",
       "Platform         0.61\n",
       "Racing           9.24\n",
       "Role-Playing     5.60\n",
       "Shooter         49.50\n",
       "Simulation       2.12\n",
       "Sports          84.78\n",
       "Name: Global_Sales, dtype: float64"
      ]
     },
     "execution_count": 16,
     "metadata": {},
     "output_type": "execute_result"
    }
   ],
   "source": [
    "#Genre Breakdown of Video Game Sales by Top 5 Publishers\n",
    "xEA=VGS[VGS.Publisher =='Electronic Arts']\n",
    "a=xEA.groupby('Genre')[\"Global_Sales\"].sum() #Shows the Breakdown of EA's video game sales by Genre\n",
    "xActi=VGS[VGS.Publisher=='Activision']\n",
    "b=xActi.groupby('Genre')[\"Global_Sales\"].sum()\n",
    "xUbi=VGS[VGS.Publisher=='Ubisoft']\n",
    "c=xUbi.groupby('Genre')[\"Global_Sales\"].sum()\n",
    "x2k=VGS[VGS.Publisher=='Take-Two Interactive']\n",
    "d=x2k.groupby('Genre')[\"Global_Sales\"].sum()\n",
    "a #Prints the Breakdown of EA's video game sales by Genre\n"
   ]
  },
  {
   "cell_type": "code",
   "execution_count": 17,
   "metadata": {
    "scrolled": true
   },
   "outputs": [
    {
     "data": {
      "application/vnd.plotly.v1+json": {
       "config": {
        "linkText": "Export to plot.ly",
        "plotlyServerURL": "https://plot.ly",
        "showLink": false
       },
       "data": [
        {
         "marker": {
          "color": "rgb(215,48,39)"
         },
         "name": "Electronic Arts",
         "type": "histogram",
         "x": [
          "Sports",
          "Sports",
          "Sports",
          "Shooter",
          "Shooter",
          "Sports",
          "Shooter",
          "Shooter",
          "Shooter",
          "Shooter",
          "Sports",
          "Sports",
          "Sports",
          "Sports",
          "Sports",
          "Sports",
          "Shooter",
          "Racing",
          "Sports",
          "Sports",
          "Sports",
          "Role-Playing",
          "Sports",
          "Sports",
          "Racing",
          "Racing",
          "Shooter",
          "Shooter",
          "Shooter",
          "Sports",
          "Shooter",
          "Sports",
          "Role-Playing",
          "Simulation",
          "Shooter",
          "Sports",
          "Sports",
          "Shooter",
          "Fighting",
          "Role-Playing",
          "Sports",
          "Shooter",
          "Sports",
          "Role-Playing",
          "Racing",
          "Simulation",
          "Racing",
          "Shooter",
          "Racing",
          "Sports",
          "Shooter",
          "Shooter",
          "Sports",
          "Sports",
          "Sports",
          "Sports",
          "Sports",
          "Sports",
          "Sports",
          "Fighting",
          "Platform",
          "Sports",
          "Sports",
          "Sports",
          "Sports",
          "Sports",
          "Sports",
          "Sports",
          "Sports",
          "Sports",
          "Sports",
          "Platform",
          "Sports"
         ]
        },
        {
         "marker": {
          "color": "rgb(165,0,38)"
         },
         "name": "Activision",
         "opacity": 0.75,
         "type": "histogram",
         "x": [
          "Shooter",
          "Shooter",
          "Shooter",
          "Shooter",
          "Shooter",
          "Shooter",
          "Shooter",
          "Shooter",
          "Platform",
          "Shooter",
          "Shooter",
          "Shooter",
          "Shooter",
          "Shooter",
          "Shooter",
          "Shooter",
          "Shooter",
          "Music",
          "Music",
          "Shooter",
          "Shooter",
          "Action-Adventure",
          "Platform",
          "Action",
          "Action-Adventure",
          "Platform",
          "Misc",
          "Platform",
          "Shooter",
          "Action-Adventure",
          "Misc",
          "Platform",
          "Shooter",
          "Action",
          "Sports",
          "Shooter",
          "Puzzle",
          "Action",
          "Action-Adventure",
          "Action",
          "Puzzle",
          "Action",
          "Shooter",
          "Sports",
          "Action",
          "Action",
          "Action",
          "Action",
          "Action",
          "Adventure",
          "Adventure",
          "Action",
          "Platform",
          "Action"
         ]
        },
        {
         "marker": {
          "color": "rgb(244,109,67)"
         },
         "name": "Ubisoft",
         "opacity": 0.75,
         "type": "histogram",
         "x": [
          "Shooter",
          "Shooter",
          "Action-Adventure",
          "Action",
          "Action",
          "Shooter",
          "Action",
          "Action",
          "Action",
          "Action-Adventure",
          "Shooter",
          "Action-Adventure",
          "Shooter",
          "Shooter",
          "Action",
          "Action",
          "Racing",
          "Action",
          "Shooter",
          "Action-Adventure",
          "Shooter",
          "Platform",
          "Action",
          "Role-Playing",
          "Action",
          "Sports",
          "Action-Adventure",
          "Action",
          "Action",
          "Racing",
          "Music",
          "Role-Playing",
          "Music",
          "Sports",
          "Music",
          "Racing",
          "Music",
          "Misc",
          "Music",
          "Music",
          "Music",
          "Music",
          "Platform",
          "Music",
          "Music",
          "Action",
          "Action",
          "Racing",
          "Misc",
          "Music",
          "Adventure",
          "Sports",
          "Fighting",
          "Music",
          "Racing",
          "Music",
          "Misc",
          "Misc",
          "Action",
          "Racing",
          "Action",
          "Misc",
          "Misc",
          "Music",
          "Action",
          "Action",
          "Misc",
          "Misc",
          "Music",
          "Role-Playing",
          "Music",
          "Action-Adventure",
          "Racing",
          "Misc",
          "Action",
          "Action",
          "Misc"
         ]
        },
        {
         "marker": {
          "color": "rgb(69,117,180)"
         },
         "name": "Sony Interactive Entertainment",
         "opacity": 0.75,
         "type": "histogram",
         "x": [
          "Action",
          "Action-Adventure",
          "Misc",
          "Action",
          "Action",
          "Racing",
          "Role-Playing",
          "Shooter",
          "Action-Adventure",
          "Platform",
          "Action",
          "Racing",
          "Misc",
          "Platform",
          "Adventure",
          "Platform",
          "Shooter",
          "Action-Adventure",
          "Sports",
          "Sports",
          "Sports",
          "Action",
          "Shooter",
          "Sports",
          "Racing",
          "Party",
          "Adventure",
          "Sports",
          "Shooter",
          "Platform",
          "Action-Adventure",
          "Action",
          "Action-Adventure",
          "Racing",
          "Platform",
          "Music",
          "Action",
          "Shooter",
          "Music",
          "Action",
          "Action-Adventure",
          "Simulation",
          "Action",
          "Shooter",
          "Party",
          "Adventure",
          "Action",
          "Music",
          "Strategy",
          "Music",
          "Shooter",
          "Platform"
         ]
        },
        {
         "marker": {
          "color": "rgb(116,173,209)"
         },
         "name": "Take-Two Interactive",
         "opacity": 0.75,
         "type": "histogram",
         "x": [
          "Action",
          "Action",
          "Sports",
          "Sports",
          "Sports",
          "Action-Adventure",
          "Sports",
          "Sports",
          "Sports",
          "Sports",
          "Sports",
          "Sports",
          "Sports",
          "Sports",
          "Shooter",
          "Sports",
          "Sports",
          "Action-Adventure",
          "Shooter",
          "Sports",
          "Shooter",
          "Shooter",
          "Shooter",
          "Sports",
          "Sports",
          "Sports",
          "Adventure",
          "Sports",
          "Shooter",
          "Shooter",
          "Strategy",
          "Shooter",
          "Adventure",
          "Strategy"
         ]
        }
       ],
       "layout": {
        "bargap": 0.2,
        "bargroupgap": 0.1,
        "paper_bgcolor": "rgb(243, 243, 243)",
        "plot_bgcolor": "rgb(243, 243, 243)",
        "template": {
         "data": {
          "bar": [
           {
            "error_x": {
             "color": "#2a3f5f"
            },
            "error_y": {
             "color": "#2a3f5f"
            },
            "marker": {
             "line": {
              "color": "#E5ECF6",
              "width": 0.5
             }
            },
            "type": "bar"
           }
          ],
          "barpolar": [
           {
            "marker": {
             "line": {
              "color": "#E5ECF6",
              "width": 0.5
             }
            },
            "type": "barpolar"
           }
          ],
          "carpet": [
           {
            "aaxis": {
             "endlinecolor": "#2a3f5f",
             "gridcolor": "white",
             "linecolor": "white",
             "minorgridcolor": "white",
             "startlinecolor": "#2a3f5f"
            },
            "baxis": {
             "endlinecolor": "#2a3f5f",
             "gridcolor": "white",
             "linecolor": "white",
             "minorgridcolor": "white",
             "startlinecolor": "#2a3f5f"
            },
            "type": "carpet"
           }
          ],
          "choropleth": [
           {
            "colorbar": {
             "outlinewidth": 0,
             "ticks": ""
            },
            "type": "choropleth"
           }
          ],
          "contour": [
           {
            "colorbar": {
             "outlinewidth": 0,
             "ticks": ""
            },
            "colorscale": [
             [
              0,
              "#0d0887"
             ],
             [
              0.1111111111111111,
              "#46039f"
             ],
             [
              0.2222222222222222,
              "#7201a8"
             ],
             [
              0.3333333333333333,
              "#9c179e"
             ],
             [
              0.4444444444444444,
              "#bd3786"
             ],
             [
              0.5555555555555556,
              "#d8576b"
             ],
             [
              0.6666666666666666,
              "#ed7953"
             ],
             [
              0.7777777777777778,
              "#fb9f3a"
             ],
             [
              0.8888888888888888,
              "#fdca26"
             ],
             [
              1,
              "#f0f921"
             ]
            ],
            "type": "contour"
           }
          ],
          "contourcarpet": [
           {
            "colorbar": {
             "outlinewidth": 0,
             "ticks": ""
            },
            "type": "contourcarpet"
           }
          ],
          "heatmap": [
           {
            "colorbar": {
             "outlinewidth": 0,
             "ticks": ""
            },
            "colorscale": [
             [
              0,
              "#0d0887"
             ],
             [
              0.1111111111111111,
              "#46039f"
             ],
             [
              0.2222222222222222,
              "#7201a8"
             ],
             [
              0.3333333333333333,
              "#9c179e"
             ],
             [
              0.4444444444444444,
              "#bd3786"
             ],
             [
              0.5555555555555556,
              "#d8576b"
             ],
             [
              0.6666666666666666,
              "#ed7953"
             ],
             [
              0.7777777777777778,
              "#fb9f3a"
             ],
             [
              0.8888888888888888,
              "#fdca26"
             ],
             [
              1,
              "#f0f921"
             ]
            ],
            "type": "heatmap"
           }
          ],
          "heatmapgl": [
           {
            "colorbar": {
             "outlinewidth": 0,
             "ticks": ""
            },
            "colorscale": [
             [
              0,
              "#0d0887"
             ],
             [
              0.1111111111111111,
              "#46039f"
             ],
             [
              0.2222222222222222,
              "#7201a8"
             ],
             [
              0.3333333333333333,
              "#9c179e"
             ],
             [
              0.4444444444444444,
              "#bd3786"
             ],
             [
              0.5555555555555556,
              "#d8576b"
             ],
             [
              0.6666666666666666,
              "#ed7953"
             ],
             [
              0.7777777777777778,
              "#fb9f3a"
             ],
             [
              0.8888888888888888,
              "#fdca26"
             ],
             [
              1,
              "#f0f921"
             ]
            ],
            "type": "heatmapgl"
           }
          ],
          "histogram": [
           {
            "marker": {
             "colorbar": {
              "outlinewidth": 0,
              "ticks": ""
             }
            },
            "type": "histogram"
           }
          ],
          "histogram2d": [
           {
            "colorbar": {
             "outlinewidth": 0,
             "ticks": ""
            },
            "colorscale": [
             [
              0,
              "#0d0887"
             ],
             [
              0.1111111111111111,
              "#46039f"
             ],
             [
              0.2222222222222222,
              "#7201a8"
             ],
             [
              0.3333333333333333,
              "#9c179e"
             ],
             [
              0.4444444444444444,
              "#bd3786"
             ],
             [
              0.5555555555555556,
              "#d8576b"
             ],
             [
              0.6666666666666666,
              "#ed7953"
             ],
             [
              0.7777777777777778,
              "#fb9f3a"
             ],
             [
              0.8888888888888888,
              "#fdca26"
             ],
             [
              1,
              "#f0f921"
             ]
            ],
            "type": "histogram2d"
           }
          ],
          "histogram2dcontour": [
           {
            "colorbar": {
             "outlinewidth": 0,
             "ticks": ""
            },
            "colorscale": [
             [
              0,
              "#0d0887"
             ],
             [
              0.1111111111111111,
              "#46039f"
             ],
             [
              0.2222222222222222,
              "#7201a8"
             ],
             [
              0.3333333333333333,
              "#9c179e"
             ],
             [
              0.4444444444444444,
              "#bd3786"
             ],
             [
              0.5555555555555556,
              "#d8576b"
             ],
             [
              0.6666666666666666,
              "#ed7953"
             ],
             [
              0.7777777777777778,
              "#fb9f3a"
             ],
             [
              0.8888888888888888,
              "#fdca26"
             ],
             [
              1,
              "#f0f921"
             ]
            ],
            "type": "histogram2dcontour"
           }
          ],
          "mesh3d": [
           {
            "colorbar": {
             "outlinewidth": 0,
             "ticks": ""
            },
            "type": "mesh3d"
           }
          ],
          "parcoords": [
           {
            "line": {
             "colorbar": {
              "outlinewidth": 0,
              "ticks": ""
             }
            },
            "type": "parcoords"
           }
          ],
          "pie": [
           {
            "automargin": true,
            "type": "pie"
           }
          ],
          "scatter": [
           {
            "marker": {
             "colorbar": {
              "outlinewidth": 0,
              "ticks": ""
             }
            },
            "type": "scatter"
           }
          ],
          "scatter3d": [
           {
            "line": {
             "colorbar": {
              "outlinewidth": 0,
              "ticks": ""
             }
            },
            "marker": {
             "colorbar": {
              "outlinewidth": 0,
              "ticks": ""
             }
            },
            "type": "scatter3d"
           }
          ],
          "scattercarpet": [
           {
            "marker": {
             "colorbar": {
              "outlinewidth": 0,
              "ticks": ""
             }
            },
            "type": "scattercarpet"
           }
          ],
          "scattergeo": [
           {
            "marker": {
             "colorbar": {
              "outlinewidth": 0,
              "ticks": ""
             }
            },
            "type": "scattergeo"
           }
          ],
          "scattergl": [
           {
            "marker": {
             "colorbar": {
              "outlinewidth": 0,
              "ticks": ""
             }
            },
            "type": "scattergl"
           }
          ],
          "scattermapbox": [
           {
            "marker": {
             "colorbar": {
              "outlinewidth": 0,
              "ticks": ""
             }
            },
            "type": "scattermapbox"
           }
          ],
          "scatterpolar": [
           {
            "marker": {
             "colorbar": {
              "outlinewidth": 0,
              "ticks": ""
             }
            },
            "type": "scatterpolar"
           }
          ],
          "scatterpolargl": [
           {
            "marker": {
             "colorbar": {
              "outlinewidth": 0,
              "ticks": ""
             }
            },
            "type": "scatterpolargl"
           }
          ],
          "scatterternary": [
           {
            "marker": {
             "colorbar": {
              "outlinewidth": 0,
              "ticks": ""
             }
            },
            "type": "scatterternary"
           }
          ],
          "surface": [
           {
            "colorbar": {
             "outlinewidth": 0,
             "ticks": ""
            },
            "colorscale": [
             [
              0,
              "#0d0887"
             ],
             [
              0.1111111111111111,
              "#46039f"
             ],
             [
              0.2222222222222222,
              "#7201a8"
             ],
             [
              0.3333333333333333,
              "#9c179e"
             ],
             [
              0.4444444444444444,
              "#bd3786"
             ],
             [
              0.5555555555555556,
              "#d8576b"
             ],
             [
              0.6666666666666666,
              "#ed7953"
             ],
             [
              0.7777777777777778,
              "#fb9f3a"
             ],
             [
              0.8888888888888888,
              "#fdca26"
             ],
             [
              1,
              "#f0f921"
             ]
            ],
            "type": "surface"
           }
          ],
          "table": [
           {
            "cells": {
             "fill": {
              "color": "#EBF0F8"
             },
             "line": {
              "color": "white"
             }
            },
            "header": {
             "fill": {
              "color": "#C8D4E3"
             },
             "line": {
              "color": "white"
             }
            },
            "type": "table"
           }
          ]
         },
         "layout": {
          "annotationdefaults": {
           "arrowcolor": "#2a3f5f",
           "arrowhead": 0,
           "arrowwidth": 1
          },
          "coloraxis": {
           "colorbar": {
            "outlinewidth": 0,
            "ticks": ""
           }
          },
          "colorscale": {
           "diverging": [
            [
             0,
             "#8e0152"
            ],
            [
             0.1,
             "#c51b7d"
            ],
            [
             0.2,
             "#de77ae"
            ],
            [
             0.3,
             "#f1b6da"
            ],
            [
             0.4,
             "#fde0ef"
            ],
            [
             0.5,
             "#f7f7f7"
            ],
            [
             0.6,
             "#e6f5d0"
            ],
            [
             0.7,
             "#b8e186"
            ],
            [
             0.8,
             "#7fbc41"
            ],
            [
             0.9,
             "#4d9221"
            ],
            [
             1,
             "#276419"
            ]
           ],
           "sequential": [
            [
             0,
             "#0d0887"
            ],
            [
             0.1111111111111111,
             "#46039f"
            ],
            [
             0.2222222222222222,
             "#7201a8"
            ],
            [
             0.3333333333333333,
             "#9c179e"
            ],
            [
             0.4444444444444444,
             "#bd3786"
            ],
            [
             0.5555555555555556,
             "#d8576b"
            ],
            [
             0.6666666666666666,
             "#ed7953"
            ],
            [
             0.7777777777777778,
             "#fb9f3a"
            ],
            [
             0.8888888888888888,
             "#fdca26"
            ],
            [
             1,
             "#f0f921"
            ]
           ],
           "sequentialminus": [
            [
             0,
             "#0d0887"
            ],
            [
             0.1111111111111111,
             "#46039f"
            ],
            [
             0.2222222222222222,
             "#7201a8"
            ],
            [
             0.3333333333333333,
             "#9c179e"
            ],
            [
             0.4444444444444444,
             "#bd3786"
            ],
            [
             0.5555555555555556,
             "#d8576b"
            ],
            [
             0.6666666666666666,
             "#ed7953"
            ],
            [
             0.7777777777777778,
             "#fb9f3a"
            ],
            [
             0.8888888888888888,
             "#fdca26"
            ],
            [
             1,
             "#f0f921"
            ]
           ]
          },
          "colorway": [
           "#636efa",
           "#EF553B",
           "#00cc96",
           "#ab63fa",
           "#FFA15A",
           "#19d3f3",
           "#FF6692",
           "#B6E880",
           "#FF97FF",
           "#FECB52"
          ],
          "font": {
           "color": "#2a3f5f"
          },
          "geo": {
           "bgcolor": "white",
           "lakecolor": "white",
           "landcolor": "#E5ECF6",
           "showlakes": true,
           "showland": true,
           "subunitcolor": "white"
          },
          "hoverlabel": {
           "align": "left"
          },
          "hovermode": "closest",
          "mapbox": {
           "style": "light"
          },
          "paper_bgcolor": "white",
          "plot_bgcolor": "#E5ECF6",
          "polar": {
           "angularaxis": {
            "gridcolor": "white",
            "linecolor": "white",
            "ticks": ""
           },
           "bgcolor": "#E5ECF6",
           "radialaxis": {
            "gridcolor": "white",
            "linecolor": "white",
            "ticks": ""
           }
          },
          "scene": {
           "xaxis": {
            "backgroundcolor": "#E5ECF6",
            "gridcolor": "white",
            "gridwidth": 2,
            "linecolor": "white",
            "showbackground": true,
            "ticks": "",
            "zerolinecolor": "white"
           },
           "yaxis": {
            "backgroundcolor": "#E5ECF6",
            "gridcolor": "white",
            "gridwidth": 2,
            "linecolor": "white",
            "showbackground": true,
            "ticks": "",
            "zerolinecolor": "white"
           },
           "zaxis": {
            "backgroundcolor": "#E5ECF6",
            "gridcolor": "white",
            "gridwidth": 2,
            "linecolor": "white",
            "showbackground": true,
            "ticks": "",
            "zerolinecolor": "white"
           }
          },
          "shapedefaults": {
           "line": {
            "color": "#2a3f5f"
           }
          },
          "ternary": {
           "aaxis": {
            "gridcolor": "white",
            "linecolor": "white",
            "ticks": ""
           },
           "baxis": {
            "gridcolor": "white",
            "linecolor": "white",
            "ticks": ""
           },
           "bgcolor": "#E5ECF6",
           "caxis": {
            "gridcolor": "white",
            "linecolor": "white",
            "ticks": ""
           }
          },
          "title": {
           "x": 0.05
          },
          "xaxis": {
           "automargin": true,
           "gridcolor": "white",
           "linecolor": "white",
           "ticks": "",
           "title": {
            "standoff": 15
           },
           "zerolinecolor": "white",
           "zerolinewidth": 2
          },
          "yaxis": {
           "automargin": true,
           "gridcolor": "white",
           "linecolor": "white",
           "ticks": "",
           "title": {
            "standoff": 15
           },
           "zerolinecolor": "white",
           "zerolinewidth": 2
          }
         }
        },
        "title": {
         "text": "Games Released by Publishers with Genre Breakdown"
        },
        "xaxis": {
         "title": {
          "text": "Publisher"
         }
        },
        "yaxis": {
         "title": {
          "text": "Games Released"
         }
        }
       }
      },
      "text/html": [
       "<div>                            <div id=\"aedbc7d8-0f15-493a-8c31-fd2e22514d4d\" class=\"plotly-graph-div\" style=\"height:525px; width:100%;\"></div>            <script type=\"text/javascript\">                require([\"plotly\"], function(Plotly) {                    window.PLOTLYENV=window.PLOTLYENV || {};                                    if (document.getElementById(\"aedbc7d8-0f15-493a-8c31-fd2e22514d4d\")) {                    Plotly.newPlot(                        \"aedbc7d8-0f15-493a-8c31-fd2e22514d4d\",                        [{\"marker\": {\"color\": \"rgb(215,48,39)\"}, \"name\": \"Electronic Arts\", \"type\": \"histogram\", \"x\": [\"Sports\", \"Sports\", \"Sports\", \"Shooter\", \"Shooter\", \"Sports\", \"Shooter\", \"Shooter\", \"Shooter\", \"Shooter\", \"Sports\", \"Sports\", \"Sports\", \"Sports\", \"Sports\", \"Sports\", \"Shooter\", \"Racing\", \"Sports\", \"Sports\", \"Sports\", \"Role-Playing\", \"Sports\", \"Sports\", \"Racing\", \"Racing\", \"Shooter\", \"Shooter\", \"Shooter\", \"Sports\", \"Shooter\", \"Sports\", \"Role-Playing\", \"Simulation\", \"Shooter\", \"Sports\", \"Sports\", \"Shooter\", \"Fighting\", \"Role-Playing\", \"Sports\", \"Shooter\", \"Sports\", \"Role-Playing\", \"Racing\", \"Simulation\", \"Racing\", \"Shooter\", \"Racing\", \"Sports\", \"Shooter\", \"Shooter\", \"Sports\", \"Sports\", \"Sports\", \"Sports\", \"Sports\", \"Sports\", \"Sports\", \"Fighting\", \"Platform\", \"Sports\", \"Sports\", \"Sports\", \"Sports\", \"Sports\", \"Sports\", \"Sports\", \"Sports\", \"Sports\", \"Sports\", \"Platform\", \"Sports\"]}, {\"marker\": {\"color\": \"rgb(165,0,38)\"}, \"name\": \"Activision\", \"opacity\": 0.75, \"type\": \"histogram\", \"x\": [\"Shooter\", \"Shooter\", \"Shooter\", \"Shooter\", \"Shooter\", \"Shooter\", \"Shooter\", \"Shooter\", \"Platform\", \"Shooter\", \"Shooter\", \"Shooter\", \"Shooter\", \"Shooter\", \"Shooter\", \"Shooter\", \"Shooter\", \"Music\", \"Music\", \"Shooter\", \"Shooter\", \"Action-Adventure\", \"Platform\", \"Action\", \"Action-Adventure\", \"Platform\", \"Misc\", \"Platform\", \"Shooter\", \"Action-Adventure\", \"Misc\", \"Platform\", \"Shooter\", \"Action\", \"Sports\", \"Shooter\", \"Puzzle\", \"Action\", \"Action-Adventure\", \"Action\", \"Puzzle\", \"Action\", \"Shooter\", \"Sports\", \"Action\", \"Action\", \"Action\", \"Action\", \"Action\", \"Adventure\", \"Adventure\", \"Action\", \"Platform\", \"Action\"]}, {\"marker\": {\"color\": \"rgb(244,109,67)\"}, \"name\": \"Ubisoft\", \"opacity\": 0.75, \"type\": \"histogram\", \"x\": [\"Shooter\", \"Shooter\", \"Action-Adventure\", \"Action\", \"Action\", \"Shooter\", \"Action\", \"Action\", \"Action\", \"Action-Adventure\", \"Shooter\", \"Action-Adventure\", \"Shooter\", \"Shooter\", \"Action\", \"Action\", \"Racing\", \"Action\", \"Shooter\", \"Action-Adventure\", \"Shooter\", \"Platform\", \"Action\", \"Role-Playing\", \"Action\", \"Sports\", \"Action-Adventure\", \"Action\", \"Action\", \"Racing\", \"Music\", \"Role-Playing\", \"Music\", \"Sports\", \"Music\", \"Racing\", \"Music\", \"Misc\", \"Music\", \"Music\", \"Music\", \"Music\", \"Platform\", \"Music\", \"Music\", \"Action\", \"Action\", \"Racing\", \"Misc\", \"Music\", \"Adventure\", \"Sports\", \"Fighting\", \"Music\", \"Racing\", \"Music\", \"Misc\", \"Misc\", \"Action\", \"Racing\", \"Action\", \"Misc\", \"Misc\", \"Music\", \"Action\", \"Action\", \"Misc\", \"Misc\", \"Music\", \"Role-Playing\", \"Music\", \"Action-Adventure\", \"Racing\", \"Misc\", \"Action\", \"Action\", \"Misc\"]}, {\"marker\": {\"color\": \"rgb(69,117,180)\"}, \"name\": \"Sony Interactive Entertainment\", \"opacity\": 0.75, \"type\": \"histogram\", \"x\": [\"Action\", \"Action-Adventure\", \"Misc\", \"Action\", \"Action\", \"Racing\", \"Role-Playing\", \"Shooter\", \"Action-Adventure\", \"Platform\", \"Action\", \"Racing\", \"Misc\", \"Platform\", \"Adventure\", \"Platform\", \"Shooter\", \"Action-Adventure\", \"Sports\", \"Sports\", \"Sports\", \"Action\", \"Shooter\", \"Sports\", \"Racing\", \"Party\", \"Adventure\", \"Sports\", \"Shooter\", \"Platform\", \"Action-Adventure\", \"Action\", \"Action-Adventure\", \"Racing\", \"Platform\", \"Music\", \"Action\", \"Shooter\", \"Music\", \"Action\", \"Action-Adventure\", \"Simulation\", \"Action\", \"Shooter\", \"Party\", \"Adventure\", \"Action\", \"Music\", \"Strategy\", \"Music\", \"Shooter\", \"Platform\"]}, {\"marker\": {\"color\": \"rgb(116,173,209)\"}, \"name\": \"Take-Two Interactive\", \"opacity\": 0.75, \"type\": \"histogram\", \"x\": [\"Action\", \"Action\", \"Sports\", \"Sports\", \"Sports\", \"Action-Adventure\", \"Sports\", \"Sports\", \"Sports\", \"Sports\", \"Sports\", \"Sports\", \"Sports\", \"Sports\", \"Shooter\", \"Sports\", \"Sports\", \"Action-Adventure\", \"Shooter\", \"Sports\", \"Shooter\", \"Shooter\", \"Shooter\", \"Sports\", \"Sports\", \"Sports\", \"Adventure\", \"Sports\", \"Shooter\", \"Shooter\", \"Strategy\", \"Shooter\", \"Adventure\", \"Strategy\"]}],                        {\"bargap\": 0.2, \"bargroupgap\": 0.1, \"paper_bgcolor\": \"rgb(243, 243, 243)\", \"plot_bgcolor\": \"rgb(243, 243, 243)\", \"template\": {\"data\": {\"bar\": [{\"error_x\": {\"color\": \"#2a3f5f\"}, \"error_y\": {\"color\": \"#2a3f5f\"}, \"marker\": {\"line\": {\"color\": \"#E5ECF6\", \"width\": 0.5}}, \"type\": \"bar\"}], \"barpolar\": [{\"marker\": {\"line\": {\"color\": \"#E5ECF6\", \"width\": 0.5}}, \"type\": \"barpolar\"}], \"carpet\": [{\"aaxis\": {\"endlinecolor\": \"#2a3f5f\", \"gridcolor\": \"white\", \"linecolor\": \"white\", \"minorgridcolor\": \"white\", \"startlinecolor\": \"#2a3f5f\"}, \"baxis\": {\"endlinecolor\": \"#2a3f5f\", \"gridcolor\": \"white\", \"linecolor\": \"white\", \"minorgridcolor\": \"white\", \"startlinecolor\": \"#2a3f5f\"}, \"type\": \"carpet\"}], \"choropleth\": [{\"colorbar\": {\"outlinewidth\": 0, \"ticks\": \"\"}, \"type\": \"choropleth\"}], \"contour\": [{\"colorbar\": {\"outlinewidth\": 0, \"ticks\": \"\"}, \"colorscale\": [[0.0, \"#0d0887\"], [0.1111111111111111, \"#46039f\"], [0.2222222222222222, \"#7201a8\"], [0.3333333333333333, \"#9c179e\"], [0.4444444444444444, \"#bd3786\"], [0.5555555555555556, \"#d8576b\"], [0.6666666666666666, \"#ed7953\"], [0.7777777777777778, \"#fb9f3a\"], [0.8888888888888888, \"#fdca26\"], [1.0, \"#f0f921\"]], \"type\": \"contour\"}], \"contourcarpet\": [{\"colorbar\": {\"outlinewidth\": 0, \"ticks\": \"\"}, \"type\": \"contourcarpet\"}], \"heatmap\": [{\"colorbar\": {\"outlinewidth\": 0, \"ticks\": \"\"}, \"colorscale\": [[0.0, \"#0d0887\"], [0.1111111111111111, \"#46039f\"], [0.2222222222222222, \"#7201a8\"], [0.3333333333333333, \"#9c179e\"], [0.4444444444444444, \"#bd3786\"], [0.5555555555555556, \"#d8576b\"], [0.6666666666666666, \"#ed7953\"], [0.7777777777777778, \"#fb9f3a\"], [0.8888888888888888, \"#fdca26\"], [1.0, \"#f0f921\"]], \"type\": \"heatmap\"}], \"heatmapgl\": [{\"colorbar\": {\"outlinewidth\": 0, \"ticks\": \"\"}, \"colorscale\": [[0.0, \"#0d0887\"], [0.1111111111111111, \"#46039f\"], [0.2222222222222222, \"#7201a8\"], [0.3333333333333333, \"#9c179e\"], [0.4444444444444444, \"#bd3786\"], [0.5555555555555556, \"#d8576b\"], [0.6666666666666666, \"#ed7953\"], [0.7777777777777778, \"#fb9f3a\"], [0.8888888888888888, \"#fdca26\"], [1.0, \"#f0f921\"]], \"type\": \"heatmapgl\"}], \"histogram\": [{\"marker\": {\"colorbar\": {\"outlinewidth\": 0, \"ticks\": \"\"}}, \"type\": \"histogram\"}], \"histogram2d\": [{\"colorbar\": {\"outlinewidth\": 0, \"ticks\": \"\"}, \"colorscale\": [[0.0, \"#0d0887\"], [0.1111111111111111, \"#46039f\"], [0.2222222222222222, \"#7201a8\"], [0.3333333333333333, \"#9c179e\"], [0.4444444444444444, \"#bd3786\"], [0.5555555555555556, \"#d8576b\"], [0.6666666666666666, \"#ed7953\"], [0.7777777777777778, \"#fb9f3a\"], [0.8888888888888888, \"#fdca26\"], [1.0, \"#f0f921\"]], \"type\": \"histogram2d\"}], \"histogram2dcontour\": [{\"colorbar\": {\"outlinewidth\": 0, \"ticks\": \"\"}, \"colorscale\": [[0.0, \"#0d0887\"], [0.1111111111111111, \"#46039f\"], [0.2222222222222222, \"#7201a8\"], [0.3333333333333333, \"#9c179e\"], [0.4444444444444444, \"#bd3786\"], [0.5555555555555556, \"#d8576b\"], [0.6666666666666666, \"#ed7953\"], [0.7777777777777778, \"#fb9f3a\"], [0.8888888888888888, \"#fdca26\"], [1.0, \"#f0f921\"]], \"type\": \"histogram2dcontour\"}], \"mesh3d\": [{\"colorbar\": {\"outlinewidth\": 0, \"ticks\": \"\"}, \"type\": \"mesh3d\"}], \"parcoords\": [{\"line\": {\"colorbar\": {\"outlinewidth\": 0, \"ticks\": \"\"}}, \"type\": \"parcoords\"}], \"pie\": [{\"automargin\": true, \"type\": \"pie\"}], \"scatter\": [{\"marker\": {\"colorbar\": {\"outlinewidth\": 0, \"ticks\": \"\"}}, \"type\": \"scatter\"}], \"scatter3d\": [{\"line\": {\"colorbar\": {\"outlinewidth\": 0, \"ticks\": \"\"}}, \"marker\": {\"colorbar\": {\"outlinewidth\": 0, \"ticks\": \"\"}}, \"type\": \"scatter3d\"}], \"scattercarpet\": [{\"marker\": {\"colorbar\": {\"outlinewidth\": 0, \"ticks\": \"\"}}, \"type\": \"scattercarpet\"}], \"scattergeo\": [{\"marker\": {\"colorbar\": {\"outlinewidth\": 0, \"ticks\": \"\"}}, \"type\": \"scattergeo\"}], \"scattergl\": [{\"marker\": {\"colorbar\": {\"outlinewidth\": 0, \"ticks\": \"\"}}, \"type\": \"scattergl\"}], \"scattermapbox\": [{\"marker\": {\"colorbar\": {\"outlinewidth\": 0, \"ticks\": \"\"}}, \"type\": \"scattermapbox\"}], \"scatterpolar\": [{\"marker\": {\"colorbar\": {\"outlinewidth\": 0, \"ticks\": \"\"}}, \"type\": \"scatterpolar\"}], \"scatterpolargl\": [{\"marker\": {\"colorbar\": {\"outlinewidth\": 0, \"ticks\": \"\"}}, \"type\": \"scatterpolargl\"}], \"scatterternary\": [{\"marker\": {\"colorbar\": {\"outlinewidth\": 0, \"ticks\": \"\"}}, \"type\": \"scatterternary\"}], \"surface\": [{\"colorbar\": {\"outlinewidth\": 0, \"ticks\": \"\"}, \"colorscale\": [[0.0, \"#0d0887\"], [0.1111111111111111, \"#46039f\"], [0.2222222222222222, \"#7201a8\"], [0.3333333333333333, \"#9c179e\"], [0.4444444444444444, \"#bd3786\"], [0.5555555555555556, \"#d8576b\"], [0.6666666666666666, \"#ed7953\"], [0.7777777777777778, \"#fb9f3a\"], [0.8888888888888888, \"#fdca26\"], [1.0, \"#f0f921\"]], \"type\": \"surface\"}], \"table\": [{\"cells\": {\"fill\": {\"color\": \"#EBF0F8\"}, \"line\": {\"color\": \"white\"}}, \"header\": {\"fill\": {\"color\": \"#C8D4E3\"}, \"line\": {\"color\": \"white\"}}, \"type\": \"table\"}]}, \"layout\": {\"annotationdefaults\": {\"arrowcolor\": \"#2a3f5f\", \"arrowhead\": 0, \"arrowwidth\": 1}, \"coloraxis\": {\"colorbar\": {\"outlinewidth\": 0, \"ticks\": \"\"}}, \"colorscale\": {\"diverging\": [[0, \"#8e0152\"], [0.1, \"#c51b7d\"], [0.2, \"#de77ae\"], [0.3, \"#f1b6da\"], [0.4, \"#fde0ef\"], [0.5, \"#f7f7f7\"], [0.6, \"#e6f5d0\"], [0.7, \"#b8e186\"], [0.8, \"#7fbc41\"], [0.9, \"#4d9221\"], [1, \"#276419\"]], \"sequential\": [[0.0, \"#0d0887\"], [0.1111111111111111, \"#46039f\"], [0.2222222222222222, \"#7201a8\"], [0.3333333333333333, \"#9c179e\"], [0.4444444444444444, \"#bd3786\"], [0.5555555555555556, \"#d8576b\"], [0.6666666666666666, \"#ed7953\"], [0.7777777777777778, \"#fb9f3a\"], [0.8888888888888888, \"#fdca26\"], [1.0, \"#f0f921\"]], \"sequentialminus\": [[0.0, \"#0d0887\"], [0.1111111111111111, \"#46039f\"], [0.2222222222222222, \"#7201a8\"], [0.3333333333333333, \"#9c179e\"], [0.4444444444444444, \"#bd3786\"], [0.5555555555555556, \"#d8576b\"], [0.6666666666666666, \"#ed7953\"], [0.7777777777777778, \"#fb9f3a\"], [0.8888888888888888, \"#fdca26\"], [1.0, \"#f0f921\"]]}, \"colorway\": [\"#636efa\", \"#EF553B\", \"#00cc96\", \"#ab63fa\", \"#FFA15A\", \"#19d3f3\", \"#FF6692\", \"#B6E880\", \"#FF97FF\", \"#FECB52\"], \"font\": {\"color\": \"#2a3f5f\"}, \"geo\": {\"bgcolor\": \"white\", \"lakecolor\": \"white\", \"landcolor\": \"#E5ECF6\", \"showlakes\": true, \"showland\": true, \"subunitcolor\": \"white\"}, \"hoverlabel\": {\"align\": \"left\"}, \"hovermode\": \"closest\", \"mapbox\": {\"style\": \"light\"}, \"paper_bgcolor\": \"white\", \"plot_bgcolor\": \"#E5ECF6\", \"polar\": {\"angularaxis\": {\"gridcolor\": \"white\", \"linecolor\": \"white\", \"ticks\": \"\"}, \"bgcolor\": \"#E5ECF6\", \"radialaxis\": {\"gridcolor\": \"white\", \"linecolor\": \"white\", \"ticks\": \"\"}}, \"scene\": {\"xaxis\": {\"backgroundcolor\": \"#E5ECF6\", \"gridcolor\": \"white\", \"gridwidth\": 2, \"linecolor\": \"white\", \"showbackground\": true, \"ticks\": \"\", \"zerolinecolor\": \"white\"}, \"yaxis\": {\"backgroundcolor\": \"#E5ECF6\", \"gridcolor\": \"white\", \"gridwidth\": 2, \"linecolor\": \"white\", \"showbackground\": true, \"ticks\": \"\", \"zerolinecolor\": \"white\"}, \"zaxis\": {\"backgroundcolor\": \"#E5ECF6\", \"gridcolor\": \"white\", \"gridwidth\": 2, \"linecolor\": \"white\", \"showbackground\": true, \"ticks\": \"\", \"zerolinecolor\": \"white\"}}, \"shapedefaults\": {\"line\": {\"color\": \"#2a3f5f\"}}, \"ternary\": {\"aaxis\": {\"gridcolor\": \"white\", \"linecolor\": \"white\", \"ticks\": \"\"}, \"baxis\": {\"gridcolor\": \"white\", \"linecolor\": \"white\", \"ticks\": \"\"}, \"bgcolor\": \"#E5ECF6\", \"caxis\": {\"gridcolor\": \"white\", \"linecolor\": \"white\", \"ticks\": \"\"}}, \"title\": {\"x\": 0.05}, \"xaxis\": {\"automargin\": true, \"gridcolor\": \"white\", \"linecolor\": \"white\", \"ticks\": \"\", \"title\": {\"standoff\": 15}, \"zerolinecolor\": \"white\", \"zerolinewidth\": 2}, \"yaxis\": {\"automargin\": true, \"gridcolor\": \"white\", \"linecolor\": \"white\", \"ticks\": \"\", \"title\": {\"standoff\": 15}, \"zerolinecolor\": \"white\", \"zerolinewidth\": 2}}}, \"title\": {\"text\": \"Games Released by Publishers with Genre Breakdown\"}, \"xaxis\": {\"title\": {\"text\": \"Publisher\"}}, \"yaxis\": {\"title\": {\"text\": \"Games Released\"}}},                        {\"responsive\": true}                    ).then(function(){\n",
       "                            \n",
       "var gd = document.getElementById('aedbc7d8-0f15-493a-8c31-fd2e22514d4d');\n",
       "var x = new MutationObserver(function (mutations, observer) {{\n",
       "        var display = window.getComputedStyle(gd).display;\n",
       "        if (!display || display === 'none') {{\n",
       "            console.log([gd, 'removed!']);\n",
       "            Plotly.purge(gd);\n",
       "            observer.disconnect();\n",
       "        }}\n",
       "}});\n",
       "\n",
       "// Listen for the removal of the full notebook cells\n",
       "var notebookContainer = gd.closest('#notebook-container');\n",
       "if (notebookContainer) {{\n",
       "    x.observe(notebookContainer, {childList: true});\n",
       "}}\n",
       "\n",
       "// Listen for the clearing of the current output cell\n",
       "var outputEl = gd.closest('.output');\n",
       "if (outputEl) {{\n",
       "    x.observe(outputEl, {childList: true});\n",
       "}}\n",
       "\n",
       "                        })                };                });            </script>        </div>"
      ]
     },
     "metadata": {},
     "output_type": "display_data"
    }
   ],
   "source": [
    "#Video Games Released by Top 5 Publishers with Genre Breakdown\n",
    "xEA=VGS[VGS.Publisher =='Electronic Arts']\n",
    "xActi=VGS[VGS.Publisher=='Activision']\n",
    "xUbi=VGS[VGS.Publisher=='Ubisoft']\n",
    "xSony=VGS[VGS.Publisher=='Sony Interactive Entertainment']\n",
    "x2k=VGS[VGS.Publisher=='Take-Two Interactive']\n",
    "TP1 = go.Histogram(\n",
    "    x=xEA.Genre,\n",
    "    name = \"Electronic Arts\",\n",
    "    marker=dict(color='rgb(215,48,39)'))\n",
    "TP2 = go.Histogram(\n",
    "    x=xActi.Genre,\n",
    "    opacity=0.75,\n",
    "    name = \"Activision\",\n",
    "    marker=dict(color='rgb(165,0,38)'))\n",
    "TP3 = go.Histogram(\n",
    "    x=xUbi.Genre,\n",
    "    opacity=0.75,\n",
    "    name = \"Ubisoft\",\n",
    "    marker=dict(color='rgb(244,109,67)'))\n",
    "TP4 = go.Histogram(\n",
    "    x=xSony.Genre,\n",
    "    opacity=0.75,\n",
    "    name = \"Sony Interactive Entertainment\",\n",
    "    marker=dict(color='rgb(69,117,180)'))\n",
    "TP5 = go.Histogram(\n",
    "    x=x2k.Genre,\n",
    "    opacity=0.75,\n",
    "    name = \"Take-Two Interactive\",\n",
    "    marker=dict(color='rgb(116,173,209)'))\n",
    "\n",
    "\n",
    "data=[TP1, TP2, TP3, TP4, TP5]\n",
    "\n",
    "layout = go.Layout(\n",
    "    title='Games Released by Publishers with Genre Breakdown',\n",
    "    xaxis=dict(\n",
    "        title='Publisher'\n",
    "    ),\n",
    "    yaxis=dict(\n",
    "        title='Games Released'\n",
    "    ),\n",
    "    bargap=0.2,\n",
    "    bargroupgap=0.1, paper_bgcolor='rgb(243, 243, 243)',\n",
    "    plot_bgcolor=\"rgb(243, 243, 243)\")\n",
    "fig = go.Figure(data, layout=layout)\n",
    "iplot(fig)"
   ]
  },
  {
   "cell_type": "code",
   "execution_count": 18,
   "metadata": {
    "scrolled": true
   },
   "outputs": [
    {
     "data": {
      "application/vnd.plotly.v1+json": {
       "config": {
        "linkText": "Export to plot.ly",
        "plotlyServerURL": "https://plot.ly",
        "showLink": false
       },
       "data": [
        {
         "marker": {
          "color": "rgb(30,144,255)"
         },
         "name": "PS4",
         "opacity": 0.75,
         "type": "histogram",
         "x": [
          "Action",
          "Shooter",
          "Shooter",
          "Sports",
          "Sports",
          "Action",
          "Shooter",
          "Role-Playing",
          "Sports",
          "Shooter",
          "Shooter",
          "Shooter",
          "Action-Adventure",
          "Misc",
          "Sports",
          "Action",
          "Shooter",
          "Action",
          "Role-Playing",
          "Role-Playing",
          "Platform",
          "Shooter",
          "Shooter",
          "Shooter",
          "Shooter",
          "Action-Adventure",
          "Shooter",
          "Shooter",
          "Action",
          "Action",
          "Action",
          "Shooter",
          "Sports",
          "Shooter",
          "Racing",
          "Action",
          "Sports",
          "Fighting",
          "Sports",
          "Role-Playing",
          "Action",
          "Sports",
          "Action",
          "Sports",
          "Sports",
          "Action",
          "Action-Adventure",
          "Shooter",
          "Role-Playing",
          "Action",
          "Shooter",
          "Action-Adventure",
          "Shooter",
          "Action-Adventure",
          "Role-Playing",
          "Action-Adventure",
          "Racing",
          "Sports",
          "Sports",
          "Action",
          "Role-Playing",
          "Platform",
          "Action",
          "Racing",
          "Role-Playing",
          "Action-Adventure",
          "Sports",
          "Racing",
          "Shooter",
          "Racing",
          "Misc",
          "Shooter",
          "Adventure",
          "Platform",
          "MMO",
          "Role-Playing",
          "Action",
          "Sports",
          "Action-Adventure",
          "Action",
          "Action",
          "Adventure",
          "Platform",
          "Action",
          "Racing",
          "Role-Playing",
          "Action",
          "Fighting",
          "Shooter",
          "Role-Playing",
          "Fighting",
          "Role-Playing",
          "Shooter",
          "Shooter",
          "Fighting",
          "Sports",
          "Action-Adventure",
          "Action",
          "Platform",
          "Role-Playing",
          "Role-Playing",
          "Simulation",
          "Fighting",
          "Shooter",
          "Sports",
          "Sports",
          "Action-Adventure",
          "Action-Adventure",
          "Sports",
          "Shooter",
          "Racing",
          "Sports",
          "Music",
          "Role-Playing",
          "Action",
          "Action-Adventure",
          "Fighting",
          "Action",
          "Action",
          "Sports",
          "Sports",
          "Misc",
          "Role-Playing",
          "Action",
          "Fighting",
          "Role-Playing",
          "Adventure",
          "Action",
          "Shooter",
          "Role-Playing",
          "Action",
          "Sports",
          "Action",
          "Shooter",
          "Sports",
          "Fighting",
          "Sports",
          "Sports",
          "Action",
          "Role-Playing",
          "Action",
          "Action",
          "Action",
          "Adventure",
          "Shooter",
          "Simulation",
          "Shooter",
          "Action",
          "Action",
          "Sports",
          "Action",
          "Action",
          "Action",
          "MMO",
          "Action",
          "Shooter",
          "Racing",
          "Sports",
          "Sports",
          "Platform",
          "Sports",
          "Action-Adventure",
          "Shooter",
          "Sports",
          "Racing",
          "Role-Playing",
          "Action-Adventure",
          "Fighting",
          "Adventure",
          "Role-Playing",
          "Racing",
          "Shooter",
          "Music",
          "Sports",
          "Shooter",
          "Role-Playing",
          "Fighting",
          "Adventure",
          "Action",
          "Shooter",
          "Racing",
          "Role-Playing",
          "Sports",
          "Action-Adventure",
          "Party",
          "Adventure",
          "Adventure",
          "Shooter",
          "Role-Playing",
          "Sports",
          "Action",
          "Action",
          "Music",
          "Shooter",
          "Platform",
          "Sports",
          "Action-Adventure",
          "Racing",
          "Shooter",
          "Sports",
          "Role-Playing",
          "Sports",
          "Action",
          "Platform",
          "Racing",
          "Shooter",
          "Action",
          "Racing",
          "Action",
          "Shooter",
          "Shooter",
          "Shooter",
          "Adventure",
          "Platform",
          "Action",
          "Racing",
          "Action",
          "Music",
          "Adventure",
          "Role-Playing",
          "Action-Adventure",
          "Role-Playing",
          "Action",
          "Misc",
          "Platform",
          "Misc",
          "Platform",
          "Action",
          "Action",
          "Role-Playing",
          "Simulation",
          "Music",
          "Platform",
          "Action",
          "Music",
          "Simulation",
          "Action",
          "Action-Adventure",
          "Adventure",
          "Action",
          "Shooter",
          "Role-Playing",
          "Action-Adventure",
          "Role-Playing",
          "Fighting",
          "Fighting",
          "Role-Playing",
          "Role-Playing",
          "Action",
          "Role-Playing",
          "Action-Adventure",
          "Shooter",
          "Platform",
          "Strategy",
          "Sports",
          "Action",
          "Fighting",
          "Misc",
          "Simulation",
          "Music",
          "Fighting",
          "Misc",
          "Platform",
          "Racing",
          "Action",
          "Adventure",
          "Simulation",
          "Action",
          "Action",
          "Action",
          "Action",
          "Action",
          "Action-Adventure",
          "Racing",
          "Shooter",
          "Sports",
          "Fighting",
          "Adventure",
          "Sports",
          "Fighting",
          "Shooter",
          "MMO",
          "Sports",
          "Role-Playing",
          "Role-Playing",
          "Action",
          "Sports",
          "Misc",
          "Action",
          "Racing",
          "Action-Adventure",
          "Platform",
          "Music",
          "Role-Playing",
          "Action",
          "Action",
          "Sports",
          "Shooter",
          "Puzzle",
          "Action",
          "Racing",
          "Action",
          "Shooter",
          "Action",
          "Adventure",
          "Role-Playing",
          "Role-Playing",
          "Action",
          "Shooter",
          "Action",
          "Sports",
          "Action",
          "Misc",
          "Action",
          "Adventure",
          "Racing",
          "Action",
          "Simulation",
          "Action",
          "Adventure",
          "Action",
          "Music",
          "Action",
          "Action",
          "Racing",
          "Adventure",
          "Racing",
          "MMO",
          "Adventure",
          "Action",
          "Shooter",
          "Fighting",
          "MMO",
          "Fighting",
          "Action-Adventure",
          "Role-Playing",
          "Role-Playing",
          "Fighting",
          "Role-Playing",
          "Racing",
          "Action",
          "Action",
          "Fighting",
          "Action-Adventure",
          "Platform",
          "Role-Playing",
          "Racing",
          "Action",
          "Visual Novel",
          "Action",
          "Adventure",
          "Role-Playing",
          "Role-Playing",
          "Adventure",
          "Action",
          "Role-Playing",
          "Racing",
          "Role-Playing",
          "Sports",
          "Racing",
          "Fighting",
          "Action",
          "Music",
          "Role-Playing",
          "Action",
          "Role-Playing",
          "Racing",
          "Platform",
          "Racing",
          "Shooter",
          "Sports",
          "Role-Playing",
          "Visual Novel",
          "Racing",
          "Music",
          "Sports",
          "Adventure",
          "Action",
          "Sports",
          "Action",
          "Sports",
          "Role-Playing",
          "Adventure",
          "Simulation",
          "Misc",
          "Adventure",
          "Action",
          "Role-Playing",
          "Role-Playing",
          "Action",
          "Adventure",
          "Adventure",
          "Strategy",
          "Adventure",
          "Platform",
          "Platform",
          "Role-Playing",
          "Simulation",
          "Strategy",
          "Misc",
          "Action",
          "Action-Adventure",
          "Action",
          "Shooter",
          "Role-Playing",
          "Shooter",
          "Simulation",
          "Shooter",
          "Action",
          "Strategy",
          "Action",
          "Action",
          "Fighting",
          "MMO",
          "Action",
          "Action-Adventure",
          "Role-Playing",
          "Action",
          "Music",
          "Action",
          "Role-Playing",
          "Puzzle",
          "Racing",
          "Music",
          "Action",
          "Sports",
          "Role-Playing",
          "Role-Playing",
          "Shooter",
          "Role-Playing",
          "Action",
          "Strategy",
          "Strategy",
          "Action",
          "Action",
          "Role-Playing",
          "Action",
          "Action",
          "Adventure",
          "Simulation",
          "Racing",
          "Action",
          "Action",
          "Adventure",
          "Adventure",
          "Action",
          "Racing",
          "Role-Playing",
          "Misc",
          "Platform",
          "Action",
          "Shooter",
          "Action",
          "Shooter",
          "Racing",
          "Action",
          "Simulation",
          "Action",
          "Action-Adventure",
          "Role-Playing",
          "Role-Playing",
          "Visual Novel",
          "Misc",
          "Adventure",
          "Adventure",
          "Misc",
          "Action",
          "Action",
          "Action",
          "Action",
          "Shooter",
          "Role-Playing",
          "Action",
          "Action",
          "Role-Playing",
          "Adventure",
          "Action",
          "Adventure",
          "Adventure",
          "Action",
          "Sports",
          "Adventure",
          "Misc",
          "Misc",
          "Action",
          "Action",
          "Strategy",
          "Role-Playing",
          "Role-Playing",
          "Racing",
          "Action",
          "Role-Playing",
          "Adventure",
          "Misc",
          "Adventure",
          "Sports",
          "Action",
          "Sports",
          "Role-Playing",
          "Sports",
          "Sports",
          "Racing",
          "Role-Playing",
          "Sports",
          "Adventure",
          "Strategy",
          "Platform",
          "Adventure",
          "Action",
          "Role-Playing",
          "Action",
          "Role-Playing",
          "Simulation",
          "Shooter",
          "Adventure",
          "Action",
          "Racing",
          "Simulation",
          "Racing",
          "Adventure",
          "Shooter",
          "Action",
          "Strategy",
          "Misc",
          "Action",
          "Action",
          "Fighting",
          "Role-Playing",
          "Strategy",
          "Role-Playing",
          "Shooter",
          "Platform",
          "Adventure",
          "Adventure",
          "Fighting",
          "Action",
          "Action",
          "Role-Playing",
          "Action",
          "Strategy",
          "Strategy",
          "Shooter",
          "Shooter",
          "Action",
          "Sports",
          "Shooter",
          "Racing",
          "Party",
          "Sports",
          "Action",
          "Shooter",
          "Action",
          "Sports",
          "Simulation",
          "Puzzle",
          "Action",
          "Puzzle",
          "Adventure",
          "Music",
          "Adventure",
          "Role-Playing",
          "Fighting",
          "Misc",
          "Puzzle",
          "Action-Adventure",
          "Sports",
          "Adventure",
          "Action",
          "Adventure",
          "Strategy",
          "Action",
          "Racing",
          "Fighting",
          "Action",
          "Action",
          "Shooter",
          "Role-Playing",
          "Misc",
          "Visual Novel",
          "Misc",
          "Misc",
          "Racing",
          "Action",
          "Adventure",
          "Action",
          "Sports",
          "Platform",
          "Action",
          "Misc",
          "Action",
          "Puzzle",
          "Adventure",
          "Visual Novel",
          "Strategy",
          "Simulation",
          "Role-Playing",
          "Music",
          "Action",
          "Fighting",
          "Platform",
          "Fighting",
          "Role-Playing",
          "Action",
          "Racing",
          "Visual Novel",
          "Racing",
          "Role-Playing",
          "Role-Playing",
          "Puzzle",
          "Strategy",
          "Music",
          "Action",
          "Shooter",
          "Puzzle",
          "Action",
          "Music",
          "Strategy",
          "Music",
          "Role-Playing",
          "Simulation",
          "Fighting",
          "Action-Adventure",
          "Action",
          "Shooter",
          "Action-Adventure",
          "Role-Playing",
          "Fighting",
          "Action",
          "Action",
          "Misc",
          "Action",
          "Misc",
          "Shooter",
          "Action",
          "Action",
          "Shooter",
          "Action",
          "Visual Novel",
          "Sports",
          "Misc",
          "Adventure",
          "Adventure",
          "Adventure",
          "Adventure",
          "Adventure",
          "Visual Novel",
          "Adventure",
          "Role-Playing",
          "Misc",
          "Role-Playing",
          "Adventure",
          "Action",
          "Action",
          "Strategy",
          "Adventure",
          "Action",
          "Racing",
          "Strategy",
          "Platform",
          "Role-Playing",
          "Strategy",
          "Strategy",
          "Strategy",
          "Racing",
          "Action",
          "Shooter",
          "Platform",
          "Action",
          "Simulation",
          "Action",
          "Action",
          "Action",
          "Role-Playing",
          "Platform"
         ]
        },
        {
         "marker": {
          "color": "rgb(0,128,0)"
         },
         "name": "XOne",
         "opacity": 0.75,
         "type": "histogram",
         "x": [
          "Action",
          "Shooter",
          "Shooter",
          "Misc",
          "Shooter",
          "Shooter",
          "Role-Playing",
          "Shooter",
          "Shooter",
          "Shooter",
          "Racing",
          "Sports",
          "Shooter",
          "Action",
          "Shooter",
          "Shooter",
          "Shooter",
          "Sports",
          "Sports",
          "Shooter",
          "Shooter",
          "Shooter",
          "Shooter",
          "Shooter",
          "Action",
          "Sports",
          "Sports",
          "Sports",
          "Racing",
          "Shooter",
          "Action",
          "Sports",
          "Shooter",
          "Shooter",
          "Sports",
          "Sports",
          "Racing",
          "Shooter",
          "Sports",
          "Role-Playing",
          "Role-Playing",
          "Fighting",
          "Sports",
          "Shooter",
          "Action-Adventure",
          "Action",
          "Shooter",
          "Sports",
          "Adventure",
          "Action",
          "Racing",
          "Action",
          "Action",
          "Racing",
          "Shooter",
          "Action",
          "Action",
          "Sports",
          "MMO",
          "Shooter",
          "Action",
          "Sports",
          "Shooter",
          "Shooter",
          "Action",
          "Action",
          "Action",
          "Role-Playing",
          "Action-Adventure",
          "Role-Playing",
          "Action-Adventure",
          "Action-Adventure",
          "Role-Playing",
          "Sports",
          "Action",
          "Fighting",
          "Action",
          "Action",
          "Shooter",
          "Music",
          "Action",
          "Sports",
          "Role-Playing",
          "Role-Playing",
          "Misc",
          "Action",
          "Action",
          "Adventure",
          "Action",
          "Music",
          "Shooter",
          "Racing",
          "Simulation",
          "Racing",
          "Action-Adventure",
          "Action",
          "Shooter",
          "Racing",
          "Shooter",
          "Racing",
          "Misc",
          "Misc",
          "Shooter",
          "Shooter",
          "Sports",
          "Action-Adventure",
          "Action-Adventure",
          "Sports",
          "Role-Playing",
          "Sports",
          "Sports",
          "Sports",
          "Sports",
          "Fighting",
          "Action",
          "Sports",
          "Action-Adventure",
          "Music",
          "Adventure",
          "Strategy",
          "Sports",
          "Action-Adventure",
          "Action",
          "Shooter",
          "Sports",
          "Action",
          "Fighting",
          "Action",
          "Simulation",
          "Music",
          "Action",
          "Action-Adventure",
          "Action",
          "Shooter",
          "Platform",
          "Action",
          "Shooter",
          "Music",
          "Action",
          "Sports",
          "Shooter",
          "Racing",
          "Action-Adventure",
          "Action",
          "Sports",
          "Role-Playing",
          "Music",
          "Platform",
          "Fighting",
          "Fighting",
          "Misc",
          "Fighting",
          "Music",
          "Action",
          "Simulation",
          "Action",
          "Shooter",
          "Shooter",
          "Platform",
          "Role-Playing",
          "Platform",
          "Shooter",
          "Sports",
          "Role-Playing",
          "Action",
          "Adventure",
          "Platform",
          "Action",
          "Action-Adventure",
          "Action-Adventure",
          "Action-Adventure",
          "Adventure",
          "Racing",
          "Racing",
          "Shooter",
          "Action",
          "Simulation",
          "Sports",
          "Misc",
          "Racing",
          "Shooter",
          "Platform",
          "Racing",
          "Action",
          "Action-Adventure",
          "Sports",
          "Role-Playing",
          "Shooter",
          "Sports",
          "Music",
          "Racing",
          "Shooter",
          "Action-Adventure",
          "Racing",
          "Action",
          "Action-Adventure",
          "Racing",
          "Strategy",
          "Platform",
          "Fighting",
          "Action",
          "Music",
          "Shooter",
          "Simulation",
          "Sports",
          "Adventure",
          "Misc",
          "Action-Adventure",
          "Fighting",
          "Platform",
          "Action",
          "Adventure",
          "Puzzle",
          "Simulation",
          "Action",
          "Action",
          "Action",
          "Shooter",
          "Action",
          "Shooter",
          "Sports",
          "Action",
          "MMO",
          "Fighting",
          "Fighting",
          "Sports",
          "Action",
          "Misc",
          "Platform",
          "Action",
          "Action",
          "Music",
          "Sports",
          "Misc",
          "Action",
          "Racing",
          "Shooter",
          "Action",
          "Sports",
          "Fighting",
          "Adventure",
          "Adventure",
          "Action",
          "Sports",
          "Shooter",
          "Action",
          "Action",
          "Action",
          "Racing",
          "Fighting",
          "Simulation",
          "Platform",
          "Action-Adventure",
          "Racing",
          "Sports",
          "Racing",
          "Racing",
          "Role-Playing",
          "Fighting",
          "Racing",
          "Shooter",
          "Sports",
          "Adventure",
          "Racing",
          "Simulation",
          "Shooter",
          "Misc",
          "Action",
          "Racing",
          "Action-Adventure",
          "Fighting",
          "Action",
          "Music",
          "Action",
          "Adventure",
          "Action-Adventure",
          "Sports",
          "Strategy",
          "Action",
          "Action",
          "Shooter",
          "Racing",
          "Adventure",
          "Sports",
          "Action",
          "Shooter",
          "Action",
          "Action",
          "Simulation",
          "Racing",
          "Sports",
          "Strategy",
          "Racing",
          "Shooter",
          "Misc",
          "Misc",
          "Adventure",
          "Action",
          "Sports",
          "Sports",
          "Action",
          "Misc",
          "Role-Playing",
          "Action",
          "Sports",
          "Racing",
          "Action",
          "Sports",
          "Role-Playing",
          "Action",
          "Adventure",
          "Racing",
          "Adventure",
          "Adventure",
          "Racing",
          "Adventure",
          "Action-Adventure",
          "Platform",
          "Role-Playing",
          "Adventure",
          "Puzzle",
          "Music",
          "Adventure",
          "Role-Playing",
          "Role-Playing",
          "Shooter",
          "Racing",
          "Shooter",
          "Role-Playing",
          "Role-Playing",
          "Action",
          "Action",
          "Action",
          "Action",
          "Racing",
          "Action",
          "Action-Adventure",
          "Adventure",
          "Sports",
          "Action",
          "Shooter",
          "Action",
          "Shooter",
          "Platform",
          "Simulation",
          "Adventure",
          "Adventure",
          "Action",
          "Adventure",
          "Action",
          "Racing",
          "Action",
          "Racing",
          "Adventure",
          "Racing",
          "Role-Playing",
          "Action",
          "Action",
          "Simulation",
          "Shooter",
          "Strategy",
          "Strategy",
          "Action",
          "Puzzle",
          "Action",
          "Adventure",
          "Shooter",
          "Action",
          "Strategy",
          "Sports",
          "Racing",
          "Action",
          "Simulation",
          "Simulation",
          "Racing",
          "Strategy",
          "Role-Playing",
          "Sports",
          "Racing",
          "Action",
          "Adventure",
          "Adventure",
          "Racing",
          "Visual Novel",
          "Racing",
          "Strategy",
          "Racing",
          "Role-Playing",
          "Adventure",
          "Simulation",
          "Action",
          "Sports",
          "Simulation",
          "Racing",
          "Strategy",
          "Shooter",
          "Action",
          "Action",
          "Simulation",
          "Sports",
          "Misc"
         ]
        }
       ],
       "layout": {
        "bargap": 0.2,
        "bargroupgap": 0.1,
        "paper_bgcolor": "rgb(243, 243, 243)",
        "plot_bgcolor": "rgb(243, 243, 243)",
        "template": {
         "data": {
          "bar": [
           {
            "error_x": {
             "color": "#2a3f5f"
            },
            "error_y": {
             "color": "#2a3f5f"
            },
            "marker": {
             "line": {
              "color": "#E5ECF6",
              "width": 0.5
             }
            },
            "type": "bar"
           }
          ],
          "barpolar": [
           {
            "marker": {
             "line": {
              "color": "#E5ECF6",
              "width": 0.5
             }
            },
            "type": "barpolar"
           }
          ],
          "carpet": [
           {
            "aaxis": {
             "endlinecolor": "#2a3f5f",
             "gridcolor": "white",
             "linecolor": "white",
             "minorgridcolor": "white",
             "startlinecolor": "#2a3f5f"
            },
            "baxis": {
             "endlinecolor": "#2a3f5f",
             "gridcolor": "white",
             "linecolor": "white",
             "minorgridcolor": "white",
             "startlinecolor": "#2a3f5f"
            },
            "type": "carpet"
           }
          ],
          "choropleth": [
           {
            "colorbar": {
             "outlinewidth": 0,
             "ticks": ""
            },
            "type": "choropleth"
           }
          ],
          "contour": [
           {
            "colorbar": {
             "outlinewidth": 0,
             "ticks": ""
            },
            "colorscale": [
             [
              0,
              "#0d0887"
             ],
             [
              0.1111111111111111,
              "#46039f"
             ],
             [
              0.2222222222222222,
              "#7201a8"
             ],
             [
              0.3333333333333333,
              "#9c179e"
             ],
             [
              0.4444444444444444,
              "#bd3786"
             ],
             [
              0.5555555555555556,
              "#d8576b"
             ],
             [
              0.6666666666666666,
              "#ed7953"
             ],
             [
              0.7777777777777778,
              "#fb9f3a"
             ],
             [
              0.8888888888888888,
              "#fdca26"
             ],
             [
              1,
              "#f0f921"
             ]
            ],
            "type": "contour"
           }
          ],
          "contourcarpet": [
           {
            "colorbar": {
             "outlinewidth": 0,
             "ticks": ""
            },
            "type": "contourcarpet"
           }
          ],
          "heatmap": [
           {
            "colorbar": {
             "outlinewidth": 0,
             "ticks": ""
            },
            "colorscale": [
             [
              0,
              "#0d0887"
             ],
             [
              0.1111111111111111,
              "#46039f"
             ],
             [
              0.2222222222222222,
              "#7201a8"
             ],
             [
              0.3333333333333333,
              "#9c179e"
             ],
             [
              0.4444444444444444,
              "#bd3786"
             ],
             [
              0.5555555555555556,
              "#d8576b"
             ],
             [
              0.6666666666666666,
              "#ed7953"
             ],
             [
              0.7777777777777778,
              "#fb9f3a"
             ],
             [
              0.8888888888888888,
              "#fdca26"
             ],
             [
              1,
              "#f0f921"
             ]
            ],
            "type": "heatmap"
           }
          ],
          "heatmapgl": [
           {
            "colorbar": {
             "outlinewidth": 0,
             "ticks": ""
            },
            "colorscale": [
             [
              0,
              "#0d0887"
             ],
             [
              0.1111111111111111,
              "#46039f"
             ],
             [
              0.2222222222222222,
              "#7201a8"
             ],
             [
              0.3333333333333333,
              "#9c179e"
             ],
             [
              0.4444444444444444,
              "#bd3786"
             ],
             [
              0.5555555555555556,
              "#d8576b"
             ],
             [
              0.6666666666666666,
              "#ed7953"
             ],
             [
              0.7777777777777778,
              "#fb9f3a"
             ],
             [
              0.8888888888888888,
              "#fdca26"
             ],
             [
              1,
              "#f0f921"
             ]
            ],
            "type": "heatmapgl"
           }
          ],
          "histogram": [
           {
            "marker": {
             "colorbar": {
              "outlinewidth": 0,
              "ticks": ""
             }
            },
            "type": "histogram"
           }
          ],
          "histogram2d": [
           {
            "colorbar": {
             "outlinewidth": 0,
             "ticks": ""
            },
            "colorscale": [
             [
              0,
              "#0d0887"
             ],
             [
              0.1111111111111111,
              "#46039f"
             ],
             [
              0.2222222222222222,
              "#7201a8"
             ],
             [
              0.3333333333333333,
              "#9c179e"
             ],
             [
              0.4444444444444444,
              "#bd3786"
             ],
             [
              0.5555555555555556,
              "#d8576b"
             ],
             [
              0.6666666666666666,
              "#ed7953"
             ],
             [
              0.7777777777777778,
              "#fb9f3a"
             ],
             [
              0.8888888888888888,
              "#fdca26"
             ],
             [
              1,
              "#f0f921"
             ]
            ],
            "type": "histogram2d"
           }
          ],
          "histogram2dcontour": [
           {
            "colorbar": {
             "outlinewidth": 0,
             "ticks": ""
            },
            "colorscale": [
             [
              0,
              "#0d0887"
             ],
             [
              0.1111111111111111,
              "#46039f"
             ],
             [
              0.2222222222222222,
              "#7201a8"
             ],
             [
              0.3333333333333333,
              "#9c179e"
             ],
             [
              0.4444444444444444,
              "#bd3786"
             ],
             [
              0.5555555555555556,
              "#d8576b"
             ],
             [
              0.6666666666666666,
              "#ed7953"
             ],
             [
              0.7777777777777778,
              "#fb9f3a"
             ],
             [
              0.8888888888888888,
              "#fdca26"
             ],
             [
              1,
              "#f0f921"
             ]
            ],
            "type": "histogram2dcontour"
           }
          ],
          "mesh3d": [
           {
            "colorbar": {
             "outlinewidth": 0,
             "ticks": ""
            },
            "type": "mesh3d"
           }
          ],
          "parcoords": [
           {
            "line": {
             "colorbar": {
              "outlinewidth": 0,
              "ticks": ""
             }
            },
            "type": "parcoords"
           }
          ],
          "pie": [
           {
            "automargin": true,
            "type": "pie"
           }
          ],
          "scatter": [
           {
            "marker": {
             "colorbar": {
              "outlinewidth": 0,
              "ticks": ""
             }
            },
            "type": "scatter"
           }
          ],
          "scatter3d": [
           {
            "line": {
             "colorbar": {
              "outlinewidth": 0,
              "ticks": ""
             }
            },
            "marker": {
             "colorbar": {
              "outlinewidth": 0,
              "ticks": ""
             }
            },
            "type": "scatter3d"
           }
          ],
          "scattercarpet": [
           {
            "marker": {
             "colorbar": {
              "outlinewidth": 0,
              "ticks": ""
             }
            },
            "type": "scattercarpet"
           }
          ],
          "scattergeo": [
           {
            "marker": {
             "colorbar": {
              "outlinewidth": 0,
              "ticks": ""
             }
            },
            "type": "scattergeo"
           }
          ],
          "scattergl": [
           {
            "marker": {
             "colorbar": {
              "outlinewidth": 0,
              "ticks": ""
             }
            },
            "type": "scattergl"
           }
          ],
          "scattermapbox": [
           {
            "marker": {
             "colorbar": {
              "outlinewidth": 0,
              "ticks": ""
             }
            },
            "type": "scattermapbox"
           }
          ],
          "scatterpolar": [
           {
            "marker": {
             "colorbar": {
              "outlinewidth": 0,
              "ticks": ""
             }
            },
            "type": "scatterpolar"
           }
          ],
          "scatterpolargl": [
           {
            "marker": {
             "colorbar": {
              "outlinewidth": 0,
              "ticks": ""
             }
            },
            "type": "scatterpolargl"
           }
          ],
          "scatterternary": [
           {
            "marker": {
             "colorbar": {
              "outlinewidth": 0,
              "ticks": ""
             }
            },
            "type": "scatterternary"
           }
          ],
          "surface": [
           {
            "colorbar": {
             "outlinewidth": 0,
             "ticks": ""
            },
            "colorscale": [
             [
              0,
              "#0d0887"
             ],
             [
              0.1111111111111111,
              "#46039f"
             ],
             [
              0.2222222222222222,
              "#7201a8"
             ],
             [
              0.3333333333333333,
              "#9c179e"
             ],
             [
              0.4444444444444444,
              "#bd3786"
             ],
             [
              0.5555555555555556,
              "#d8576b"
             ],
             [
              0.6666666666666666,
              "#ed7953"
             ],
             [
              0.7777777777777778,
              "#fb9f3a"
             ],
             [
              0.8888888888888888,
              "#fdca26"
             ],
             [
              1,
              "#f0f921"
             ]
            ],
            "type": "surface"
           }
          ],
          "table": [
           {
            "cells": {
             "fill": {
              "color": "#EBF0F8"
             },
             "line": {
              "color": "white"
             }
            },
            "header": {
             "fill": {
              "color": "#C8D4E3"
             },
             "line": {
              "color": "white"
             }
            },
            "type": "table"
           }
          ]
         },
         "layout": {
          "annotationdefaults": {
           "arrowcolor": "#2a3f5f",
           "arrowhead": 0,
           "arrowwidth": 1
          },
          "coloraxis": {
           "colorbar": {
            "outlinewidth": 0,
            "ticks": ""
           }
          },
          "colorscale": {
           "diverging": [
            [
             0,
             "#8e0152"
            ],
            [
             0.1,
             "#c51b7d"
            ],
            [
             0.2,
             "#de77ae"
            ],
            [
             0.3,
             "#f1b6da"
            ],
            [
             0.4,
             "#fde0ef"
            ],
            [
             0.5,
             "#f7f7f7"
            ],
            [
             0.6,
             "#e6f5d0"
            ],
            [
             0.7,
             "#b8e186"
            ],
            [
             0.8,
             "#7fbc41"
            ],
            [
             0.9,
             "#4d9221"
            ],
            [
             1,
             "#276419"
            ]
           ],
           "sequential": [
            [
             0,
             "#0d0887"
            ],
            [
             0.1111111111111111,
             "#46039f"
            ],
            [
             0.2222222222222222,
             "#7201a8"
            ],
            [
             0.3333333333333333,
             "#9c179e"
            ],
            [
             0.4444444444444444,
             "#bd3786"
            ],
            [
             0.5555555555555556,
             "#d8576b"
            ],
            [
             0.6666666666666666,
             "#ed7953"
            ],
            [
             0.7777777777777778,
             "#fb9f3a"
            ],
            [
             0.8888888888888888,
             "#fdca26"
            ],
            [
             1,
             "#f0f921"
            ]
           ],
           "sequentialminus": [
            [
             0,
             "#0d0887"
            ],
            [
             0.1111111111111111,
             "#46039f"
            ],
            [
             0.2222222222222222,
             "#7201a8"
            ],
            [
             0.3333333333333333,
             "#9c179e"
            ],
            [
             0.4444444444444444,
             "#bd3786"
            ],
            [
             0.5555555555555556,
             "#d8576b"
            ],
            [
             0.6666666666666666,
             "#ed7953"
            ],
            [
             0.7777777777777778,
             "#fb9f3a"
            ],
            [
             0.8888888888888888,
             "#fdca26"
            ],
            [
             1,
             "#f0f921"
            ]
           ]
          },
          "colorway": [
           "#636efa",
           "#EF553B",
           "#00cc96",
           "#ab63fa",
           "#FFA15A",
           "#19d3f3",
           "#FF6692",
           "#B6E880",
           "#FF97FF",
           "#FECB52"
          ],
          "font": {
           "color": "#2a3f5f"
          },
          "geo": {
           "bgcolor": "white",
           "lakecolor": "white",
           "landcolor": "#E5ECF6",
           "showlakes": true,
           "showland": true,
           "subunitcolor": "white"
          },
          "hoverlabel": {
           "align": "left"
          },
          "hovermode": "closest",
          "mapbox": {
           "style": "light"
          },
          "paper_bgcolor": "white",
          "plot_bgcolor": "#E5ECF6",
          "polar": {
           "angularaxis": {
            "gridcolor": "white",
            "linecolor": "white",
            "ticks": ""
           },
           "bgcolor": "#E5ECF6",
           "radialaxis": {
            "gridcolor": "white",
            "linecolor": "white",
            "ticks": ""
           }
          },
          "scene": {
           "xaxis": {
            "backgroundcolor": "#E5ECF6",
            "gridcolor": "white",
            "gridwidth": 2,
            "linecolor": "white",
            "showbackground": true,
            "ticks": "",
            "zerolinecolor": "white"
           },
           "yaxis": {
            "backgroundcolor": "#E5ECF6",
            "gridcolor": "white",
            "gridwidth": 2,
            "linecolor": "white",
            "showbackground": true,
            "ticks": "",
            "zerolinecolor": "white"
           },
           "zaxis": {
            "backgroundcolor": "#E5ECF6",
            "gridcolor": "white",
            "gridwidth": 2,
            "linecolor": "white",
            "showbackground": true,
            "ticks": "",
            "zerolinecolor": "white"
           }
          },
          "shapedefaults": {
           "line": {
            "color": "#2a3f5f"
           }
          },
          "ternary": {
           "aaxis": {
            "gridcolor": "white",
            "linecolor": "white",
            "ticks": ""
           },
           "baxis": {
            "gridcolor": "white",
            "linecolor": "white",
            "ticks": ""
           },
           "bgcolor": "#E5ECF6",
           "caxis": {
            "gridcolor": "white",
            "linecolor": "white",
            "ticks": ""
           }
          },
          "title": {
           "x": 0.05
          },
          "xaxis": {
           "automargin": true,
           "gridcolor": "white",
           "linecolor": "white",
           "ticks": "",
           "title": {
            "standoff": 15
           },
           "zerolinecolor": "white",
           "zerolinewidth": 2
          },
          "yaxis": {
           "automargin": true,
           "gridcolor": "white",
           "linecolor": "white",
           "ticks": "",
           "title": {
            "standoff": 15
           },
           "zerolinecolor": "white",
           "zerolinewidth": 2
          }
         }
        },
        "title": {
         "text": "Genre Breakdown by Platform"
        },
        "xaxis": {
         "title": {
          "text": "Genre"
         }
        },
        "yaxis": {
         "title": {
          "text": "Games Released"
         }
        }
       }
      },
      "text/html": [
       "<div>                            <div id=\"5ba727f4-6b50-4fec-8f33-c136cc3a4eb3\" class=\"plotly-graph-div\" style=\"height:525px; width:100%;\"></div>            <script type=\"text/javascript\">                require([\"plotly\"], function(Plotly) {                    window.PLOTLYENV=window.PLOTLYENV || {};                                    if (document.getElementById(\"5ba727f4-6b50-4fec-8f33-c136cc3a4eb3\")) {                    Plotly.newPlot(                        \"5ba727f4-6b50-4fec-8f33-c136cc3a4eb3\",                        [{\"marker\": {\"color\": \"rgb(30,144,255)\"}, \"name\": \"PS4\", \"opacity\": 0.75, \"type\": \"histogram\", \"x\": [\"Action\", \"Shooter\", \"Shooter\", \"Sports\", \"Sports\", \"Action\", \"Shooter\", \"Role-Playing\", \"Sports\", \"Shooter\", \"Shooter\", \"Shooter\", \"Action-Adventure\", \"Misc\", \"Sports\", \"Action\", \"Shooter\", \"Action\", \"Role-Playing\", \"Role-Playing\", \"Platform\", \"Shooter\", \"Shooter\", \"Shooter\", \"Shooter\", \"Action-Adventure\", \"Shooter\", \"Shooter\", \"Action\", \"Action\", \"Action\", \"Shooter\", \"Sports\", \"Shooter\", \"Racing\", \"Action\", \"Sports\", \"Fighting\", \"Sports\", \"Role-Playing\", \"Action\", \"Sports\", \"Action\", \"Sports\", \"Sports\", \"Action\", \"Action-Adventure\", \"Shooter\", \"Role-Playing\", \"Action\", \"Shooter\", \"Action-Adventure\", \"Shooter\", \"Action-Adventure\", \"Role-Playing\", \"Action-Adventure\", \"Racing\", \"Sports\", \"Sports\", \"Action\", \"Role-Playing\", \"Platform\", \"Action\", \"Racing\", \"Role-Playing\", \"Action-Adventure\", \"Sports\", \"Racing\", \"Shooter\", \"Racing\", \"Misc\", \"Shooter\", \"Adventure\", \"Platform\", \"MMO\", \"Role-Playing\", \"Action\", \"Sports\", \"Action-Adventure\", \"Action\", \"Action\", \"Adventure\", \"Platform\", \"Action\", \"Racing\", \"Role-Playing\", \"Action\", \"Fighting\", \"Shooter\", \"Role-Playing\", \"Fighting\", \"Role-Playing\", \"Shooter\", \"Shooter\", \"Fighting\", \"Sports\", \"Action-Adventure\", \"Action\", \"Platform\", \"Role-Playing\", \"Role-Playing\", \"Simulation\", \"Fighting\", \"Shooter\", \"Sports\", \"Sports\", \"Action-Adventure\", \"Action-Adventure\", \"Sports\", \"Shooter\", \"Racing\", \"Sports\", \"Music\", \"Role-Playing\", \"Action\", \"Action-Adventure\", \"Fighting\", \"Action\", \"Action\", \"Sports\", \"Sports\", \"Misc\", \"Role-Playing\", \"Action\", \"Fighting\", \"Role-Playing\", \"Adventure\", \"Action\", \"Shooter\", \"Role-Playing\", \"Action\", \"Sports\", \"Action\", \"Shooter\", \"Sports\", \"Fighting\", \"Sports\", \"Sports\", \"Action\", \"Role-Playing\", \"Action\", \"Action\", \"Action\", \"Adventure\", \"Shooter\", \"Simulation\", \"Shooter\", \"Action\", \"Action\", \"Sports\", \"Action\", \"Action\", \"Action\", \"MMO\", \"Action\", \"Shooter\", \"Racing\", \"Sports\", \"Sports\", \"Platform\", \"Sports\", \"Action-Adventure\", \"Shooter\", \"Sports\", \"Racing\", \"Role-Playing\", \"Action-Adventure\", \"Fighting\", \"Adventure\", \"Role-Playing\", \"Racing\", \"Shooter\", \"Music\", \"Sports\", \"Shooter\", \"Role-Playing\", \"Fighting\", \"Adventure\", \"Action\", \"Shooter\", \"Racing\", \"Role-Playing\", \"Sports\", \"Action-Adventure\", \"Party\", \"Adventure\", \"Adventure\", \"Shooter\", \"Role-Playing\", \"Sports\", \"Action\", \"Action\", \"Music\", \"Shooter\", \"Platform\", \"Sports\", \"Action-Adventure\", \"Racing\", \"Shooter\", \"Sports\", \"Role-Playing\", \"Sports\", \"Action\", \"Platform\", \"Racing\", \"Shooter\", \"Action\", \"Racing\", \"Action\", \"Shooter\", \"Shooter\", \"Shooter\", \"Adventure\", \"Platform\", \"Action\", \"Racing\", \"Action\", \"Music\", \"Adventure\", \"Role-Playing\", \"Action-Adventure\", \"Role-Playing\", \"Action\", \"Misc\", \"Platform\", \"Misc\", \"Platform\", \"Action\", \"Action\", \"Role-Playing\", \"Simulation\", \"Music\", \"Platform\", \"Action\", \"Music\", \"Simulation\", \"Action\", \"Action-Adventure\", \"Adventure\", \"Action\", \"Shooter\", \"Role-Playing\", \"Action-Adventure\", \"Role-Playing\", \"Fighting\", \"Fighting\", \"Role-Playing\", \"Role-Playing\", \"Action\", \"Role-Playing\", \"Action-Adventure\", \"Shooter\", \"Platform\", \"Strategy\", \"Sports\", \"Action\", \"Fighting\", \"Misc\", \"Simulation\", \"Music\", \"Fighting\", \"Misc\", \"Platform\", \"Racing\", \"Action\", \"Adventure\", \"Simulation\", \"Action\", \"Action\", \"Action\", \"Action\", \"Action\", \"Action-Adventure\", \"Racing\", \"Shooter\", \"Sports\", \"Fighting\", \"Adventure\", \"Sports\", \"Fighting\", \"Shooter\", \"MMO\", \"Sports\", \"Role-Playing\", \"Role-Playing\", \"Action\", \"Sports\", \"Misc\", \"Action\", \"Racing\", \"Action-Adventure\", \"Platform\", \"Music\", \"Role-Playing\", \"Action\", \"Action\", \"Sports\", \"Shooter\", \"Puzzle\", \"Action\", \"Racing\", \"Action\", \"Shooter\", \"Action\", \"Adventure\", \"Role-Playing\", \"Role-Playing\", \"Action\", \"Shooter\", \"Action\", \"Sports\", \"Action\", \"Misc\", \"Action\", \"Adventure\", \"Racing\", \"Action\", \"Simulation\", \"Action\", \"Adventure\", \"Action\", \"Music\", \"Action\", \"Action\", \"Racing\", \"Adventure\", \"Racing\", \"MMO\", \"Adventure\", \"Action\", \"Shooter\", \"Fighting\", \"MMO\", \"Fighting\", \"Action-Adventure\", \"Role-Playing\", \"Role-Playing\", \"Fighting\", \"Role-Playing\", \"Racing\", \"Action\", \"Action\", \"Fighting\", \"Action-Adventure\", \"Platform\", \"Role-Playing\", \"Racing\", \"Action\", \"Visual Novel\", \"Action\", \"Adventure\", \"Role-Playing\", \"Role-Playing\", \"Adventure\", \"Action\", \"Role-Playing\", \"Racing\", \"Role-Playing\", \"Sports\", \"Racing\", \"Fighting\", \"Action\", \"Music\", \"Role-Playing\", \"Action\", \"Role-Playing\", \"Racing\", \"Platform\", \"Racing\", \"Shooter\", \"Sports\", \"Role-Playing\", \"Visual Novel\", \"Racing\", \"Music\", \"Sports\", \"Adventure\", \"Action\", \"Sports\", \"Action\", \"Sports\", \"Role-Playing\", \"Adventure\", \"Simulation\", \"Misc\", \"Adventure\", \"Action\", \"Role-Playing\", \"Role-Playing\", \"Action\", \"Adventure\", \"Adventure\", \"Strategy\", \"Adventure\", \"Platform\", \"Platform\", \"Role-Playing\", \"Simulation\", \"Strategy\", \"Misc\", \"Action\", \"Action-Adventure\", \"Action\", \"Shooter\", \"Role-Playing\", \"Shooter\", \"Simulation\", \"Shooter\", \"Action\", \"Strategy\", \"Action\", \"Action\", \"Fighting\", \"MMO\", \"Action\", \"Action-Adventure\", \"Role-Playing\", \"Action\", \"Music\", \"Action\", \"Role-Playing\", \"Puzzle\", \"Racing\", \"Music\", \"Action\", \"Sports\", \"Role-Playing\", \"Role-Playing\", \"Shooter\", \"Role-Playing\", \"Action\", \"Strategy\", \"Strategy\", \"Action\", \"Action\", \"Role-Playing\", \"Action\", \"Action\", \"Adventure\", \"Simulation\", \"Racing\", \"Action\", \"Action\", \"Adventure\", \"Adventure\", \"Action\", \"Racing\", \"Role-Playing\", \"Misc\", \"Platform\", \"Action\", \"Shooter\", \"Action\", \"Shooter\", \"Racing\", \"Action\", \"Simulation\", \"Action\", \"Action-Adventure\", \"Role-Playing\", \"Role-Playing\", \"Visual Novel\", \"Misc\", \"Adventure\", \"Adventure\", \"Misc\", \"Action\", \"Action\", \"Action\", \"Action\", \"Shooter\", \"Role-Playing\", \"Action\", \"Action\", \"Role-Playing\", \"Adventure\", \"Action\", \"Adventure\", \"Adventure\", \"Action\", \"Sports\", \"Adventure\", \"Misc\", \"Misc\", \"Action\", \"Action\", \"Strategy\", \"Role-Playing\", \"Role-Playing\", \"Racing\", \"Action\", \"Role-Playing\", \"Adventure\", \"Misc\", \"Adventure\", \"Sports\", \"Action\", \"Sports\", \"Role-Playing\", \"Sports\", \"Sports\", \"Racing\", \"Role-Playing\", \"Sports\", \"Adventure\", \"Strategy\", \"Platform\", \"Adventure\", \"Action\", \"Role-Playing\", \"Action\", \"Role-Playing\", \"Simulation\", \"Shooter\", \"Adventure\", \"Action\", \"Racing\", \"Simulation\", \"Racing\", \"Adventure\", \"Shooter\", \"Action\", \"Strategy\", \"Misc\", \"Action\", \"Action\", \"Fighting\", \"Role-Playing\", \"Strategy\", \"Role-Playing\", \"Shooter\", \"Platform\", \"Adventure\", \"Adventure\", \"Fighting\", \"Action\", \"Action\", \"Role-Playing\", \"Action\", \"Strategy\", \"Strategy\", \"Shooter\", \"Shooter\", \"Action\", \"Sports\", \"Shooter\", \"Racing\", \"Party\", \"Sports\", \"Action\", \"Shooter\", \"Action\", \"Sports\", \"Simulation\", \"Puzzle\", \"Action\", \"Puzzle\", \"Adventure\", \"Music\", \"Adventure\", \"Role-Playing\", \"Fighting\", \"Misc\", \"Puzzle\", \"Action-Adventure\", \"Sports\", \"Adventure\", \"Action\", \"Adventure\", \"Strategy\", \"Action\", \"Racing\", \"Fighting\", \"Action\", \"Action\", \"Shooter\", \"Role-Playing\", \"Misc\", \"Visual Novel\", \"Misc\", \"Misc\", \"Racing\", \"Action\", \"Adventure\", \"Action\", \"Sports\", \"Platform\", \"Action\", \"Misc\", \"Action\", \"Puzzle\", \"Adventure\", \"Visual Novel\", \"Strategy\", \"Simulation\", \"Role-Playing\", \"Music\", \"Action\", \"Fighting\", \"Platform\", \"Fighting\", \"Role-Playing\", \"Action\", \"Racing\", \"Visual Novel\", \"Racing\", \"Role-Playing\", \"Role-Playing\", \"Puzzle\", \"Strategy\", \"Music\", \"Action\", \"Shooter\", \"Puzzle\", \"Action\", \"Music\", \"Strategy\", \"Music\", \"Role-Playing\", \"Simulation\", \"Fighting\", \"Action-Adventure\", \"Action\", \"Shooter\", \"Action-Adventure\", \"Role-Playing\", \"Fighting\", \"Action\", \"Action\", \"Misc\", \"Action\", \"Misc\", \"Shooter\", \"Action\", \"Action\", \"Shooter\", \"Action\", \"Visual Novel\", \"Sports\", \"Misc\", \"Adventure\", \"Adventure\", \"Adventure\", \"Adventure\", \"Adventure\", \"Visual Novel\", \"Adventure\", \"Role-Playing\", \"Misc\", \"Role-Playing\", \"Adventure\", \"Action\", \"Action\", \"Strategy\", \"Adventure\", \"Action\", \"Racing\", \"Strategy\", \"Platform\", \"Role-Playing\", \"Strategy\", \"Strategy\", \"Strategy\", \"Racing\", \"Action\", \"Shooter\", \"Platform\", \"Action\", \"Simulation\", \"Action\", \"Action\", \"Action\", \"Role-Playing\", \"Platform\"]}, {\"marker\": {\"color\": \"rgb(0,128,0)\"}, \"name\": \"XOne\", \"opacity\": 0.75, \"type\": \"histogram\", \"x\": [\"Action\", \"Shooter\", \"Shooter\", \"Misc\", \"Shooter\", \"Shooter\", \"Role-Playing\", \"Shooter\", \"Shooter\", \"Shooter\", \"Racing\", \"Sports\", \"Shooter\", \"Action\", \"Shooter\", \"Shooter\", \"Shooter\", \"Sports\", \"Sports\", \"Shooter\", \"Shooter\", \"Shooter\", \"Shooter\", \"Shooter\", \"Action\", \"Sports\", \"Sports\", \"Sports\", \"Racing\", \"Shooter\", \"Action\", \"Sports\", \"Shooter\", \"Shooter\", \"Sports\", \"Sports\", \"Racing\", \"Shooter\", \"Sports\", \"Role-Playing\", \"Role-Playing\", \"Fighting\", \"Sports\", \"Shooter\", \"Action-Adventure\", \"Action\", \"Shooter\", \"Sports\", \"Adventure\", \"Action\", \"Racing\", \"Action\", \"Action\", \"Racing\", \"Shooter\", \"Action\", \"Action\", \"Sports\", \"MMO\", \"Shooter\", \"Action\", \"Sports\", \"Shooter\", \"Shooter\", \"Action\", \"Action\", \"Action\", \"Role-Playing\", \"Action-Adventure\", \"Role-Playing\", \"Action-Adventure\", \"Action-Adventure\", \"Role-Playing\", \"Sports\", \"Action\", \"Fighting\", \"Action\", \"Action\", \"Shooter\", \"Music\", \"Action\", \"Sports\", \"Role-Playing\", \"Role-Playing\", \"Misc\", \"Action\", \"Action\", \"Adventure\", \"Action\", \"Music\", \"Shooter\", \"Racing\", \"Simulation\", \"Racing\", \"Action-Adventure\", \"Action\", \"Shooter\", \"Racing\", \"Shooter\", \"Racing\", \"Misc\", \"Misc\", \"Shooter\", \"Shooter\", \"Sports\", \"Action-Adventure\", \"Action-Adventure\", \"Sports\", \"Role-Playing\", \"Sports\", \"Sports\", \"Sports\", \"Sports\", \"Fighting\", \"Action\", \"Sports\", \"Action-Adventure\", \"Music\", \"Adventure\", \"Strategy\", \"Sports\", \"Action-Adventure\", \"Action\", \"Shooter\", \"Sports\", \"Action\", \"Fighting\", \"Action\", \"Simulation\", \"Music\", \"Action\", \"Action-Adventure\", \"Action\", \"Shooter\", \"Platform\", \"Action\", \"Shooter\", \"Music\", \"Action\", \"Sports\", \"Shooter\", \"Racing\", \"Action-Adventure\", \"Action\", \"Sports\", \"Role-Playing\", \"Music\", \"Platform\", \"Fighting\", \"Fighting\", \"Misc\", \"Fighting\", \"Music\", \"Action\", \"Simulation\", \"Action\", \"Shooter\", \"Shooter\", \"Platform\", \"Role-Playing\", \"Platform\", \"Shooter\", \"Sports\", \"Role-Playing\", \"Action\", \"Adventure\", \"Platform\", \"Action\", \"Action-Adventure\", \"Action-Adventure\", \"Action-Adventure\", \"Adventure\", \"Racing\", \"Racing\", \"Shooter\", \"Action\", \"Simulation\", \"Sports\", \"Misc\", \"Racing\", \"Shooter\", \"Platform\", \"Racing\", \"Action\", \"Action-Adventure\", \"Sports\", \"Role-Playing\", \"Shooter\", \"Sports\", \"Music\", \"Racing\", \"Shooter\", \"Action-Adventure\", \"Racing\", \"Action\", \"Action-Adventure\", \"Racing\", \"Strategy\", \"Platform\", \"Fighting\", \"Action\", \"Music\", \"Shooter\", \"Simulation\", \"Sports\", \"Adventure\", \"Misc\", \"Action-Adventure\", \"Fighting\", \"Platform\", \"Action\", \"Adventure\", \"Puzzle\", \"Simulation\", \"Action\", \"Action\", \"Action\", \"Shooter\", \"Action\", \"Shooter\", \"Sports\", \"Action\", \"MMO\", \"Fighting\", \"Fighting\", \"Sports\", \"Action\", \"Misc\", \"Platform\", \"Action\", \"Action\", \"Music\", \"Sports\", \"Misc\", \"Action\", \"Racing\", \"Shooter\", \"Action\", \"Sports\", \"Fighting\", \"Adventure\", \"Adventure\", \"Action\", \"Sports\", \"Shooter\", \"Action\", \"Action\", \"Action\", \"Racing\", \"Fighting\", \"Simulation\", \"Platform\", \"Action-Adventure\", \"Racing\", \"Sports\", \"Racing\", \"Racing\", \"Role-Playing\", \"Fighting\", \"Racing\", \"Shooter\", \"Sports\", \"Adventure\", \"Racing\", \"Simulation\", \"Shooter\", \"Misc\", \"Action\", \"Racing\", \"Action-Adventure\", \"Fighting\", \"Action\", \"Music\", \"Action\", \"Adventure\", \"Action-Adventure\", \"Sports\", \"Strategy\", \"Action\", \"Action\", \"Shooter\", \"Racing\", \"Adventure\", \"Sports\", \"Action\", \"Shooter\", \"Action\", \"Action\", \"Simulation\", \"Racing\", \"Sports\", \"Strategy\", \"Racing\", \"Shooter\", \"Misc\", \"Misc\", \"Adventure\", \"Action\", \"Sports\", \"Sports\", \"Action\", \"Misc\", \"Role-Playing\", \"Action\", \"Sports\", \"Racing\", \"Action\", \"Sports\", \"Role-Playing\", \"Action\", \"Adventure\", \"Racing\", \"Adventure\", \"Adventure\", \"Racing\", \"Adventure\", \"Action-Adventure\", \"Platform\", \"Role-Playing\", \"Adventure\", \"Puzzle\", \"Music\", \"Adventure\", \"Role-Playing\", \"Role-Playing\", \"Shooter\", \"Racing\", \"Shooter\", \"Role-Playing\", \"Role-Playing\", \"Action\", \"Action\", \"Action\", \"Action\", \"Racing\", \"Action\", \"Action-Adventure\", \"Adventure\", \"Sports\", \"Action\", \"Shooter\", \"Action\", \"Shooter\", \"Platform\", \"Simulation\", \"Adventure\", \"Adventure\", \"Action\", \"Adventure\", \"Action\", \"Racing\", \"Action\", \"Racing\", \"Adventure\", \"Racing\", \"Role-Playing\", \"Action\", \"Action\", \"Simulation\", \"Shooter\", \"Strategy\", \"Strategy\", \"Action\", \"Puzzle\", \"Action\", \"Adventure\", \"Shooter\", \"Action\", \"Strategy\", \"Sports\", \"Racing\", \"Action\", \"Simulation\", \"Simulation\", \"Racing\", \"Strategy\", \"Role-Playing\", \"Sports\", \"Racing\", \"Action\", \"Adventure\", \"Adventure\", \"Racing\", \"Visual Novel\", \"Racing\", \"Strategy\", \"Racing\", \"Role-Playing\", \"Adventure\", \"Simulation\", \"Action\", \"Sports\", \"Simulation\", \"Racing\", \"Strategy\", \"Shooter\", \"Action\", \"Action\", \"Simulation\", \"Sports\", \"Misc\"]}],                        {\"bargap\": 0.2, \"bargroupgap\": 0.1, \"paper_bgcolor\": \"rgb(243, 243, 243)\", \"plot_bgcolor\": \"rgb(243, 243, 243)\", \"template\": {\"data\": {\"bar\": [{\"error_x\": {\"color\": \"#2a3f5f\"}, \"error_y\": {\"color\": \"#2a3f5f\"}, \"marker\": {\"line\": {\"color\": \"#E5ECF6\", \"width\": 0.5}}, \"type\": \"bar\"}], \"barpolar\": [{\"marker\": {\"line\": {\"color\": \"#E5ECF6\", \"width\": 0.5}}, \"type\": \"barpolar\"}], \"carpet\": [{\"aaxis\": {\"endlinecolor\": \"#2a3f5f\", \"gridcolor\": \"white\", \"linecolor\": \"white\", \"minorgridcolor\": \"white\", \"startlinecolor\": \"#2a3f5f\"}, \"baxis\": {\"endlinecolor\": \"#2a3f5f\", \"gridcolor\": \"white\", \"linecolor\": \"white\", \"minorgridcolor\": \"white\", \"startlinecolor\": \"#2a3f5f\"}, \"type\": \"carpet\"}], \"choropleth\": [{\"colorbar\": {\"outlinewidth\": 0, \"ticks\": \"\"}, \"type\": \"choropleth\"}], \"contour\": [{\"colorbar\": {\"outlinewidth\": 0, \"ticks\": \"\"}, \"colorscale\": [[0.0, \"#0d0887\"], [0.1111111111111111, \"#46039f\"], [0.2222222222222222, \"#7201a8\"], [0.3333333333333333, \"#9c179e\"], [0.4444444444444444, \"#bd3786\"], [0.5555555555555556, \"#d8576b\"], [0.6666666666666666, \"#ed7953\"], [0.7777777777777778, \"#fb9f3a\"], [0.8888888888888888, \"#fdca26\"], [1.0, \"#f0f921\"]], \"type\": \"contour\"}], \"contourcarpet\": [{\"colorbar\": {\"outlinewidth\": 0, \"ticks\": \"\"}, \"type\": \"contourcarpet\"}], \"heatmap\": [{\"colorbar\": {\"outlinewidth\": 0, \"ticks\": \"\"}, \"colorscale\": [[0.0, \"#0d0887\"], [0.1111111111111111, \"#46039f\"], [0.2222222222222222, \"#7201a8\"], [0.3333333333333333, \"#9c179e\"], [0.4444444444444444, \"#bd3786\"], [0.5555555555555556, \"#d8576b\"], [0.6666666666666666, \"#ed7953\"], [0.7777777777777778, \"#fb9f3a\"], [0.8888888888888888, \"#fdca26\"], [1.0, \"#f0f921\"]], \"type\": \"heatmap\"}], \"heatmapgl\": [{\"colorbar\": {\"outlinewidth\": 0, \"ticks\": \"\"}, \"colorscale\": [[0.0, \"#0d0887\"], [0.1111111111111111, \"#46039f\"], [0.2222222222222222, \"#7201a8\"], [0.3333333333333333, \"#9c179e\"], [0.4444444444444444, \"#bd3786\"], [0.5555555555555556, \"#d8576b\"], [0.6666666666666666, \"#ed7953\"], [0.7777777777777778, \"#fb9f3a\"], [0.8888888888888888, \"#fdca26\"], [1.0, \"#f0f921\"]], \"type\": \"heatmapgl\"}], \"histogram\": [{\"marker\": {\"colorbar\": {\"outlinewidth\": 0, \"ticks\": \"\"}}, \"type\": \"histogram\"}], \"histogram2d\": [{\"colorbar\": {\"outlinewidth\": 0, \"ticks\": \"\"}, \"colorscale\": [[0.0, \"#0d0887\"], [0.1111111111111111, \"#46039f\"], [0.2222222222222222, \"#7201a8\"], [0.3333333333333333, \"#9c179e\"], [0.4444444444444444, \"#bd3786\"], [0.5555555555555556, \"#d8576b\"], [0.6666666666666666, \"#ed7953\"], [0.7777777777777778, \"#fb9f3a\"], [0.8888888888888888, \"#fdca26\"], [1.0, \"#f0f921\"]], \"type\": \"histogram2d\"}], \"histogram2dcontour\": [{\"colorbar\": {\"outlinewidth\": 0, \"ticks\": \"\"}, \"colorscale\": [[0.0, \"#0d0887\"], [0.1111111111111111, \"#46039f\"], [0.2222222222222222, \"#7201a8\"], [0.3333333333333333, \"#9c179e\"], [0.4444444444444444, \"#bd3786\"], [0.5555555555555556, \"#d8576b\"], [0.6666666666666666, \"#ed7953\"], [0.7777777777777778, \"#fb9f3a\"], [0.8888888888888888, \"#fdca26\"], [1.0, \"#f0f921\"]], \"type\": \"histogram2dcontour\"}], \"mesh3d\": [{\"colorbar\": {\"outlinewidth\": 0, \"ticks\": \"\"}, \"type\": \"mesh3d\"}], \"parcoords\": [{\"line\": {\"colorbar\": {\"outlinewidth\": 0, \"ticks\": \"\"}}, \"type\": \"parcoords\"}], \"pie\": [{\"automargin\": true, \"type\": \"pie\"}], \"scatter\": [{\"marker\": {\"colorbar\": {\"outlinewidth\": 0, \"ticks\": \"\"}}, \"type\": \"scatter\"}], \"scatter3d\": [{\"line\": {\"colorbar\": {\"outlinewidth\": 0, \"ticks\": \"\"}}, \"marker\": {\"colorbar\": {\"outlinewidth\": 0, \"ticks\": \"\"}}, \"type\": \"scatter3d\"}], \"scattercarpet\": [{\"marker\": {\"colorbar\": {\"outlinewidth\": 0, \"ticks\": \"\"}}, \"type\": \"scattercarpet\"}], \"scattergeo\": [{\"marker\": {\"colorbar\": {\"outlinewidth\": 0, \"ticks\": \"\"}}, \"type\": \"scattergeo\"}], \"scattergl\": [{\"marker\": {\"colorbar\": {\"outlinewidth\": 0, \"ticks\": \"\"}}, \"type\": \"scattergl\"}], \"scattermapbox\": [{\"marker\": {\"colorbar\": {\"outlinewidth\": 0, \"ticks\": \"\"}}, \"type\": \"scattermapbox\"}], \"scatterpolar\": [{\"marker\": {\"colorbar\": {\"outlinewidth\": 0, \"ticks\": \"\"}}, \"type\": \"scatterpolar\"}], \"scatterpolargl\": [{\"marker\": {\"colorbar\": {\"outlinewidth\": 0, \"ticks\": \"\"}}, \"type\": \"scatterpolargl\"}], \"scatterternary\": [{\"marker\": {\"colorbar\": {\"outlinewidth\": 0, \"ticks\": \"\"}}, \"type\": \"scatterternary\"}], \"surface\": [{\"colorbar\": {\"outlinewidth\": 0, \"ticks\": \"\"}, \"colorscale\": [[0.0, \"#0d0887\"], [0.1111111111111111, \"#46039f\"], [0.2222222222222222, \"#7201a8\"], [0.3333333333333333, \"#9c179e\"], [0.4444444444444444, \"#bd3786\"], [0.5555555555555556, \"#d8576b\"], [0.6666666666666666, \"#ed7953\"], [0.7777777777777778, \"#fb9f3a\"], [0.8888888888888888, \"#fdca26\"], [1.0, \"#f0f921\"]], \"type\": \"surface\"}], \"table\": [{\"cells\": {\"fill\": {\"color\": \"#EBF0F8\"}, \"line\": {\"color\": \"white\"}}, \"header\": {\"fill\": {\"color\": \"#C8D4E3\"}, \"line\": {\"color\": \"white\"}}, \"type\": \"table\"}]}, \"layout\": {\"annotationdefaults\": {\"arrowcolor\": \"#2a3f5f\", \"arrowhead\": 0, \"arrowwidth\": 1}, \"coloraxis\": {\"colorbar\": {\"outlinewidth\": 0, \"ticks\": \"\"}}, \"colorscale\": {\"diverging\": [[0, \"#8e0152\"], [0.1, \"#c51b7d\"], [0.2, \"#de77ae\"], [0.3, \"#f1b6da\"], [0.4, \"#fde0ef\"], [0.5, \"#f7f7f7\"], [0.6, \"#e6f5d0\"], [0.7, \"#b8e186\"], [0.8, \"#7fbc41\"], [0.9, \"#4d9221\"], [1, \"#276419\"]], \"sequential\": [[0.0, \"#0d0887\"], [0.1111111111111111, \"#46039f\"], [0.2222222222222222, \"#7201a8\"], [0.3333333333333333, \"#9c179e\"], [0.4444444444444444, \"#bd3786\"], [0.5555555555555556, \"#d8576b\"], [0.6666666666666666, \"#ed7953\"], [0.7777777777777778, \"#fb9f3a\"], [0.8888888888888888, \"#fdca26\"], [1.0, \"#f0f921\"]], \"sequentialminus\": [[0.0, \"#0d0887\"], [0.1111111111111111, \"#46039f\"], [0.2222222222222222, \"#7201a8\"], [0.3333333333333333, \"#9c179e\"], [0.4444444444444444, \"#bd3786\"], [0.5555555555555556, \"#d8576b\"], [0.6666666666666666, \"#ed7953\"], [0.7777777777777778, \"#fb9f3a\"], [0.8888888888888888, \"#fdca26\"], [1.0, \"#f0f921\"]]}, \"colorway\": [\"#636efa\", \"#EF553B\", \"#00cc96\", \"#ab63fa\", \"#FFA15A\", \"#19d3f3\", \"#FF6692\", \"#B6E880\", \"#FF97FF\", \"#FECB52\"], \"font\": {\"color\": \"#2a3f5f\"}, \"geo\": {\"bgcolor\": \"white\", \"lakecolor\": \"white\", \"landcolor\": \"#E5ECF6\", \"showlakes\": true, \"showland\": true, \"subunitcolor\": \"white\"}, \"hoverlabel\": {\"align\": \"left\"}, \"hovermode\": \"closest\", \"mapbox\": {\"style\": \"light\"}, \"paper_bgcolor\": \"white\", \"plot_bgcolor\": \"#E5ECF6\", \"polar\": {\"angularaxis\": {\"gridcolor\": \"white\", \"linecolor\": \"white\", \"ticks\": \"\"}, \"bgcolor\": \"#E5ECF6\", \"radialaxis\": {\"gridcolor\": \"white\", \"linecolor\": \"white\", \"ticks\": \"\"}}, \"scene\": {\"xaxis\": {\"backgroundcolor\": \"#E5ECF6\", \"gridcolor\": \"white\", \"gridwidth\": 2, \"linecolor\": \"white\", \"showbackground\": true, \"ticks\": \"\", \"zerolinecolor\": \"white\"}, \"yaxis\": {\"backgroundcolor\": \"#E5ECF6\", \"gridcolor\": \"white\", \"gridwidth\": 2, \"linecolor\": \"white\", \"showbackground\": true, \"ticks\": \"\", \"zerolinecolor\": \"white\"}, \"zaxis\": {\"backgroundcolor\": \"#E5ECF6\", \"gridcolor\": \"white\", \"gridwidth\": 2, \"linecolor\": \"white\", \"showbackground\": true, \"ticks\": \"\", \"zerolinecolor\": \"white\"}}, \"shapedefaults\": {\"line\": {\"color\": \"#2a3f5f\"}}, \"ternary\": {\"aaxis\": {\"gridcolor\": \"white\", \"linecolor\": \"white\", \"ticks\": \"\"}, \"baxis\": {\"gridcolor\": \"white\", \"linecolor\": \"white\", \"ticks\": \"\"}, \"bgcolor\": \"#E5ECF6\", \"caxis\": {\"gridcolor\": \"white\", \"linecolor\": \"white\", \"ticks\": \"\"}}, \"title\": {\"x\": 0.05}, \"xaxis\": {\"automargin\": true, \"gridcolor\": \"white\", \"linecolor\": \"white\", \"ticks\": \"\", \"title\": {\"standoff\": 15}, \"zerolinecolor\": \"white\", \"zerolinewidth\": 2}, \"yaxis\": {\"automargin\": true, \"gridcolor\": \"white\", \"linecolor\": \"white\", \"ticks\": \"\", \"title\": {\"standoff\": 15}, \"zerolinecolor\": \"white\", \"zerolinewidth\": 2}}}, \"title\": {\"text\": \"Genre Breakdown by Platform\"}, \"xaxis\": {\"title\": {\"text\": \"Genre\"}}, \"yaxis\": {\"title\": {\"text\": \"Games Released\"}}},                        {\"responsive\": true}                    ).then(function(){\n",
       "                            \n",
       "var gd = document.getElementById('5ba727f4-6b50-4fec-8f33-c136cc3a4eb3');\n",
       "var x = new MutationObserver(function (mutations, observer) {{\n",
       "        var display = window.getComputedStyle(gd).display;\n",
       "        if (!display || display === 'none') {{\n",
       "            console.log([gd, 'removed!']);\n",
       "            Plotly.purge(gd);\n",
       "            observer.disconnect();\n",
       "        }}\n",
       "}});\n",
       "\n",
       "// Listen for the removal of the full notebook cells\n",
       "var notebookContainer = gd.closest('#notebook-container');\n",
       "if (notebookContainer) {{\n",
       "    x.observe(notebookContainer, {childList: true});\n",
       "}}\n",
       "\n",
       "// Listen for the clearing of the current output cell\n",
       "var outputEl = gd.closest('.output');\n",
       "if (outputEl) {{\n",
       "    x.observe(outputEl, {childList: true});\n",
       "}}\n",
       "\n",
       "                        })                };                });            </script>        </div>"
      ]
     },
     "metadata": {},
     "output_type": "display_data"
    }
   ],
   "source": [
    "#Genre Breakdown of Video Games released by Platform\n",
    "xPS41=VGS[VGS.Platform=='PS4']\n",
    "xXOne1=VGS[VGS.Platform=='XOne']\n",
    "TP11 = go.Histogram(\n",
    "    x=xPS41.Genre,\n",
    "    opacity=0.75,\n",
    "    name = \"PS4\",\n",
    "    marker=dict(color='rgb(30,144,255)'))\n",
    "TP22 = go.Histogram(\n",
    "    x=xXOne1.Genre,\n",
    "    opacity=0.75,\n",
    "    name = \"XOne\",\n",
    "    marker=dict(color='rgb(0,128,0)'))\n",
    "\n",
    "\n",
    "data=[TP11, TP22]\n",
    "\n",
    "layout = go.Layout(\n",
    "    title='Genre Breakdown by Platform',\n",
    "    xaxis=dict(\n",
    "        title='Genre'\n",
    "    ),\n",
    "    yaxis=dict(\n",
    "        title='Games Released'\n",
    "    ),\n",
    "    bargap=0.2,\n",
    "    bargroupgap=0.1, paper_bgcolor='rgb(243, 243, 243)',\n",
    "    plot_bgcolor=\"rgb(243, 243, 243)\")\n",
    "fig = go.Figure(data, layout=layout)\n",
    "iplot(fig)"
   ]
  },
  {
   "cell_type": "code",
   "execution_count": 19,
   "metadata": {},
   "outputs": [
    {
     "data": {
      "text/plain": [
       "Text(0.5, 1.0, 'Video Games Released Each Year')"
      ]
     },
     "execution_count": 19,
     "metadata": {},
     "output_type": "execute_result"
    },
    {
     "data": {
      "image/png": "[encoded data removed]",
      "text/plain": [
       "<Figure size 432x288 with 1 Axes>"
      ]
     },
     "metadata": {
      "needs_background": "light"
     },
     "output_type": "display_data"
    }
   ],
   "source": [
    "#Video Games Released Yearly as a Barchart\n",
    "YR = VGS.groupby('Year_of_Release')['Name'].count().plot(kind='bar')\n",
    "plt.ylabel('Games Released')\n",
    "plt.xlabel('Year of Release')\n",
    "plt.title('Video Games Released Each Year')\n"
   ]
  },
  {
   "cell_type": "code",
   "execution_count": 20,
   "metadata": {},
   "outputs": [
    {
     "data": {
      "application/vnd.plotly.v1+json": {
       "config": {
        "plotlyServerURL": "https://plot.ly"
       },
       "data": [
        {
         "marker": {
          "color": "crimson",
          "size": 12
         },
         "type": "scatter",
         "x": [
          2013,
          2014,
          2015,
          2016,
          2017
         ],
         "y": [
          34,
          139,
          221,
          307,
          374
         ]
        }
       ],
       "layout": {
        "template": {
         "data": {
          "bar": [
           {
            "error_x": {
             "color": "#2a3f5f"
            },
            "error_y": {
             "color": "#2a3f5f"
            },
            "marker": {
             "line": {
              "color": "#E5ECF6",
              "width": 0.5
             }
            },
            "type": "bar"
           }
          ],
          "barpolar": [
           {
            "marker": {
             "line": {
              "color": "#E5ECF6",
              "width": 0.5
             }
            },
            "type": "barpolar"
           }
          ],
          "carpet": [
           {
            "aaxis": {
             "endlinecolor": "#2a3f5f",
             "gridcolor": "white",
             "linecolor": "white",
             "minorgridcolor": "white",
             "startlinecolor": "#2a3f5f"
            },
            "baxis": {
             "endlinecolor": "#2a3f5f",
             "gridcolor": "white",
             "linecolor": "white",
             "minorgridcolor": "white",
             "startlinecolor": "#2a3f5f"
            },
            "type": "carpet"
           }
          ],
          "choropleth": [
           {
            "colorbar": {
             "outlinewidth": 0,
             "ticks": ""
            },
            "type": "choropleth"
           }
          ],
          "contour": [
           {
            "colorbar": {
             "outlinewidth": 0,
             "ticks": ""
            },
            "colorscale": [
             [
              0,
              "#0d0887"
             ],
             [
              0.1111111111111111,
              "#46039f"
             ],
             [
              0.2222222222222222,
              "#7201a8"
             ],
             [
              0.3333333333333333,
              "#9c179e"
             ],
             [
              0.4444444444444444,
              "#bd3786"
             ],
             [
              0.5555555555555556,
              "#d8576b"
             ],
             [
              0.6666666666666666,
              "#ed7953"
             ],
             [
              0.7777777777777778,
              "#fb9f3a"
             ],
             [
              0.8888888888888888,
              "#fdca26"
             ],
             [
              1,
              "#f0f921"
             ]
            ],
            "type": "contour"
           }
          ],
          "contourcarpet": [
           {
            "colorbar": {
             "outlinewidth": 0,
             "ticks": ""
            },
            "type": "contourcarpet"
           }
          ],
          "heatmap": [
           {
            "colorbar": {
             "outlinewidth": 0,
             "ticks": ""
            },
            "colorscale": [
             [
              0,
              "#0d0887"
             ],
             [
              0.1111111111111111,
              "#46039f"
             ],
             [
              0.2222222222222222,
              "#7201a8"
             ],
             [
              0.3333333333333333,
              "#9c179e"
             ],
             [
              0.4444444444444444,
              "#bd3786"
             ],
             [
              0.5555555555555556,
              "#d8576b"
             ],
             [
              0.6666666666666666,
              "#ed7953"
             ],
             [
              0.7777777777777778,
              "#fb9f3a"
             ],
             [
              0.8888888888888888,
              "#fdca26"
             ],
             [
              1,
              "#f0f921"
             ]
            ],
            "type": "heatmap"
           }
          ],
          "heatmapgl": [
           {
            "colorbar": {
             "outlinewidth": 0,
             "ticks": ""
            },
            "colorscale": [
             [
              0,
              "#0d0887"
             ],
             [
              0.1111111111111111,
              "#46039f"
             ],
             [
              0.2222222222222222,
              "#7201a8"
             ],
             [
              0.3333333333333333,
              "#9c179e"
             ],
             [
              0.4444444444444444,
              "#bd3786"
             ],
             [
              0.5555555555555556,
              "#d8576b"
             ],
             [
              0.6666666666666666,
              "#ed7953"
             ],
             [
              0.7777777777777778,
              "#fb9f3a"
             ],
             [
              0.8888888888888888,
              "#fdca26"
             ],
             [
              1,
              "#f0f921"
             ]
            ],
            "type": "heatmapgl"
           }
          ],
          "histogram": [
           {
            "marker": {
             "colorbar": {
              "outlinewidth": 0,
              "ticks": ""
             }
            },
            "type": "histogram"
           }
          ],
          "histogram2d": [
           {
            "colorbar": {
             "outlinewidth": 0,
             "ticks": ""
            },
            "colorscale": [
             [
              0,
              "#0d0887"
             ],
             [
              0.1111111111111111,
              "#46039f"
             ],
             [
              0.2222222222222222,
              "#7201a8"
             ],
             [
              0.3333333333333333,
              "#9c179e"
             ],
             [
              0.4444444444444444,
              "#bd3786"
             ],
             [
              0.5555555555555556,
              "#d8576b"
             ],
             [
              0.6666666666666666,
              "#ed7953"
             ],
             [
              0.7777777777777778,
              "#fb9f3a"
             ],
             [
              0.8888888888888888,
              "#fdca26"
             ],
             [
              1,
              "#f0f921"
             ]
            ],
            "type": "histogram2d"
           }
          ],
          "histogram2dcontour": [
           {
            "colorbar": {
             "outlinewidth": 0,
             "ticks": ""
            },
            "colorscale": [
             [
              0,
              "#0d0887"
             ],
             [
              0.1111111111111111,
              "#46039f"
             ],
             [
              0.2222222222222222,
              "#7201a8"
             ],
             [
              0.3333333333333333,
              "#9c179e"
             ],
             [
              0.4444444444444444,
              "#bd3786"
             ],
             [
              0.5555555555555556,
              "#d8576b"
             ],
             [
              0.6666666666666666,
              "#ed7953"
             ],
             [
              0.7777777777777778,
              "#fb9f3a"
             ],
             [
              0.8888888888888888,
              "#fdca26"
             ],
             [
              1,
              "#f0f921"
             ]
            ],
            "type": "histogram2dcontour"
           }
          ],
          "mesh3d": [
           {
            "colorbar": {
             "outlinewidth": 0,
             "ticks": ""
            },
            "type": "mesh3d"
           }
          ],
          "parcoords": [
           {
            "line": {
             "colorbar": {
              "outlinewidth": 0,
              "ticks": ""
             }
            },
            "type": "parcoords"
           }
          ],
          "pie": [
           {
            "automargin": true,
            "type": "pie"
           }
          ],
          "scatter": [
           {
            "marker": {
             "colorbar": {
              "outlinewidth": 0,
              "ticks": ""
             }
            },
            "type": "scatter"
           }
          ],
          "scatter3d": [
           {
            "line": {
             "colorbar": {
              "outlinewidth": 0,
              "ticks": ""
             }
            },
            "marker": {
             "colorbar": {
              "outlinewidth": 0,
              "ticks": ""
             }
            },
            "type": "scatter3d"
           }
          ],
          "scattercarpet": [
           {
            "marker": {
             "colorbar": {
              "outlinewidth": 0,
              "ticks": ""
             }
            },
            "type": "scattercarpet"
           }
          ],
          "scattergeo": [
           {
            "marker": {
             "colorbar": {
              "outlinewidth": 0,
              "ticks": ""
             }
            },
            "type": "scattergeo"
           }
          ],
          "scattergl": [
           {
            "marker": {
             "colorbar": {
              "outlinewidth": 0,
              "ticks": ""
             }
            },
            "type": "scattergl"
           }
          ],
          "scattermapbox": [
           {
            "marker": {
             "colorbar": {
              "outlinewidth": 0,
              "ticks": ""
             }
            },
            "type": "scattermapbox"
           }
          ],
          "scatterpolar": [
           {
            "marker": {
             "colorbar": {
              "outlinewidth": 0,
              "ticks": ""
             }
            },
            "type": "scatterpolar"
           }
          ],
          "scatterpolargl": [
           {
            "marker": {
             "colorbar": {
              "outlinewidth": 0,
              "ticks": ""
             }
            },
            "type": "scatterpolargl"
           }
          ],
          "scatterternary": [
           {
            "marker": {
             "colorbar": {
              "outlinewidth": 0,
              "ticks": ""
             }
            },
            "type": "scatterternary"
           }
          ],
          "surface": [
           {
            "colorbar": {
             "outlinewidth": 0,
             "ticks": ""
            },
            "colorscale": [
             [
              0,
              "#0d0887"
             ],
             [
              0.1111111111111111,
              "#46039f"
             ],
             [
              0.2222222222222222,
              "#7201a8"
             ],
             [
              0.3333333333333333,
              "#9c179e"
             ],
             [
              0.4444444444444444,
              "#bd3786"
             ],
             [
              0.5555555555555556,
              "#d8576b"
             ],
             [
              0.6666666666666666,
              "#ed7953"
             ],
             [
              0.7777777777777778,
              "#fb9f3a"
             ],
             [
              0.8888888888888888,
              "#fdca26"
             ],
             [
              1,
              "#f0f921"
             ]
            ],
            "type": "surface"
           }
          ],
          "table": [
           {
            "cells": {
             "fill": {
              "color": "#EBF0F8"
             },
             "line": {
              "color": "white"
             }
            },
            "header": {
             "fill": {
              "color": "#C8D4E3"
             },
             "line": {
              "color": "white"
             }
            },
            "type": "table"
           }
          ]
         },
         "layout": {
          "annotationdefaults": {
           "arrowcolor": "#2a3f5f",
           "arrowhead": 0,
           "arrowwidth": 1
          },
          "coloraxis": {
           "colorbar": {
            "outlinewidth": 0,
            "ticks": ""
           }
          },
          "colorscale": {
           "diverging": [
            [
             0,
             "#8e0152"
            ],
            [
             0.1,
             "#c51b7d"
            ],
            [
             0.2,
             "#de77ae"
            ],
            [
             0.3,
             "#f1b6da"
            ],
            [
             0.4,
             "#fde0ef"
            ],
            [
             0.5,
             "#f7f7f7"
            ],
            [
             0.6,
             "#e6f5d0"
            ],
            [
             0.7,
             "#b8e186"
            ],
            [
             0.8,
             "#7fbc41"
            ],
            [
             0.9,
             "#4d9221"
            ],
            [
             1,
             "#276419"
            ]
           ],
           "sequential": [
            [
             0,
             "#0d0887"
            ],
            [
             0.1111111111111111,
             "#46039f"
            ],
            [
             0.2222222222222222,
             "#7201a8"
            ],
            [
             0.3333333333333333,
             "#9c179e"
            ],
            [
             0.4444444444444444,
             "#bd3786"
            ],
            [
             0.5555555555555556,
             "#d8576b"
            ],
            [
             0.6666666666666666,
             "#ed7953"
            ],
            [
             0.7777777777777778,
             "#fb9f3a"
            ],
            [
             0.8888888888888888,
             "#fdca26"
            ],
            [
             1,
             "#f0f921"
            ]
           ],
           "sequentialminus": [
            [
             0,
             "#0d0887"
            ],
            [
             0.1111111111111111,
             "#46039f"
            ],
            [
             0.2222222222222222,
             "#7201a8"
            ],
            [
             0.3333333333333333,
             "#9c179e"
            ],
            [
             0.4444444444444444,
             "#bd3786"
            ],
            [
             0.5555555555555556,
             "#d8576b"
            ],
            [
             0.6666666666666666,
             "#ed7953"
            ],
            [
             0.7777777777777778,
             "#fb9f3a"
            ],
            [
             0.8888888888888888,
             "#fdca26"
            ],
            [
             1,
             "#f0f921"
            ]
           ]
          },
          "colorway": [
           "#636efa",
           "#EF553B",
           "#00cc96",
           "#ab63fa",
           "#FFA15A",
           "#19d3f3",
           "#FF6692",
           "#B6E880",
           "#FF97FF",
           "#FECB52"
          ],
          "font": {
           "color": "#2a3f5f"
          },
          "geo": {
           "bgcolor": "white",
           "lakecolor": "white",
           "landcolor": "#E5ECF6",
           "showlakes": true,
           "showland": true,
           "subunitcolor": "white"
          },
          "hoverlabel": {
           "align": "left"
          },
          "hovermode": "closest",
          "mapbox": {
           "style": "light"
          },
          "paper_bgcolor": "white",
          "plot_bgcolor": "#E5ECF6",
          "polar": {
           "angularaxis": {
            "gridcolor": "white",
            "linecolor": "white",
            "ticks": ""
           },
           "bgcolor": "#E5ECF6",
           "radialaxis": {
            "gridcolor": "white",
            "linecolor": "white",
            "ticks": ""
           }
          },
          "scene": {
           "xaxis": {
            "backgroundcolor": "#E5ECF6",
            "gridcolor": "white",
            "gridwidth": 2,
            "linecolor": "white",
            "showbackground": true,
            "ticks": "",
            "zerolinecolor": "white"
           },
           "yaxis": {
            "backgroundcolor": "#E5ECF6",
            "gridcolor": "white",
            "gridwidth": 2,
            "linecolor": "white",
            "showbackground": true,
            "ticks": "",
            "zerolinecolor": "white"
           },
           "zaxis": {
            "backgroundcolor": "#E5ECF6",
            "gridcolor": "white",
            "gridwidth": 2,
            "linecolor": "white",
            "showbackground": true,
            "ticks": "",
            "zerolinecolor": "white"
           }
          },
          "shapedefaults": {
           "line": {
            "color": "#2a3f5f"
           }
          },
          "ternary": {
           "aaxis": {
            "gridcolor": "white",
            "linecolor": "white",
            "ticks": ""
           },
           "baxis": {
            "gridcolor": "white",
            "linecolor": "white",
            "ticks": ""
           },
           "bgcolor": "#E5ECF6",
           "caxis": {
            "gridcolor": "white",
            "linecolor": "white",
            "ticks": ""
           }
          },
          "title": {
           "x": 0.05
          },
          "xaxis": {
           "automargin": true,
           "gridcolor": "white",
           "linecolor": "white",
           "ticks": "",
           "title": {
            "standoff": 15
           },
           "zerolinecolor": "white",
           "zerolinewidth": 2
          },
          "yaxis": {
           "automargin": true,
           "gridcolor": "white",
           "linecolor": "white",
           "ticks": "",
           "title": {
            "standoff": 15
           },
           "zerolinecolor": "white",
           "zerolinewidth": 2
          }
         }
        },
        "title": {
         "text": "Video Games Released Each Year"
        },
        "xaxis": {
         "title": {
          "text": "Year of Release"
         }
        },
        "yaxis": {
         "title": {
          "text": "Games Released"
         }
        }
       }
      },
      "text/html": [
       "<div>                            <div id=\"361c0e97-4326-4aa5-b024-e7adba8ed162\" class=\"plotly-graph-div\" style=\"height:525px; width:100%;\"></div>            <script type=\"text/javascript\">                require([\"plotly\"], function(Plotly) {                    window.PLOTLYENV=window.PLOTLYENV || {};                                    if (document.getElementById(\"361c0e97-4326-4aa5-b024-e7adba8ed162\")) {                    Plotly.newPlot(                        \"361c0e97-4326-4aa5-b024-e7adba8ed162\",                        [{\"marker\": {\"color\": \"crimson\", \"size\": 12}, \"type\": \"scatter\", \"x\": [2013, 2014, 2015, 2016, 2017], \"y\": [34, 139, 221, 307, 374]}],                        {\"template\": {\"data\": {\"bar\": [{\"error_x\": {\"color\": \"#2a3f5f\"}, \"error_y\": {\"color\": \"#2a3f5f\"}, \"marker\": {\"line\": {\"color\": \"#E5ECF6\", \"width\": 0.5}}, \"type\": \"bar\"}], \"barpolar\": [{\"marker\": {\"line\": {\"color\": \"#E5ECF6\", \"width\": 0.5}}, \"type\": \"barpolar\"}], \"carpet\": [{\"aaxis\": {\"endlinecolor\": \"#2a3f5f\", \"gridcolor\": \"white\", \"linecolor\": \"white\", \"minorgridcolor\": \"white\", \"startlinecolor\": \"#2a3f5f\"}, \"baxis\": {\"endlinecolor\": \"#2a3f5f\", \"gridcolor\": \"white\", \"linecolor\": \"white\", \"minorgridcolor\": \"white\", \"startlinecolor\": \"#2a3f5f\"}, \"type\": \"carpet\"}], \"choropleth\": [{\"colorbar\": {\"outlinewidth\": 0, \"ticks\": \"\"}, \"type\": \"choropleth\"}], \"contour\": [{\"colorbar\": {\"outlinewidth\": 0, \"ticks\": \"\"}, \"colorscale\": [[0.0, \"#0d0887\"], [0.1111111111111111, \"#46039f\"], [0.2222222222222222, \"#7201a8\"], [0.3333333333333333, \"#9c179e\"], [0.4444444444444444, \"#bd3786\"], [0.5555555555555556, \"#d8576b\"], [0.6666666666666666, \"#ed7953\"], [0.7777777777777778, \"#fb9f3a\"], [0.8888888888888888, \"#fdca26\"], [1.0, \"#f0f921\"]], \"type\": \"contour\"}], \"contourcarpet\": [{\"colorbar\": {\"outlinewidth\": 0, \"ticks\": \"\"}, \"type\": \"contourcarpet\"}], \"heatmap\": [{\"colorbar\": {\"outlinewidth\": 0, \"ticks\": \"\"}, \"colorscale\": [[0.0, \"#0d0887\"], [0.1111111111111111, \"#46039f\"], [0.2222222222222222, \"#7201a8\"], [0.3333333333333333, \"#9c179e\"], [0.4444444444444444, \"#bd3786\"], [0.5555555555555556, \"#d8576b\"], [0.6666666666666666, \"#ed7953\"], [0.7777777777777778, \"#fb9f3a\"], [0.8888888888888888, \"#fdca26\"], [1.0, \"#f0f921\"]], \"type\": \"heatmap\"}], \"heatmapgl\": [{\"colorbar\": {\"outlinewidth\": 0, \"ticks\": \"\"}, \"colorscale\": [[0.0, \"#0d0887\"], [0.1111111111111111, \"#46039f\"], [0.2222222222222222, \"#7201a8\"], [0.3333333333333333, \"#9c179e\"], [0.4444444444444444, \"#bd3786\"], [0.5555555555555556, \"#d8576b\"], [0.6666666666666666, \"#ed7953\"], [0.7777777777777778, \"#fb9f3a\"], [0.8888888888888888, \"#fdca26\"], [1.0, \"#f0f921\"]], \"type\": \"heatmapgl\"}], \"histogram\": [{\"marker\": {\"colorbar\": {\"outlinewidth\": 0, \"ticks\": \"\"}}, \"type\": \"histogram\"}], \"histogram2d\": [{\"colorbar\": {\"outlinewidth\": 0, \"ticks\": \"\"}, \"colorscale\": [[0.0, \"#0d0887\"], [0.1111111111111111, \"#46039f\"], [0.2222222222222222, \"#7201a8\"], [0.3333333333333333, \"#9c179e\"], [0.4444444444444444, \"#bd3786\"], [0.5555555555555556, \"#d8576b\"], [0.6666666666666666, \"#ed7953\"], [0.7777777777777778, \"#fb9f3a\"], [0.8888888888888888, \"#fdca26\"], [1.0, \"#f0f921\"]], \"type\": \"histogram2d\"}], \"histogram2dcontour\": [{\"colorbar\": {\"outlinewidth\": 0, \"ticks\": \"\"}, \"colorscale\": [[0.0, \"#0d0887\"], [0.1111111111111111, \"#46039f\"], [0.2222222222222222, \"#7201a8\"], [0.3333333333333333, \"#9c179e\"], [0.4444444444444444, \"#bd3786\"], [0.5555555555555556, \"#d8576b\"], [0.6666666666666666, \"#ed7953\"], [0.7777777777777778, \"#fb9f3a\"], [0.8888888888888888, \"#fdca26\"], [1.0, \"#f0f921\"]], \"type\": \"histogram2dcontour\"}], \"mesh3d\": [{\"colorbar\": {\"outlinewidth\": 0, \"ticks\": \"\"}, \"type\": \"mesh3d\"}], \"parcoords\": [{\"line\": {\"colorbar\": {\"outlinewidth\": 0, \"ticks\": \"\"}}, \"type\": \"parcoords\"}], \"pie\": [{\"automargin\": true, \"type\": \"pie\"}], \"scatter\": [{\"marker\": {\"colorbar\": {\"outlinewidth\": 0, \"ticks\": \"\"}}, \"type\": \"scatter\"}], \"scatter3d\": [{\"line\": {\"colorbar\": {\"outlinewidth\": 0, \"ticks\": \"\"}}, \"marker\": {\"colorbar\": {\"outlinewidth\": 0, \"ticks\": \"\"}}, \"type\": \"scatter3d\"}], \"scattercarpet\": [{\"marker\": {\"colorbar\": {\"outlinewidth\": 0, \"ticks\": \"\"}}, \"type\": \"scattercarpet\"}], \"scattergeo\": [{\"marker\": {\"colorbar\": {\"outlinewidth\": 0, \"ticks\": \"\"}}, \"type\": \"scattergeo\"}], \"scattergl\": [{\"marker\": {\"colorbar\": {\"outlinewidth\": 0, \"ticks\": \"\"}}, \"type\": \"scattergl\"}], \"scattermapbox\": [{\"marker\": {\"colorbar\": {\"outlinewidth\": 0, \"ticks\": \"\"}}, \"type\": \"scattermapbox\"}], \"scatterpolar\": [{\"marker\": {\"colorbar\": {\"outlinewidth\": 0, \"ticks\": \"\"}}, \"type\": \"scatterpolar\"}], \"scatterpolargl\": [{\"marker\": {\"colorbar\": {\"outlinewidth\": 0, \"ticks\": \"\"}}, \"type\": \"scatterpolargl\"}], \"scatterternary\": [{\"marker\": {\"colorbar\": {\"outlinewidth\": 0, \"ticks\": \"\"}}, \"type\": \"scatterternary\"}], \"surface\": [{\"colorbar\": {\"outlinewidth\": 0, \"ticks\": \"\"}, \"colorscale\": [[0.0, \"#0d0887\"], [0.1111111111111111, \"#46039f\"], [0.2222222222222222, \"#7201a8\"], [0.3333333333333333, \"#9c179e\"], [0.4444444444444444, \"#bd3786\"], [0.5555555555555556, \"#d8576b\"], [0.6666666666666666, \"#ed7953\"], [0.7777777777777778, \"#fb9f3a\"], [0.8888888888888888, \"#fdca26\"], [1.0, \"#f0f921\"]], \"type\": \"surface\"}], \"table\": [{\"cells\": {\"fill\": {\"color\": \"#EBF0F8\"}, \"line\": {\"color\": \"white\"}}, \"header\": {\"fill\": {\"color\": \"#C8D4E3\"}, \"line\": {\"color\": \"white\"}}, \"type\": \"table\"}]}, \"layout\": {\"annotationdefaults\": {\"arrowcolor\": \"#2a3f5f\", \"arrowhead\": 0, \"arrowwidth\": 1}, \"coloraxis\": {\"colorbar\": {\"outlinewidth\": 0, \"ticks\": \"\"}}, \"colorscale\": {\"diverging\": [[0, \"#8e0152\"], [0.1, \"#c51b7d\"], [0.2, \"#de77ae\"], [0.3, \"#f1b6da\"], [0.4, \"#fde0ef\"], [0.5, \"#f7f7f7\"], [0.6, \"#e6f5d0\"], [0.7, \"#b8e186\"], [0.8, \"#7fbc41\"], [0.9, \"#4d9221\"], [1, \"#276419\"]], \"sequential\": [[0.0, \"#0d0887\"], [0.1111111111111111, \"#46039f\"], [0.2222222222222222, \"#7201a8\"], [0.3333333333333333, \"#9c179e\"], [0.4444444444444444, \"#bd3786\"], [0.5555555555555556, \"#d8576b\"], [0.6666666666666666, \"#ed7953\"], [0.7777777777777778, \"#fb9f3a\"], [0.8888888888888888, \"#fdca26\"], [1.0, \"#f0f921\"]], \"sequentialminus\": [[0.0, \"#0d0887\"], [0.1111111111111111, \"#46039f\"], [0.2222222222222222, \"#7201a8\"], [0.3333333333333333, \"#9c179e\"], [0.4444444444444444, \"#bd3786\"], [0.5555555555555556, \"#d8576b\"], [0.6666666666666666, \"#ed7953\"], [0.7777777777777778, \"#fb9f3a\"], [0.8888888888888888, \"#fdca26\"], [1.0, \"#f0f921\"]]}, \"colorway\": [\"#636efa\", \"#EF553B\", \"#00cc96\", \"#ab63fa\", \"#FFA15A\", \"#19d3f3\", \"#FF6692\", \"#B6E880\", \"#FF97FF\", \"#FECB52\"], \"font\": {\"color\": \"#2a3f5f\"}, \"geo\": {\"bgcolor\": \"white\", \"lakecolor\": \"white\", \"landcolor\": \"#E5ECF6\", \"showlakes\": true, \"showland\": true, \"subunitcolor\": \"white\"}, \"hoverlabel\": {\"align\": \"left\"}, \"hovermode\": \"closest\", \"mapbox\": {\"style\": \"light\"}, \"paper_bgcolor\": \"white\", \"plot_bgcolor\": \"#E5ECF6\", \"polar\": {\"angularaxis\": {\"gridcolor\": \"white\", \"linecolor\": \"white\", \"ticks\": \"\"}, \"bgcolor\": \"#E5ECF6\", \"radialaxis\": {\"gridcolor\": \"white\", \"linecolor\": \"white\", \"ticks\": \"\"}}, \"scene\": {\"xaxis\": {\"backgroundcolor\": \"#E5ECF6\", \"gridcolor\": \"white\", \"gridwidth\": 2, \"linecolor\": \"white\", \"showbackground\": true, \"ticks\": \"\", \"zerolinecolor\": \"white\"}, \"yaxis\": {\"backgroundcolor\": \"#E5ECF6\", \"gridcolor\": \"white\", \"gridwidth\": 2, \"linecolor\": \"white\", \"showbackground\": true, \"ticks\": \"\", \"zerolinecolor\": \"white\"}, \"zaxis\": {\"backgroundcolor\": \"#E5ECF6\", \"gridcolor\": \"white\", \"gridwidth\": 2, \"linecolor\": \"white\", \"showbackground\": true, \"ticks\": \"\", \"zerolinecolor\": \"white\"}}, \"shapedefaults\": {\"line\": {\"color\": \"#2a3f5f\"}}, \"ternary\": {\"aaxis\": {\"gridcolor\": \"white\", \"linecolor\": \"white\", \"ticks\": \"\"}, \"baxis\": {\"gridcolor\": \"white\", \"linecolor\": \"white\", \"ticks\": \"\"}, \"bgcolor\": \"#E5ECF6\", \"caxis\": {\"gridcolor\": \"white\", \"linecolor\": \"white\", \"ticks\": \"\"}}, \"title\": {\"x\": 0.05}, \"xaxis\": {\"automargin\": true, \"gridcolor\": \"white\", \"linecolor\": \"white\", \"ticks\": \"\", \"title\": {\"standoff\": 15}, \"zerolinecolor\": \"white\", \"zerolinewidth\": 2}, \"yaxis\": {\"automargin\": true, \"gridcolor\": \"white\", \"linecolor\": \"white\", \"ticks\": \"\", \"title\": {\"standoff\": 15}, \"zerolinecolor\": \"white\", \"zerolinewidth\": 2}}}, \"title\": {\"text\": \"Video Games Released Each Year\"}, \"xaxis\": {\"title\": {\"text\": \"Year of Release\"}}, \"yaxis\": {\"title\": {\"text\": \"Games Released\"}}},                        {\"responsive\": true}                    ).then(function(){\n",
       "                            \n",
       "var gd = document.getElementById('361c0e97-4326-4aa5-b024-e7adba8ed162');\n",
       "var x = new MutationObserver(function (mutations, observer) {{\n",
       "        var display = window.getComputedStyle(gd).display;\n",
       "        if (!display || display === 'none') {{\n",
       "            console.log([gd, 'removed!']);\n",
       "            Plotly.purge(gd);\n",
       "            observer.disconnect();\n",
       "        }}\n",
       "}});\n",
       "\n",
       "// Listen for the removal of the full notebook cells\n",
       "var notebookContainer = gd.closest('#notebook-container');\n",
       "if (notebookContainer) {{\n",
       "    x.observe(notebookContainer, {childList: true});\n",
       "}}\n",
       "\n",
       "// Listen for the clearing of the current output cell\n",
       "var outputEl = gd.closest('.output');\n",
       "if (outputEl) {{\n",
       "    x.observe(outputEl, {childList: true});\n",
       "}}\n",
       "\n",
       "                        })                };                });            </script>        </div>"
      ]
     },
     "metadata": {},
     "output_type": "display_data"
    }
   ],
   "source": [
    "#Video Games Released Yearly as a Line Graph\n",
    "\n",
    "fig = go.Figure()\n",
    "fig.add_trace(go.Scatter(\n",
    "    x=[2013, 2014, 2015, 2016, 2017],\n",
    "    y= VGS.groupby('Year_of_Release')['Name'].count(),\n",
    "    marker=dict(color=\"crimson\", size=12)\n",
    "))\n",
    "\n",
    "fig.update_layout(title=\"Video Games Released Each Year\",\n",
    "                  xaxis_title='Year of Release',\n",
    "                  yaxis_title='Games Released')\n",
    "\n",
    "fig.show()"
   ]
  },
  {
   "cell_type": "code",
   "execution_count": 21,
   "metadata": {},
   "outputs": [
    {
     "data": {
      "text/plain": [
       "Text(0.5, 1.0, 'Video Game Sales Each Year')"
      ]
     },
     "execution_count": 21,
     "metadata": {},
     "output_type": "execute_result"
    },
    {
     "data": {
      "image/png": "[encoded data removed]",
      "text/plain": [
       "<Figure size 432x288 with 1 Axes>"
      ]
     },
     "metadata": {
      "needs_background": "light"
     },
     "output_type": "display_data"
    }
   ],
   "source": [
    "#Video Games Sales Yearly as a Barchart\n",
    "YR = VGS.groupby('Year_of_Release')['Global_Sales'].sum().plot(kind='bar')\n",
    "plt.ylabel('Global_Sales')\n",
    "plt.xlabel('Year of Release')\n",
    "plt.title('Video Game Sales Each Year')\n"
   ]
  },
  {
   "cell_type": "code",
   "execution_count": 22,
   "metadata": {},
   "outputs": [
    {
     "data": {
      "application/vnd.plotly.v1+json": {
       "config": {
        "plotlyServerURL": "https://plot.ly"
       },
       "data": [
        {
         "marker": {
          "color": "green",
          "size": 12
         },
         "mode": "markers",
         "type": "scatter",
         "x": [
          2013,
          2014,
          2015,
          2016,
          2017
         ],
         "y": [
          48.789999999999985,
          177.96999999999997,
          202.60000000000014,
          193.0900000000002,
          179.41000000000017
         ]
        }
       ],
       "layout": {
        "template": {
         "data": {
          "bar": [
           {
            "error_x": {
             "color": "#2a3f5f"
            },
            "error_y": {
             "color": "#2a3f5f"
            },
            "marker": {
             "line": {
              "color": "#E5ECF6",
              "width": 0.5
             }
            },
            "type": "bar"
           }
          ],
          "barpolar": [
           {
            "marker": {
             "line": {
              "color": "#E5ECF6",
              "width": 0.5
             }
            },
            "type": "barpolar"
           }
          ],
          "carpet": [
           {
            "aaxis": {
             "endlinecolor": "#2a3f5f",
             "gridcolor": "white",
             "linecolor": "white",
             "minorgridcolor": "white",
             "startlinecolor": "#2a3f5f"
            },
            "baxis": {
             "endlinecolor": "#2a3f5f",
             "gridcolor": "white",
             "linecolor": "white",
             "minorgridcolor": "white",
             "startlinecolor": "#2a3f5f"
            },
            "type": "carpet"
           }
          ],
          "choropleth": [
           {
            "colorbar": {
             "outlinewidth": 0,
             "ticks": ""
            },
            "type": "choropleth"
           }
          ],
          "contour": [
           {
            "colorbar": {
             "outlinewidth": 0,
             "ticks": ""
            },
            "colorscale": [
             [
              0,
              "#0d0887"
             ],
             [
              0.1111111111111111,
              "#46039f"
             ],
             [
              0.2222222222222222,
              "#7201a8"
             ],
             [
              0.3333333333333333,
              "#9c179e"
             ],
             [
              0.4444444444444444,
              "#bd3786"
             ],
             [
              0.5555555555555556,
              "#d8576b"
             ],
             [
              0.6666666666666666,
              "#ed7953"
             ],
             [
              0.7777777777777778,
              "#fb9f3a"
             ],
             [
              0.8888888888888888,
              "#fdca26"
             ],
             [
              1,
              "#f0f921"
             ]
            ],
            "type": "contour"
           }
          ],
          "contourcarpet": [
           {
            "colorbar": {
             "outlinewidth": 0,
             "ticks": ""
            },
            "type": "contourcarpet"
           }
          ],
          "heatmap": [
           {
            "colorbar": {
             "outlinewidth": 0,
             "ticks": ""
            },
            "colorscale": [
             [
              0,
              "#0d0887"
             ],
             [
              0.1111111111111111,
              "#46039f"
             ],
             [
              0.2222222222222222,
              "#7201a8"
             ],
             [
              0.3333333333333333,
              "#9c179e"
             ],
             [
              0.4444444444444444,
              "#bd3786"
             ],
             [
              0.5555555555555556,
              "#d8576b"
             ],
             [
              0.6666666666666666,
              "#ed7953"
             ],
             [
              0.7777777777777778,
              "#fb9f3a"
             ],
             [
              0.8888888888888888,
              "#fdca26"
             ],
             [
              1,
              "#f0f921"
             ]
            ],
            "type": "heatmap"
           }
          ],
          "heatmapgl": [
           {
            "colorbar": {
             "outlinewidth": 0,
             "ticks": ""
            },
            "colorscale": [
             [
              0,
              "#0d0887"
             ],
             [
              0.1111111111111111,
              "#46039f"
             ],
             [
              0.2222222222222222,
              "#7201a8"
             ],
             [
              0.3333333333333333,
              "#9c179e"
             ],
             [
              0.4444444444444444,
              "#bd3786"
             ],
             [
              0.5555555555555556,
              "#d8576b"
             ],
             [
              0.6666666666666666,
              "#ed7953"
             ],
             [
              0.7777777777777778,
              "#fb9f3a"
             ],
             [
              0.8888888888888888,
              "#fdca26"
             ],
             [
              1,
              "#f0f921"
             ]
            ],
            "type": "heatmapgl"
           }
          ],
          "histogram": [
           {
            "marker": {
             "colorbar": {
              "outlinewidth": 0,
              "ticks": ""
             }
            },
            "type": "histogram"
           }
          ],
          "histogram2d": [
           {
            "colorbar": {
             "outlinewidth": 0,
             "ticks": ""
            },
            "colorscale": [
             [
              0,
              "#0d0887"
             ],
             [
              0.1111111111111111,
              "#46039f"
             ],
             [
              0.2222222222222222,
              "#7201a8"
             ],
             [
              0.3333333333333333,
              "#9c179e"
             ],
             [
              0.4444444444444444,
              "#bd3786"
             ],
             [
              0.5555555555555556,
              "#d8576b"
             ],
             [
              0.6666666666666666,
              "#ed7953"
             ],
             [
              0.7777777777777778,
              "#fb9f3a"
             ],
             [
              0.8888888888888888,
              "#fdca26"
             ],
             [
              1,
              "#f0f921"
             ]
            ],
            "type": "histogram2d"
           }
          ],
          "histogram2dcontour": [
           {
            "colorbar": {
             "outlinewidth": 0,
             "ticks": ""
            },
            "colorscale": [
             [
              0,
              "#0d0887"
             ],
             [
              0.1111111111111111,
              "#46039f"
             ],
             [
              0.2222222222222222,
              "#7201a8"
             ],
             [
              0.3333333333333333,
              "#9c179e"
             ],
             [
              0.4444444444444444,
              "#bd3786"
             ],
             [
              0.5555555555555556,
              "#d8576b"
             ],
             [
              0.6666666666666666,
              "#ed7953"
             ],
             [
              0.7777777777777778,
              "#fb9f3a"
             ],
             [
              0.8888888888888888,
              "#fdca26"
             ],
             [
              1,
              "#f0f921"
             ]
            ],
            "type": "histogram2dcontour"
           }
          ],
          "mesh3d": [
           {
            "colorbar": {
             "outlinewidth": 0,
             "ticks": ""
            },
            "type": "mesh3d"
           }
          ],
          "parcoords": [
           {
            "line": {
             "colorbar": {
              "outlinewidth": 0,
              "ticks": ""
             }
            },
            "type": "parcoords"
           }
          ],
          "pie": [
           {
            "automargin": true,
            "type": "pie"
           }
          ],
          "scatter": [
           {
            "marker": {
             "colorbar": {
              "outlinewidth": 0,
              "ticks": ""
             }
            },
            "type": "scatter"
           }
          ],
          "scatter3d": [
           {
            "line": {
             "colorbar": {
              "outlinewidth": 0,
              "ticks": ""
             }
            },
            "marker": {
             "colorbar": {
              "outlinewidth": 0,
              "ticks": ""
             }
            },
            "type": "scatter3d"
           }
          ],
          "scattercarpet": [
           {
            "marker": {
             "colorbar": {
              "outlinewidth": 0,
              "ticks": ""
             }
            },
            "type": "scattercarpet"
           }
          ],
          "scattergeo": [
           {
            "marker": {
             "colorbar": {
              "outlinewidth": 0,
              "ticks": ""
             }
            },
            "type": "scattergeo"
           }
          ],
          "scattergl": [
           {
            "marker": {
             "colorbar": {
              "outlinewidth": 0,
              "ticks": ""
             }
            },
            "type": "scattergl"
           }
          ],
          "scattermapbox": [
           {
            "marker": {
             "colorbar": {
              "outlinewidth": 0,
              "ticks": ""
             }
            },
            "type": "scattermapbox"
           }
          ],
          "scatterpolar": [
           {
            "marker": {
             "colorbar": {
              "outlinewidth": 0,
              "ticks": ""
             }
            },
            "type": "scatterpolar"
           }
          ],
          "scatterpolargl": [
           {
            "marker": {
             "colorbar": {
              "outlinewidth": 0,
              "ticks": ""
             }
            },
            "type": "scatterpolargl"
           }
          ],
          "scatterternary": [
           {
            "marker": {
             "colorbar": {
              "outlinewidth": 0,
              "ticks": ""
             }
            },
            "type": "scatterternary"
           }
          ],
          "surface": [
           {
            "colorbar": {
             "outlinewidth": 0,
             "ticks": ""
            },
            "colorscale": [
             [
              0,
              "#0d0887"
             ],
             [
              0.1111111111111111,
              "#46039f"
             ],
             [
              0.2222222222222222,
              "#7201a8"
             ],
             [
              0.3333333333333333,
              "#9c179e"
             ],
             [
              0.4444444444444444,
              "#bd3786"
             ],
             [
              0.5555555555555556,
              "#d8576b"
             ],
             [
              0.6666666666666666,
              "#ed7953"
             ],
             [
              0.7777777777777778,
              "#fb9f3a"
             ],
             [
              0.8888888888888888,
              "#fdca26"
             ],
             [
              1,
              "#f0f921"
             ]
            ],
            "type": "surface"
           }
          ],
          "table": [
           {
            "cells": {
             "fill": {
              "color": "#EBF0F8"
             },
             "line": {
              "color": "white"
             }
            },
            "header": {
             "fill": {
              "color": "#C8D4E3"
             },
             "line": {
              "color": "white"
             }
            },
            "type": "table"
           }
          ]
         },
         "layout": {
          "annotationdefaults": {
           "arrowcolor": "#2a3f5f",
           "arrowhead": 0,
           "arrowwidth": 1
          },
          "coloraxis": {
           "colorbar": {
            "outlinewidth": 0,
            "ticks": ""
           }
          },
          "colorscale": {
           "diverging": [
            [
             0,
             "#8e0152"
            ],
            [
             0.1,
             "#c51b7d"
            ],
            [
             0.2,
             "#de77ae"
            ],
            [
             0.3,
             "#f1b6da"
            ],
            [
             0.4,
             "#fde0ef"
            ],
            [
             0.5,
             "#f7f7f7"
            ],
            [
             0.6,
             "#e6f5d0"
            ],
            [
             0.7,
             "#b8e186"
            ],
            [
             0.8,
             "#7fbc41"
            ],
            [
             0.9,
             "#4d9221"
            ],
            [
             1,
             "#276419"
            ]
           ],
           "sequential": [
            [
             0,
             "#0d0887"
            ],
            [
             0.1111111111111111,
             "#46039f"
            ],
            [
             0.2222222222222222,
             "#7201a8"
            ],
            [
             0.3333333333333333,
             "#9c179e"
            ],
            [
             0.4444444444444444,
             "#bd3786"
            ],
            [
             0.5555555555555556,
             "#d8576b"
            ],
            [
             0.6666666666666666,
             "#ed7953"
            ],
            [
             0.7777777777777778,
             "#fb9f3a"
            ],
            [
             0.8888888888888888,
             "#fdca26"
            ],
            [
             1,
             "#f0f921"
            ]
           ],
           "sequentialminus": [
            [
             0,
             "#0d0887"
            ],
            [
             0.1111111111111111,
             "#46039f"
            ],
            [
             0.2222222222222222,
             "#7201a8"
            ],
            [
             0.3333333333333333,
             "#9c179e"
            ],
            [
             0.4444444444444444,
             "#bd3786"
            ],
            [
             0.5555555555555556,
             "#d8576b"
            ],
            [
             0.6666666666666666,
             "#ed7953"
            ],
            [
             0.7777777777777778,
             "#fb9f3a"
            ],
            [
             0.8888888888888888,
             "#fdca26"
            ],
            [
             1,
             "#f0f921"
            ]
           ]
          },
          "colorway": [
           "#636efa",
           "#EF553B",
           "#00cc96",
           "#ab63fa",
           "#FFA15A",
           "#19d3f3",
           "#FF6692",
           "#B6E880",
           "#FF97FF",
           "#FECB52"
          ],
          "font": {
           "color": "#2a3f5f"
          },
          "geo": {
           "bgcolor": "white",
           "lakecolor": "white",
           "landcolor": "#E5ECF6",
           "showlakes": true,
           "showland": true,
           "subunitcolor": "white"
          },
          "hoverlabel": {
           "align": "left"
          },
          "hovermode": "closest",
          "mapbox": {
           "style": "light"
          },
          "paper_bgcolor": "white",
          "plot_bgcolor": "#E5ECF6",
          "polar": {
           "angularaxis": {
            "gridcolor": "white",
            "linecolor": "white",
            "ticks": ""
           },
           "bgcolor": "#E5ECF6",
           "radialaxis": {
            "gridcolor": "white",
            "linecolor": "white",
            "ticks": ""
           }
          },
          "scene": {
           "xaxis": {
            "backgroundcolor": "#E5ECF6",
            "gridcolor": "white",
            "gridwidth": 2,
            "linecolor": "white",
            "showbackground": true,
            "ticks": "",
            "zerolinecolor": "white"
           },
           "yaxis": {
            "backgroundcolor": "#E5ECF6",
            "gridcolor": "white",
            "gridwidth": 2,
            "linecolor": "white",
            "showbackground": true,
            "ticks": "",
            "zerolinecolor": "white"
           },
           "zaxis": {
            "backgroundcolor": "#E5ECF6",
            "gridcolor": "white",
            "gridwidth": 2,
            "linecolor": "white",
            "showbackground": true,
            "ticks": "",
            "zerolinecolor": "white"
           }
          },
          "shapedefaults": {
           "line": {
            "color": "#2a3f5f"
           }
          },
          "ternary": {
           "aaxis": {
            "gridcolor": "white",
            "linecolor": "white",
            "ticks": ""
           },
           "baxis": {
            "gridcolor": "white",
            "linecolor": "white",
            "ticks": ""
           },
           "bgcolor": "#E5ECF6",
           "caxis": {
            "gridcolor": "white",
            "linecolor": "white",
            "ticks": ""
           }
          },
          "title": {
           "x": 0.05
          },
          "xaxis": {
           "automargin": true,
           "gridcolor": "white",
           "linecolor": "white",
           "ticks": "",
           "title": {
            "standoff": 15
           },
           "zerolinecolor": "white",
           "zerolinewidth": 2
          },
          "yaxis": {
           "automargin": true,
           "gridcolor": "white",
           "linecolor": "white",
           "ticks": "",
           "title": {
            "standoff": 15
           },
           "zerolinecolor": "white",
           "zerolinewidth": 2
          }
         }
        },
        "title": {
         "text": "Global Video Game Sales Each Year"
        },
        "xaxis": {
         "title": {
          "text": "Year of Release"
         }
        },
        "yaxis": {
         "title": {
          "text": "Global Sales (Millions)"
         }
        }
       }
      },
      "text/html": [
       "<div>                            <div id=\"585e7899-a94d-4d97-8658-fc8a9bc1815d\" class=\"plotly-graph-div\" style=\"height:525px; width:100%;\"></div>            <script type=\"text/javascript\">                require([\"plotly\"], function(Plotly) {                    window.PLOTLYENV=window.PLOTLYENV || {};                                    if (document.getElementById(\"585e7899-a94d-4d97-8658-fc8a9bc1815d\")) {                    Plotly.newPlot(                        \"585e7899-a94d-4d97-8658-fc8a9bc1815d\",                        [{\"marker\": {\"color\": \"green\", \"size\": 12}, \"mode\": \"markers\", \"type\": \"scatter\", \"x\": [2013, 2014, 2015, 2016, 2017], \"y\": [48.789999999999985, 177.96999999999997, 202.60000000000014, 193.0900000000002, 179.41000000000017]}],                        {\"template\": {\"data\": {\"bar\": [{\"error_x\": {\"color\": \"#2a3f5f\"}, \"error_y\": {\"color\": \"#2a3f5f\"}, \"marker\": {\"line\": {\"color\": \"#E5ECF6\", \"width\": 0.5}}, \"type\": \"bar\"}], \"barpolar\": [{\"marker\": {\"line\": {\"color\": \"#E5ECF6\", \"width\": 0.5}}, \"type\": \"barpolar\"}], \"carpet\": [{\"aaxis\": {\"endlinecolor\": \"#2a3f5f\", \"gridcolor\": \"white\", \"linecolor\": \"white\", \"minorgridcolor\": \"white\", \"startlinecolor\": \"#2a3f5f\"}, \"baxis\": {\"endlinecolor\": \"#2a3f5f\", \"gridcolor\": \"white\", \"linecolor\": \"white\", \"minorgridcolor\": \"white\", \"startlinecolor\": \"#2a3f5f\"}, \"type\": \"carpet\"}], \"choropleth\": [{\"colorbar\": {\"outlinewidth\": 0, \"ticks\": \"\"}, \"type\": \"choropleth\"}], \"contour\": [{\"colorbar\": {\"outlinewidth\": 0, \"ticks\": \"\"}, \"colorscale\": [[0.0, \"#0d0887\"], [0.1111111111111111, \"#46039f\"], [0.2222222222222222, \"#7201a8\"], [0.3333333333333333, \"#9c179e\"], [0.4444444444444444, \"#bd3786\"], [0.5555555555555556, \"#d8576b\"], [0.6666666666666666, \"#ed7953\"], [0.7777777777777778, \"#fb9f3a\"], [0.8888888888888888, \"#fdca26\"], [1.0, \"#f0f921\"]], \"type\": \"contour\"}], \"contourcarpet\": [{\"colorbar\": {\"outlinewidth\": 0, \"ticks\": \"\"}, \"type\": \"contourcarpet\"}], \"heatmap\": [{\"colorbar\": {\"outlinewidth\": 0, \"ticks\": \"\"}, \"colorscale\": [[0.0, \"#0d0887\"], [0.1111111111111111, \"#46039f\"], [0.2222222222222222, \"#7201a8\"], [0.3333333333333333, \"#9c179e\"], [0.4444444444444444, \"#bd3786\"], [0.5555555555555556, \"#d8576b\"], [0.6666666666666666, \"#ed7953\"], [0.7777777777777778, \"#fb9f3a\"], [0.8888888888888888, \"#fdca26\"], [1.0, \"#f0f921\"]], \"type\": \"heatmap\"}], \"heatmapgl\": [{\"colorbar\": {\"outlinewidth\": 0, \"ticks\": \"\"}, \"colorscale\": [[0.0, \"#0d0887\"], [0.1111111111111111, \"#46039f\"], [0.2222222222222222, \"#7201a8\"], [0.3333333333333333, \"#9c179e\"], [0.4444444444444444, \"#bd3786\"], [0.5555555555555556, \"#d8576b\"], [0.6666666666666666, \"#ed7953\"], [0.7777777777777778, \"#fb9f3a\"], [0.8888888888888888, \"#fdca26\"], [1.0, \"#f0f921\"]], \"type\": \"heatmapgl\"}], \"histogram\": [{\"marker\": {\"colorbar\": {\"outlinewidth\": 0, \"ticks\": \"\"}}, \"type\": \"histogram\"}], \"histogram2d\": [{\"colorbar\": {\"outlinewidth\": 0, \"ticks\": \"\"}, \"colorscale\": [[0.0, \"#0d0887\"], [0.1111111111111111, \"#46039f\"], [0.2222222222222222, \"#7201a8\"], [0.3333333333333333, \"#9c179e\"], [0.4444444444444444, \"#bd3786\"], [0.5555555555555556, \"#d8576b\"], [0.6666666666666666, \"#ed7953\"], [0.7777777777777778, \"#fb9f3a\"], [0.8888888888888888, \"#fdca26\"], [1.0, \"#f0f921\"]], \"type\": \"histogram2d\"}], \"histogram2dcontour\": [{\"colorbar\": {\"outlinewidth\": 0, \"ticks\": \"\"}, \"colorscale\": [[0.0, \"#0d0887\"], [0.1111111111111111, \"#46039f\"], [0.2222222222222222, \"#7201a8\"], [0.3333333333333333, \"#9c179e\"], [0.4444444444444444, \"#bd3786\"], [0.5555555555555556, \"#d8576b\"], [0.6666666666666666, \"#ed7953\"], [0.7777777777777778, \"#fb9f3a\"], [0.8888888888888888, \"#fdca26\"], [1.0, \"#f0f921\"]], \"type\": \"histogram2dcontour\"}], \"mesh3d\": [{\"colorbar\": {\"outlinewidth\": 0, \"ticks\": \"\"}, \"type\": \"mesh3d\"}], \"parcoords\": [{\"line\": {\"colorbar\": {\"outlinewidth\": 0, \"ticks\": \"\"}}, \"type\": \"parcoords\"}], \"pie\": [{\"automargin\": true, \"type\": \"pie\"}], \"scatter\": [{\"marker\": {\"colorbar\": {\"outlinewidth\": 0, \"ticks\": \"\"}}, \"type\": \"scatter\"}], \"scatter3d\": [{\"line\": {\"colorbar\": {\"outlinewidth\": 0, \"ticks\": \"\"}}, \"marker\": {\"colorbar\": {\"outlinewidth\": 0, \"ticks\": \"\"}}, \"type\": \"scatter3d\"}], \"scattercarpet\": [{\"marker\": {\"colorbar\": {\"outlinewidth\": 0, \"ticks\": \"\"}}, \"type\": \"scattercarpet\"}], \"scattergeo\": [{\"marker\": {\"colorbar\": {\"outlinewidth\": 0, \"ticks\": \"\"}}, \"type\": \"scattergeo\"}], \"scattergl\": [{\"marker\": {\"colorbar\": {\"outlinewidth\": 0, \"ticks\": \"\"}}, \"type\": \"scattergl\"}], \"scattermapbox\": [{\"marker\": {\"colorbar\": {\"outlinewidth\": 0, \"ticks\": \"\"}}, \"type\": \"scattermapbox\"}], \"scatterpolar\": [{\"marker\": {\"colorbar\": {\"outlinewidth\": 0, \"ticks\": \"\"}}, \"type\": \"scatterpolar\"}], \"scatterpolargl\": [{\"marker\": {\"colorbar\": {\"outlinewidth\": 0, \"ticks\": \"\"}}, \"type\": \"scatterpolargl\"}], \"scatterternary\": [{\"marker\": {\"colorbar\": {\"outlinewidth\": 0, \"ticks\": \"\"}}, \"type\": \"scatterternary\"}], \"surface\": [{\"colorbar\": {\"outlinewidth\": 0, \"ticks\": \"\"}, \"colorscale\": [[0.0, \"#0d0887\"], [0.1111111111111111, \"#46039f\"], [0.2222222222222222, \"#7201a8\"], [0.3333333333333333, \"#9c179e\"], [0.4444444444444444, \"#bd3786\"], [0.5555555555555556, \"#d8576b\"], [0.6666666666666666, \"#ed7953\"], [0.7777777777777778, \"#fb9f3a\"], [0.8888888888888888, \"#fdca26\"], [1.0, \"#f0f921\"]], \"type\": \"surface\"}], \"table\": [{\"cells\": {\"fill\": {\"color\": \"#EBF0F8\"}, \"line\": {\"color\": \"white\"}}, \"header\": {\"fill\": {\"color\": \"#C8D4E3\"}, \"line\": {\"color\": \"white\"}}, \"type\": \"table\"}]}, \"layout\": {\"annotationdefaults\": {\"arrowcolor\": \"#2a3f5f\", \"arrowhead\": 0, \"arrowwidth\": 1}, \"coloraxis\": {\"colorbar\": {\"outlinewidth\": 0, \"ticks\": \"\"}}, \"colorscale\": {\"diverging\": [[0, \"#8e0152\"], [0.1, \"#c51b7d\"], [0.2, \"#de77ae\"], [0.3, \"#f1b6da\"], [0.4, \"#fde0ef\"], [0.5, \"#f7f7f7\"], [0.6, \"#e6f5d0\"], [0.7, \"#b8e186\"], [0.8, \"#7fbc41\"], [0.9, \"#4d9221\"], [1, \"#276419\"]], \"sequential\": [[0.0, \"#0d0887\"], [0.1111111111111111, \"#46039f\"], [0.2222222222222222, \"#7201a8\"], [0.3333333333333333, \"#9c179e\"], [0.4444444444444444, \"#bd3786\"], [0.5555555555555556, \"#d8576b\"], [0.6666666666666666, \"#ed7953\"], [0.7777777777777778, \"#fb9f3a\"], [0.8888888888888888, \"#fdca26\"], [1.0, \"#f0f921\"]], \"sequentialminus\": [[0.0, \"#0d0887\"], [0.1111111111111111, \"#46039f\"], [0.2222222222222222, \"#7201a8\"], [0.3333333333333333, \"#9c179e\"], [0.4444444444444444, \"#bd3786\"], [0.5555555555555556, \"#d8576b\"], [0.6666666666666666, \"#ed7953\"], [0.7777777777777778, \"#fb9f3a\"], [0.8888888888888888, \"#fdca26\"], [1.0, \"#f0f921\"]]}, \"colorway\": [\"#636efa\", \"#EF553B\", \"#00cc96\", \"#ab63fa\", \"#FFA15A\", \"#19d3f3\", \"#FF6692\", \"#B6E880\", \"#FF97FF\", \"#FECB52\"], \"font\": {\"color\": \"#2a3f5f\"}, \"geo\": {\"bgcolor\": \"white\", \"lakecolor\": \"white\", \"landcolor\": \"#E5ECF6\", \"showlakes\": true, \"showland\": true, \"subunitcolor\": \"white\"}, \"hoverlabel\": {\"align\": \"left\"}, \"hovermode\": \"closest\", \"mapbox\": {\"style\": \"light\"}, \"paper_bgcolor\": \"white\", \"plot_bgcolor\": \"#E5ECF6\", \"polar\": {\"angularaxis\": {\"gridcolor\": \"white\", \"linecolor\": \"white\", \"ticks\": \"\"}, \"bgcolor\": \"#E5ECF6\", \"radialaxis\": {\"gridcolor\": \"white\", \"linecolor\": \"white\", \"ticks\": \"\"}}, \"scene\": {\"xaxis\": {\"backgroundcolor\": \"#E5ECF6\", \"gridcolor\": \"white\", \"gridwidth\": 2, \"linecolor\": \"white\", \"showbackground\": true, \"ticks\": \"\", \"zerolinecolor\": \"white\"}, \"yaxis\": {\"backgroundcolor\": \"#E5ECF6\", \"gridcolor\": \"white\", \"gridwidth\": 2, \"linecolor\": \"white\", \"showbackground\": true, \"ticks\": \"\", \"zerolinecolor\": \"white\"}, \"zaxis\": {\"backgroundcolor\": \"#E5ECF6\", \"gridcolor\": \"white\", \"gridwidth\": 2, \"linecolor\": \"white\", \"showbackground\": true, \"ticks\": \"\", \"zerolinecolor\": \"white\"}}, \"shapedefaults\": {\"line\": {\"color\": \"#2a3f5f\"}}, \"ternary\": {\"aaxis\": {\"gridcolor\": \"white\", \"linecolor\": \"white\", \"ticks\": \"\"}, \"baxis\": {\"gridcolor\": \"white\", \"linecolor\": \"white\", \"ticks\": \"\"}, \"bgcolor\": \"#E5ECF6\", \"caxis\": {\"gridcolor\": \"white\", \"linecolor\": \"white\", \"ticks\": \"\"}}, \"title\": {\"x\": 0.05}, \"xaxis\": {\"automargin\": true, \"gridcolor\": \"white\", \"linecolor\": \"white\", \"ticks\": \"\", \"title\": {\"standoff\": 15}, \"zerolinecolor\": \"white\", \"zerolinewidth\": 2}, \"yaxis\": {\"automargin\": true, \"gridcolor\": \"white\", \"linecolor\": \"white\", \"ticks\": \"\", \"title\": {\"standoff\": 15}, \"zerolinecolor\": \"white\", \"zerolinewidth\": 2}}}, \"title\": {\"text\": \"Global Video Game Sales Each Year\"}, \"xaxis\": {\"title\": {\"text\": \"Year of Release\"}}, \"yaxis\": {\"title\": {\"text\": \"Global Sales (Millions)\"}}},                        {\"responsive\": true}                    ).then(function(){\n",
       "                            \n",
       "var gd = document.getElementById('585e7899-a94d-4d97-8658-fc8a9bc1815d');\n",
       "var x = new MutationObserver(function (mutations, observer) {{\n",
       "        var display = window.getComputedStyle(gd).display;\n",
       "        if (!display || display === 'none') {{\n",
       "            console.log([gd, 'removed!']);\n",
       "            Plotly.purge(gd);\n",
       "            observer.disconnect();\n",
       "        }}\n",
       "}});\n",
       "\n",
       "// Listen for the removal of the full notebook cells\n",
       "var notebookContainer = gd.closest('#notebook-container');\n",
       "if (notebookContainer) {{\n",
       "    x.observe(notebookContainer, {childList: true});\n",
       "}}\n",
       "\n",
       "// Listen for the clearing of the current output cell\n",
       "var outputEl = gd.closest('.output');\n",
       "if (outputEl) {{\n",
       "    x.observe(outputEl, {childList: true});\n",
       "}}\n",
       "\n",
       "                        })                };                });            </script>        </div>"
      ]
     },
     "metadata": {},
     "output_type": "display_data"
    }
   ],
   "source": [
    "#Video Games Sales Yearly as a Scatter Plot\n",
    "fig = go.Figure()\n",
    "fig.add_trace(go.Scatter(\n",
    "    x=[2013, 2014, 2015, 2016, 2017],\n",
    "    y= VGS.groupby('Year_of_Release')['Global_Sales'].sum(),\n",
    "    marker=dict(color=\"green\", size=12),\n",
    "    mode=\"markers\",\n",
    "\n",
    "))\n",
    "\n",
    "fig.update_layout(title=\"Global Video Game Sales Each Year\",\n",
    "                  xaxis_title=\"Year of Release\",\n",
    "                  yaxis_title=\"Global Sales (Millions)\")\n",
    "\n",
    "fig.show()"
   ]
  },
  {
   "cell_type": "code",
   "execution_count": 24,
   "metadata": {},
   "outputs": [
    {
     "data": {
      "text/plain": [
       "Year_of_Release\n",
       "2013     9.52\n",
       "2014    22.48\n",
       "2015    30.96\n",
       "2016    38.51\n",
       "2017    31.34\n",
       "Name: Global_Sales, dtype: float64"
      ]
     },
     "execution_count": 24,
     "metadata": {},
     "output_type": "execute_result"
    }
   ],
   "source": [
    "#Finding the Yearly Breakdown of Sales by Each Genre\n",
    "xsports=VGS[VGS.Genre==\"Sports\"] #Initialising the Varibale\n",
    "xaction=VGS[VGS.Genre==\"Action\"]\n",
    "xrole=VGS[VGS.Genre==\"Role-Playing\"]\n",
    "xshooter=VGS[VGS.Genre==\"Shooter\"]\n",
    "xadventure=VGS[VGS.Genre==\"Adventure\"]\n",
    "xrace=VGS[VGS.Genre==\"Racing\"]\n",
    "xplatform=VGS[VGS.Genre==\"Platform\"]\n",
    "xsimulation=VGS[VGS.Genre==\"Simulation\"]\n",
    "xfight=VGS[VGS.Genre==\"Fighting\"]\n",
    "xstrategy=VGS[VGS.Genre==\"Strategy\"]\n",
    "xpuzzle=VGS[VGS.Genre==\"Puzzle\"]\n",
    "xactionadventure=VGS[VGS.Genre==\"Action-Adventure\"]\n",
    "xmmo=VGS[VGS.Genre==\"MMO\"]\n",
    "xmisc=VGS[VGS.Genre==\"Misc\"]\n",
    "xmusic=VGS[VGS.Genre==\"Music\"]\n",
    "xvis=VGS[VGS.Genre==\"Visual Novel\"]\n",
    "xparty=VGS[VGS.Genre==\"Party\"]\n",
    "\n",
    "\n",
    "T1 =xsports.groupby(\"Year_of_Release\")[\"Global_Sales\"].sum() #Finding the Sum of Global Sales for Each Year for the Sports Genre\n",
    "T2=xaction.groupby(\"Year_of_Release\")[\"Global_Sales\"].sum()\n",
    "T3=xrole.groupby(\"Year_of_Release\")[\"Global_Sales\"].sum()\n",
    "T4=xshooter.groupby(\"Year_of_Release\")[\"Global_Sales\"].sum()\n",
    "T5=xadventure.groupby(\"Year_of_Release\")[\"Global_Sales\"].sum()\n",
    "T6=xrace.groupby(\"Year_of_Release\")[\"Global_Sales\"].sum()\n",
    "T7=xplatform.groupby(\"Year_of_Release\")[\"Global_Sales\"].sum()\n",
    "T8=xsimulation.groupby(\"Year_of_Release\")[\"Global_Sales\"].sum()\n",
    "T9=xfight.groupby(\"Year_of_Release\")[\"Global_Sales\"].sum()\n",
    "T10=xstrategy.groupby(\"Year_of_Release\")[\"Global_Sales\"].sum()\n",
    "T11=xpuzzle.groupby(\"Year_of_Release\")[\"Global_Sales\"].sum()\n",
    "T12=xactionadventure.groupby(\"Year_of_Release\")[\"Global_Sales\"].sum()\n",
    "T13=xmmo.groupby(\"Year_of_Release\")[\"Global_Sales\"].sum()\n",
    "T14=xmisc.groupby(\"Year_of_Release\")[\"Global_Sales\"].sum()\n",
    "T15=xmusic.groupby(\"Year_of_Release\")[\"Global_Sales\"].sum()\n",
    "T16=xvis.groupby(\"Year_of_Release\")[\"Global_Sales\"].sum()\n",
    "T17=xparty.groupby(\"Year_of_Release\")[\"Global_Sales\"].sum()\n",
    "\n",
    "T1"
   ]
  },
  {
   "cell_type": "code",
   "execution_count": null,
   "metadata": {},
   "outputs": [],
   "source": []
  }
 ],
 "metadata": {
  "kernelspec": {
   "display_name": "Python 3",
   "language": "python",
   "name": "python3"
  },
  "language_info": {
   "codemirror_mode": {
    "name": "ipython",
    "version": 3
   },
   "file_extension": ".py",
   "mimetype": "text/x-python",
   "name": "python",
   "nbconvert_exporter": "python",
   "pygments_lexer": "ipython3",
   "version": "3.7.6"
  }
 },
 "nbformat": 4,
 "nbformat_minor": 4
}
